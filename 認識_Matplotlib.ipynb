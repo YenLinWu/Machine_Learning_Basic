{
  "nbformat": 4,
  "nbformat_minor": 0,
  "metadata": {
    "colab": {
      "name": "認識_Matplotlib.ipynb",
      "provenance": [],
      "collapsed_sections": [
        "tbL1zMw0Cd0V",
        "J2shStQFUShv",
        "fd4JGXdsXK-5",
        "O0SX_5uZ0F1O",
        "QeiF2_YpKoBf",
        "M0kOZExwKxzR",
        "1CHwfu1MK372",
        "cbb90D_uMZJf",
        "BS9mXZF1Pq-M",
        "R6GK3Wbgukqv",
        "rZY3kth3vzL_",
        "quQycS6owUFw",
        "3PjyvZuUzEnO",
        "1IN1EucjX0Q8",
        "YoOrG-lwtEC0",
        "8NgKbm7aALsi",
        "jgdF18QdAq75",
        "ti_d_EFaA2RB",
        "NUHhsoSAIOC6",
        "qFb6OHmJBzCs",
        "P94utQtQx9zl",
        "FG6M8Dr0-RXh",
        "Pc3lfNYW22nR",
        "X3TtAJNeZxCv",
        "qKcXl4l6bcdt",
        "sRwYPss0bj0N",
        "9h30hFhYek87",
        "JS8ZSwffUZRH",
        "izlLPssvEjOk",
        "JXYNcRjkXz4r",
        "tt6KyB8AYWg7",
        "s_7aFdXGYfr-",
        "1KMeOdqtZZrz",
        "s4mhHsla6gDC",
        "DMolnS8fDnv8",
        "KIF7Cb1CIYeS",
        "Sel9RqXgJPwq",
        "fT3mVKsfWbTw",
        "3zSlbHXnhd0W",
        "gATZiu3-buH7",
        "yRVysPYcamno",
        "yUgyQ72MW8Np",
        "xyBIq1s3mmpe",
        "lHClgjLUN3ID",
        "o8MnK317avNt",
        "sZcR0EvHX1mV",
        "wVhF6CYrCNzH",
        "cW5XGwNLgsm8",
        "npDE9TJ5nhkj",
        "DkkXDDiZOKLK"
      ],
      "toc_visible": true,
      "include_colab_link": true
    },
    "kernelspec": {
      "name": "python3",
      "display_name": "Python 3"
    },
    "language_info": {
      "name": "python"
    }
  },
  "cells": [
    {
      "cell_type": "markdown",
      "metadata": {
        "id": "view-in-github",
        "colab_type": "text"
      },
      "source": [
        "<a href=\"https://colab.research.google.com/github/YenLinWu/Machine_Learning_Basic/blob/main/%E8%AA%8D%E8%AD%98_Matplotlib.ipynb\" target=\"_parent\"><img src=\"https://colab.research.google.com/assets/colab-badge.svg\" alt=\"Open In Colab\"/></a>"
      ]
    },
    {
      "cell_type": "markdown",
      "metadata": {
        "id": "EHC62NX1Deaq"
      },
      "source": [
        "<div align='center' ><font size='70'>認識 Matplotlib</font></div>\n",
        "\n",
        "<center>作者: Tom Wu (<a href=\"https://github.com/YenLinWu\">Github</a>) &nbsp&nbsp&nbsp 日期: June 16, 2021 </center>"
      ]
    },
    {
      "cell_type": "markdown",
      "metadata": {
        "id": "f4EfZP8ajWzf"
      },
      "source": [
        "# 前言  \n",
        "本篇文章將介紹 Python 中基礎的繪圖套件 - <font color=\"#00dd00\">**Matplotlib**</font> ，此套件提供多種基本的繪圖工具，幫助我們進行<font color=\"#00dd00\">**資料視覺化( Data Visulization )**</font >，探索資料的分佈情況與呈現資料分析的結果。\n",
        "  \n",
        "讀者們在閱讀本篇文章後，將具備下列基本能力：\n",
        "  1. 繪製折線圖( Line Chart )、堆疊面積圖( Stacked Area Chart )、 散佈圖( Scatter Plot )、長條圖( Bar Chart )、圓餅圖( Pie Chart )、直方圖( Histogtams )；  \n",
        "  2. 設定其他繪圖的相關設定，例如 : 標題、座標軸標籤/刻度等。  \n"
      ]
    },
    {
      "cell_type": "markdown",
      "metadata": {
        "id": "tbL1zMw0Cd0V"
      },
      "source": [
        "# 匯入套件"
      ]
    },
    {
      "cell_type": "code",
      "metadata": {
        "id": "RaOUHSFuTeNw",
        "colab": {
          "base_uri": "https://localhost:8080/"
        },
        "outputId": "d3606305-720c-4150-ed8a-588cadd6aa62"
      },
      "source": [
        "import sys\n",
        "import numpy as np\n",
        "import pandas as pd \n",
        "import matplotlib\n",
        "import matplotlib.pyplot as plt\n",
        "\n",
        "print( 'Python Version:', sys.version[0:7] ) \n",
        "print( 'NumPy version: ', np.__version__ )\n",
        "print( 'Pandas version: ', pd.__version__ )\n",
        "print( 'Matplotlib version: ', matplotlib. __version__)"
      ],
      "execution_count": null,
      "outputs": [
        {
          "output_type": "stream",
          "text": [
            "NumPy version:  1.19.5\n",
            "Pandas version:  1.1.5\n",
            "Matplotlib version:  3.2.2\n"
          ],
          "name": "stdout"
        }
      ]
    },
    {
      "cell_type": "markdown",
      "metadata": {
        "id": "J2shStQFUShv"
      },
      "source": [
        "# **設定 Colab 繪圖環境**\n",
        "\n",
        "為在 Colab 中繪圖能顯示中文字體，我們須先變更 Matplotlib 套件的字形設定。 \n"
      ]
    },
    {
      "cell_type": "code",
      "metadata": {
        "id": "41IGL7xPUSp6"
      },
      "source": [
        "import matplotlib as mpl\n",
        "\n",
        "mpl.font_manager.fontManager.addfont( 'taipei_sans_tc_beta.ttf' )\n",
        "mpl.rc( 'font', family='Taipei Sans TC Beta' )"
      ],
      "execution_count": null,
      "outputs": []
    },
    {
      "cell_type": "markdown",
      "metadata": {
        "id": "fd4JGXdsXK-5"
      },
      "source": [
        "# **折線圖 Line Chart**\n",
        "\n",
        "折線圖( Line Chart )常用來觀察資料的變化趨勢，例如 : 公司每月的營收、網站一天中各時段的瀏覽量等。\n",
        "</br>\n",
        "\n",
        " \n"
      ]
    },
    {
      "cell_type": "code",
      "metadata": {
        "colab": {
          "base_uri": "https://localhost:8080/",
          "height": 619
        },
        "id": "aZOKtq1Tmpx_",
        "cellView": "form",
        "outputId": "77fb21c6-1b6c-4031-f8d4-aa0c298e2e92"
      },
      "source": [
        "#@markdown 資料來源: [Our World in Data](https://ourworldindata.org/explorers/coronavirus-data-explorer?zoomToSelection=true&time=earliest..2021-05-03&pickerSort=asc&pickerMetric=location&Metric=Confirmed+cases&Interval=7-day+rolling+average&Relative+to+Population=true&Align+outbreaks=false&country=USA~GBR~DEU~CHN~KOR~TWN~JPN)\n",
        "\n",
        "from IPython.core.display import HTML\n",
        "\n",
        "HTML('<iframe src=\"https://ourworldindata.org/explorers/coronavirus-data-explorer?zoomToSelection=true&time=earliest..2021-05-03&pickerSort=asc&pickerMetric=location&Metric=Confirmed+cases&Interval=7-day+rolling+average&Relative+to+Population=true&Align+outbreaks=false&country=USA~GBR~DEU~CHN~KOR~TWN~JPN&hideControls=true\" loading=\"lazy\" style=\"width: 100%; height: 600px; border: 0px none;\"></iframe>' )"
      ],
      "execution_count": null,
      "outputs": [
        {
          "output_type": "execute_result",
          "data": {
            "text/html": [
              "<iframe src=\"https://ourworldindata.org/explorers/coronavirus-data-explorer?zoomToSelection=true&time=earliest..2021-05-03&pickerSort=asc&pickerMetric=location&Metric=Confirmed+cases&Interval=7-day+rolling+average&Relative+to+Population=true&Align+outbreaks=false&country=USA~GBR~DEU~CHN~KOR~TWN~JPN&hideControls=true\" loading=\"lazy\" style=\"width: 100%; height: 600px; border: 0px none;\"></iframe>"
            ],
            "text/plain": [
              "<IPython.core.display.HTML object>"
            ]
          },
          "metadata": {
            "tags": []
          },
          "execution_count": 3
        }
      ]
    },
    {
      "cell_type": "markdown",
      "metadata": {
        "id": "1nMoK0dbQT2w"
      },
      "source": [
        "使用 [`matplotlib.pyplot.plot()`](https://matplotlib.org/stable/api/_as_gen/matplotlib.pyplot.plot.html) 函數可在直角坐標平面中繪製折線圖，常用的參數說明如下:  \n",
        "  * linestyle ( 或 ls ) : 線條的樣式，常用的有 : '-' 實線、 '--' 虛線、'_.' 點虛線、':' 點線；   \n",
        "  * linewidth ( 或 lw ) : 線條的寬度；    \n",
        "  * marker : 標記點的樣式\n",
        "    * 'o' : 圓圈； \n",
        "    * '*' : 星號；\n",
        "    * '+' : 加號；   \n",
        "    * 其他的樣式請參考 [matplotlib.markers](https://matplotlib.org/stable/api/markers_api.html#module-matplotlib.markers)；  \n",
        "  * markersize : 標記點的大小；  \n",
        "  * color : 線條與標記點的顏色，可透過顏色代號或 RGB 序對進行設定，下列為常用的顏色代號與序對 :   \n",
        "    * 紅色 - 'r' / (1,0,0) \n",
        "    * 綠色 - 'g' / (0,1,0) \n",
        "    * 藍色 - 'b' / (0,0,1) \n",
        "    * 黃色 - 'y' / (1,1,0)   \n",
        "  * alpha : 折線圖的透明度，參數範圍為 $[0,1]$，其中，0 表示完全透明，1 表示不透明。"
      ]
    },
    {
      "cell_type": "code",
      "metadata": {
        "colab": {
          "base_uri": "https://localhost:8080/",
          "height": 265
        },
        "id": "jvVZsl5_XVs5",
        "outputId": "3fdd131c-6518-44e3-c8c4-b54ea87f254a"
      },
      "source": [
        "# Data \n",
        "x = np.arange(0,5,0.2)\n",
        "y1 = x \n",
        "y2 = x**2\n",
        "\n",
        "# 折線圖 Line Chart\n",
        "plt.plot( x, y1, linestyle='-', marker='o', color='r' )\n",
        "plt.plot( x, y2, linestyle='--', marker='*', color='b', alpha=0.3 )\n",
        "\n",
        "plt.show()"
      ],
      "execution_count": null,
      "outputs": [
        {
          "output_type": "display_data",
          "data": {
            "image/png": "[encoded data removed]",
            "text/plain": [
              "<Figure size 432x288 with 1 Axes>"
            ]
          },
          "metadata": {
            "tags": [],
            "needs_background": "light"
          }
        }
      ]
    },
    {
      "cell_type": "markdown",
      "metadata": {
        "id": "O0SX_5uZ0F1O"
      },
      "source": [
        "## 實作範例  \n",
        "\n",
        "資料來源 : [COVID-19 全球疫情地圖](https://covid-19.nchc.org.tw/dt_005-covidTable_taiwan.php?downloadall=yes) COVID-19 疫情紀錄表單  \n",
        "資料下載時間 : 2021/6/8 18:13"
      ]
    },
    {
      "cell_type": "markdown",
      "metadata": {
        "id": "QeiF2_YpKoBf"
      },
      "source": [
        "### Step 1 : 匯入資料"
      ]
    },
    {
      "cell_type": "code",
      "metadata": {
        "colab": {
          "base_uri": "https://localhost:8080/"
        },
        "id": "zgOKq9wb0aNw",
        "outputId": "203f2cd9-e355-4762-d09e-f04f2655ba62"
      },
      "source": [
        "# 匯入 xlsx 檔\n",
        "raw_data = pd.read_excel( '/content/COVID-19 疫情紀錄表單.xlsx', header=1  )\n",
        "raw_data"
      ],
      "execution_count": null,
      "outputs": [
        {
          "output_type": "execute_result",
          "data": {
            "text/html": [
              "<div>\n",
              "<style scoped>\n",
              "    .dataframe tbody tr th:only-of-type {\n",
              "        vertical-align: middle;\n",
              "    }\n",
              "\n",
              "    .dataframe tbody tr th {\n",
              "        vertical-align: top;\n",
              "    }\n",
              "\n",
              "    .dataframe thead th {\n",
              "        text-align: right;\n",
              "    }\n",
              "</style>\n",
              "<table border=\"1\" class=\"dataframe\">\n",
              "  <thead>\n",
              "    <tr style=\"text-align: right;\">\n",
              "      <th></th>\n",
              "      <th>ID</th>\n",
              "      <th>國家</th>\n",
              "      <th>檢核日期</th>\n",
              "      <th>確診數</th>\n",
              "      <th>死亡數</th>\n",
              "      <th>解除隔離數</th>\n",
              "      <th>隔離中人數</th>\n",
              "      <th>解封指數</th>\n",
              "      <th>7天平均解封指數</th>\n",
              "      <th>7天平均新增確診數</th>\n",
              "      <th>14天平均新增確診數</th>\n",
              "      <th>交流距離</th>\n",
              "    </tr>\n",
              "  </thead>\n",
              "  <tbody>\n",
              "    <tr>\n",
              "      <th>0</th>\n",
              "      <td>53629</td>\n",
              "      <td>TW/Taiwan</td>\n",
              "      <td>2021-06-08</td>\n",
              "      <td>11694</td>\n",
              "      <td>308</td>\n",
              "      <td>2157</td>\n",
              "      <td>9229</td>\n",
              "      <td>4.568</td>\n",
              "      <td>7.583</td>\n",
              "      <td>407.43</td>\n",
              "      <td>445.57</td>\n",
              "      <td>3199.79</td>\n",
              "    </tr>\n",
              "    <tr>\n",
              "      <th>1</th>\n",
              "      <td>53630</td>\n",
              "      <td>TW/Taiwan</td>\n",
              "      <td>2021-06-07</td>\n",
              "      <td>11491</td>\n",
              "      <td>286</td>\n",
              "      <td>1133</td>\n",
              "      <td>10072</td>\n",
              "      <td>9.401</td>\n",
              "      <td>8.309</td>\n",
              "      <td>425.71</td>\n",
              "      <td>469.57</td>\n",
              "      <td>3474.75</td>\n",
              "    </tr>\n",
              "    <tr>\n",
              "      <th>2</th>\n",
              "      <td>53631</td>\n",
              "      <td>TW/Taiwan</td>\n",
              "      <td>2021-06-06</td>\n",
              "      <td>11298</td>\n",
              "      <td>260</td>\n",
              "      <td>1133</td>\n",
              "      <td>9905</td>\n",
              "      <td>9.207</td>\n",
              "      <td>7.913</td>\n",
              "      <td>448.29</td>\n",
              "      <td>498.29</td>\n",
              "      <td>3777.46</td>\n",
              "    </tr>\n",
              "    <tr>\n",
              "      <th>3</th>\n",
              "      <td>53632</td>\n",
              "      <td>TW/Taiwan</td>\n",
              "      <td>2021-06-05</td>\n",
              "      <td>10956</td>\n",
              "      <td>224</td>\n",
              "      <td>1133</td>\n",
              "      <td>9599</td>\n",
              "      <td>8.872</td>\n",
              "      <td>7.497</td>\n",
              "      <td>450.00</td>\n",
              "      <td>506.71</td>\n",
              "      <td>3956.59</td>\n",
              "    </tr>\n",
              "    <tr>\n",
              "      <th>4</th>\n",
              "      <td>53633</td>\n",
              "      <td>TW/Taiwan</td>\n",
              "      <td>2021-06-04</td>\n",
              "      <td>10446</td>\n",
              "      <td>187</td>\n",
              "      <td>1133</td>\n",
              "      <td>9126</td>\n",
              "      <td>8.388</td>\n",
              "      <td>7.084</td>\n",
              "      <td>447.29</td>\n",
              "      <td>521.93</td>\n",
              "      <td>3954.68</td>\n",
              "    </tr>\n",
              "    <tr>\n",
              "      <th>...</th>\n",
              "      <td>...</td>\n",
              "      <td>...</td>\n",
              "      <td>...</td>\n",
              "      <td>...</td>\n",
              "      <td>...</td>\n",
              "      <td>...</td>\n",
              "      <td>...</td>\n",
              "      <td>...</td>\n",
              "      <td>...</td>\n",
              "      <td>...</td>\n",
              "      <td>...</td>\n",
              "      <td>...</td>\n",
              "    </tr>\n",
              "    <tr>\n",
              "      <th>487</th>\n",
              "      <td>54116</td>\n",
              "      <td>TW/Taiwan</td>\n",
              "      <td>2020-02-07</td>\n",
              "      <td>16</td>\n",
              "      <td>0</td>\n",
              "      <td>1</td>\n",
              "      <td>15</td>\n",
              "      <td>15.000</td>\n",
              "      <td>39.000</td>\n",
              "      <td>0.86</td>\n",
              "      <td>0.00</td>\n",
              "      <td>6.47</td>\n",
              "    </tr>\n",
              "    <tr>\n",
              "      <th>488</th>\n",
              "      <td>54117</td>\n",
              "      <td>TW/Taiwan</td>\n",
              "      <td>2020-02-06</td>\n",
              "      <td>16</td>\n",
              "      <td>0</td>\n",
              "      <td>1</td>\n",
              "      <td>15</td>\n",
              "      <td>15.000</td>\n",
              "      <td>110.000</td>\n",
              "      <td>1.00</td>\n",
              "      <td>0.00</td>\n",
              "      <td>7.00</td>\n",
              "    </tr>\n",
              "    <tr>\n",
              "      <th>489</th>\n",
              "      <td>54118</td>\n",
              "      <td>TW/Taiwan</td>\n",
              "      <td>2020-02-05</td>\n",
              "      <td>11</td>\n",
              "      <td>0</td>\n",
              "      <td>0</td>\n",
              "      <td>11</td>\n",
              "      <td>999.000</td>\n",
              "      <td>999.000</td>\n",
              "      <td>0.43</td>\n",
              "      <td>0.00</td>\n",
              "      <td>2.20</td>\n",
              "    </tr>\n",
              "    <tr>\n",
              "      <th>490</th>\n",
              "      <td>54119</td>\n",
              "      <td>TW/Taiwan</td>\n",
              "      <td>2020-02-04</td>\n",
              "      <td>11</td>\n",
              "      <td>0</td>\n",
              "      <td>0</td>\n",
              "      <td>11</td>\n",
              "      <td>999.000</td>\n",
              "      <td>999.000</td>\n",
              "      <td>0.43</td>\n",
              "      <td>0.00</td>\n",
              "      <td>2.40</td>\n",
              "    </tr>\n",
              "    <tr>\n",
              "      <th>491</th>\n",
              "      <td>54120</td>\n",
              "      <td>TW/Taiwan</td>\n",
              "      <td>2020-02-03</td>\n",
              "      <td>10</td>\n",
              "      <td>0</td>\n",
              "      <td>0</td>\n",
              "      <td>10</td>\n",
              "      <td>999.000</td>\n",
              "      <td>999.000</td>\n",
              "      <td>0.29</td>\n",
              "      <td>0.00</td>\n",
              "      <td>1.53</td>\n",
              "    </tr>\n",
              "  </tbody>\n",
              "</table>\n",
              "<p>492 rows × 12 columns</p>\n",
              "</div>"
            ],
            "text/plain": [
              "        ID         國家        檢核日期  ...  7天平均新增確診數  14天平均新增確診數     交流距離\n",
              "0    53629  TW/Taiwan  2021-06-08  ...     407.43      445.57  3199.79\n",
              "1    53630  TW/Taiwan  2021-06-07  ...     425.71      469.57  3474.75\n",
              "2    53631  TW/Taiwan  2021-06-06  ...     448.29      498.29  3777.46\n",
              "3    53632  TW/Taiwan  2021-06-05  ...     450.00      506.71  3956.59\n",
              "4    53633  TW/Taiwan  2021-06-04  ...     447.29      521.93  3954.68\n",
              "..     ...        ...         ...  ...        ...         ...      ...\n",
              "487  54116  TW/Taiwan  2020-02-07  ...       0.86        0.00     6.47\n",
              "488  54117  TW/Taiwan  2020-02-06  ...       1.00        0.00     7.00\n",
              "489  54118  TW/Taiwan  2020-02-05  ...       0.43        0.00     2.20\n",
              "490  54119  TW/Taiwan  2020-02-04  ...       0.43        0.00     2.40\n",
              "491  54120  TW/Taiwan  2020-02-03  ...       0.29        0.00     1.53\n",
              "\n",
              "[492 rows x 12 columns]"
            ]
          },
          "metadata": {
            "tags": []
          },
          "execution_count": 5
        }
      ]
    },
    {
      "cell_type": "code",
      "metadata": {
        "colab": {
          "base_uri": "https://localhost:8080/"
        },
        "id": "pTiGR_Fii5m5",
        "outputId": "89962c62-dc9c-46c6-96e7-c32bab426216"
      },
      "source": [
        "# 檢視各欄位的資料型態與缺失值狀況\n",
        "raw_data.info()"
      ],
      "execution_count": null,
      "outputs": [
        {
          "output_type": "stream",
          "text": [
            "<class 'pandas.core.frame.DataFrame'>\n",
            "RangeIndex: 492 entries, 0 to 491\n",
            "Data columns (total 12 columns):\n",
            " #   Column      Non-Null Count  Dtype  \n",
            "---  ------      --------------  -----  \n",
            " 0   ID          492 non-null    int64  \n",
            " 1   國家          492 non-null    object \n",
            " 2   檢核日期        492 non-null    object \n",
            " 3   確診數         492 non-null    int64  \n",
            " 4   死亡數         492 non-null    int64  \n",
            " 5   解除隔離數       492 non-null    int64  \n",
            " 6   隔離中人數       492 non-null    int64  \n",
            " 7   解封指數        492 non-null    float64\n",
            " 8   7天平均解封指數    492 non-null    float64\n",
            " 9   7天平均新增確診數   492 non-null    float64\n",
            " 10  14天平均新增確診數  492 non-null    float64\n",
            " 11  交流距離        492 non-null    float64\n",
            "dtypes: float64(5), int64(5), object(2)\n",
            "memory usage: 46.2+ KB\n"
          ],
          "name": "stdout"
        }
      ]
    },
    {
      "cell_type": "markdown",
      "metadata": {
        "id": "M0kOZExwKxzR"
      },
      "source": [
        "### Step 2 : 篩選資料   \n",
        "  \n",
        "從【檢核日期】欄位中，篩選出 2021年 5、6 月份的資料，且取出【檢核日期】、【確診數】兩欄位作為後續繪圖使用的資料 :  \n",
        "- Hint : [Select by partial string from a pandas DataFrame](https://stackoverflow.com/questions/11350770/select-by-partial-string-from-a-pandas-dataframe)"
      ]
    },
    {
      "cell_type": "code",
      "metadata": {
        "colab": {
          "base_uri": "https://localhost:8080/"
        },
        "id": "gea3F-Qw42jO",
        "outputId": "b63d33fa-3b5f-4346-b611-ed0e8947592e"
      },
      "source": [
        "# 篩選 5 、 6 月份的資料 \n",
        "# 註: '檢核日期' 欄位資料為文字型態\n",
        "plot_df = raw_data[ raw_data['檢核日期'].str.contains('2021-05')|raw_data['檢核日期'].str.contains('2021-06') ][['檢核日期','確診數']]\n",
        "\n",
        "print( 'Shape of Filtered Data = ', plot_df.shape, '\\n' )\n",
        "plot_df.head()"
      ],
      "execution_count": null,
      "outputs": [
        {
          "output_type": "stream",
          "text": [
            "Shape of Filtered Data =  (39, 2) \n",
            "\n"
          ],
          "name": "stdout"
        },
        {
          "output_type": "execute_result",
          "data": {
            "text/html": [
              "<div>\n",
              "<style scoped>\n",
              "    .dataframe tbody tr th:only-of-type {\n",
              "        vertical-align: middle;\n",
              "    }\n",
              "\n",
              "    .dataframe tbody tr th {\n",
              "        vertical-align: top;\n",
              "    }\n",
              "\n",
              "    .dataframe thead th {\n",
              "        text-align: right;\n",
              "    }\n",
              "</style>\n",
              "<table border=\"1\" class=\"dataframe\">\n",
              "  <thead>\n",
              "    <tr style=\"text-align: right;\">\n",
              "      <th></th>\n",
              "      <th>檢核日期</th>\n",
              "      <th>確診數</th>\n",
              "    </tr>\n",
              "  </thead>\n",
              "  <tbody>\n",
              "    <tr>\n",
              "      <th>0</th>\n",
              "      <td>2021-06-08</td>\n",
              "      <td>11694</td>\n",
              "    </tr>\n",
              "    <tr>\n",
              "      <th>1</th>\n",
              "      <td>2021-06-07</td>\n",
              "      <td>11491</td>\n",
              "    </tr>\n",
              "    <tr>\n",
              "      <th>2</th>\n",
              "      <td>2021-06-06</td>\n",
              "      <td>11298</td>\n",
              "    </tr>\n",
              "    <tr>\n",
              "      <th>3</th>\n",
              "      <td>2021-06-05</td>\n",
              "      <td>10956</td>\n",
              "    </tr>\n",
              "    <tr>\n",
              "      <th>4</th>\n",
              "      <td>2021-06-04</td>\n",
              "      <td>10446</td>\n",
              "    </tr>\n",
              "  </tbody>\n",
              "</table>\n",
              "</div>"
            ],
            "text/plain": [
              "         檢核日期    確診數\n",
              "0  2021-06-08  11694\n",
              "1  2021-06-07  11491\n",
              "2  2021-06-06  11298\n",
              "3  2021-06-05  10956\n",
              "4  2021-06-04  10446"
            ]
          },
          "metadata": {
            "tags": []
          },
          "execution_count": 7
        }
      ]
    },
    {
      "cell_type": "markdown",
      "metadata": {
        "id": "1CHwfu1MK372"
      },
      "source": [
        "### Step 3 : 處理日期型態的資料    \n",
        "\n",
        "針對 【檢核日期】 欄位，將其資料型態從字串傳換成日期型態。透過 [`pandas.DataFrame.astype()`](https://pandas.pydata.org/pandas-docs/stable/reference/api/pandas.DataFrame.astype.html) 函數能轉換 DataFrame 欄位中的資料型態 : "
      ]
    },
    {
      "cell_type": "code",
      "metadata": {
        "colab": {
          "base_uri": "https://localhost:8080/"
        },
        "id": "7vl5I8JJJxJL",
        "outputId": "d7e345dc-5feb-4125-cebd-2962b5591c14"
      },
      "source": [
        "print( '\"檢核日期\" 欄位轉換前的資料型態:', type(plot_df['檢核日期'][0]) )\n",
        "\n",
        "# 將文字型態轉的欄位轉換成日期型態\n",
        "plot_df['檢核日期'] = plot_df['檢核日期'].astype('datetime64')\n",
        "\n",
        "print( '\"檢核日期\" 欄位轉換後的資料型態:', type(plot_df['檢核日期'][0]),'\\n' )\n",
        "plot_df.head(6)"
      ],
      "execution_count": null,
      "outputs": [
        {
          "output_type": "stream",
          "text": [
            "\"檢核日期\" 欄位轉換前的資料型態: <class 'str'>\n",
            "\"檢核日期\" 欄位轉換後的資料型態: <class 'pandas._libs.tslibs.timestamps.Timestamp'> \n",
            "\n"
          ],
          "name": "stdout"
        },
        {
          "output_type": "execute_result",
          "data": {
            "text/html": [
              "<div>\n",
              "<style scoped>\n",
              "    .dataframe tbody tr th:only-of-type {\n",
              "        vertical-align: middle;\n",
              "    }\n",
              "\n",
              "    .dataframe tbody tr th {\n",
              "        vertical-align: top;\n",
              "    }\n",
              "\n",
              "    .dataframe thead th {\n",
              "        text-align: right;\n",
              "    }\n",
              "</style>\n",
              "<table border=\"1\" class=\"dataframe\">\n",
              "  <thead>\n",
              "    <tr style=\"text-align: right;\">\n",
              "      <th></th>\n",
              "      <th>檢核日期</th>\n",
              "      <th>確診數</th>\n",
              "    </tr>\n",
              "  </thead>\n",
              "  <tbody>\n",
              "    <tr>\n",
              "      <th>0</th>\n",
              "      <td>2021-06-08</td>\n",
              "      <td>11694</td>\n",
              "    </tr>\n",
              "    <tr>\n",
              "      <th>1</th>\n",
              "      <td>2021-06-07</td>\n",
              "      <td>11491</td>\n",
              "    </tr>\n",
              "    <tr>\n",
              "      <th>2</th>\n",
              "      <td>2021-06-06</td>\n",
              "      <td>11298</td>\n",
              "    </tr>\n",
              "    <tr>\n",
              "      <th>3</th>\n",
              "      <td>2021-06-05</td>\n",
              "      <td>10956</td>\n",
              "    </tr>\n",
              "    <tr>\n",
              "      <th>4</th>\n",
              "      <td>2021-06-04</td>\n",
              "      <td>10446</td>\n",
              "    </tr>\n",
              "    <tr>\n",
              "      <th>5</th>\n",
              "      <td>2021-06-03</td>\n",
              "      <td>9974</td>\n",
              "    </tr>\n",
              "  </tbody>\n",
              "</table>\n",
              "</div>"
            ],
            "text/plain": [
              "        檢核日期    確診數\n",
              "0 2021-06-08  11694\n",
              "1 2021-06-07  11491\n",
              "2 2021-06-06  11298\n",
              "3 2021-06-05  10956\n",
              "4 2021-06-04  10446\n",
              "5 2021-06-03   9974"
            ]
          },
          "metadata": {
            "tags": []
          },
          "execution_count": 8
        }
      ]
    },
    {
      "cell_type": "markdown",
      "metadata": {
        "id": "KiQnp1qFNrdB"
      },
      "source": [
        "另外，我們也能藉由 [`pandas.DataFrame.apply()`](https://pandas.pydata.org/docs/reference/api/pandas.DataFrame.apply.html) 搭配 [lambda](https://www.w3schools.com/python/python_lambda.asp) 匿名運算式，進行 DataFrame 欄位中資料型態的轉換 : \n"
      ]
    },
    {
      "cell_type": "code",
      "metadata": {
        "id": "odAOYP0x80Mf"
      },
      "source": [
        "# import datetime as dt\n",
        "\n",
        "# print( '\"檢核日期\" 欄位轉換前的資料型態:', type(plot_df['檢核日期'][0]) )\n",
        "\n",
        "# 文字型態轉成日期型態\n",
        "# plot_df['檢核日期'] = plot_df.apply( lambda x: dt.datetime.strptime(x['檢核日期'],'%Y-%m-%d').date(), axis=1 )\n",
        "\n",
        "# print( '\"檢核日期\" 欄位轉換後的資料型態:', type(plot_df['檢核日期'][0]),'\\n' )\n",
        "# plot_df.head(6)"
      ],
      "execution_count": null,
      "outputs": []
    },
    {
      "cell_type": "markdown",
      "metadata": {
        "id": "cbb90D_uMZJf"
      },
      "source": [
        "### Step 4 : 繪製折線圖   "
      ]
    },
    {
      "cell_type": "code",
      "metadata": {
        "colab": {
          "base_uri": "https://localhost:8080/"
        },
        "id": "WMXyraVj6sP_",
        "outputId": "cdcecbcd-1277-4727-ff7f-85e90f09a0fd"
      },
      "source": [
        "import matplotlib.dates as mdates\n",
        "\n",
        "# 折線圖 Line Chart\n",
        "plt.plot( plot_df['檢核日期'], plot_df['確診數'], linestyle='-', color='r' )\n",
        "\n",
        "# 設定 x 座標軸的日期標籤\n",
        "plt.gca().xaxis.set_major_formatter( mdates.DateFormatter('%Y-%m-%d') )\n",
        "plt.gca().xaxis.set_major_locator( mdates.DayLocator(interval=7) )\n",
        "plt.gcf().autofmt_xdate()\n",
        "\n",
        "plt.show()"
      ],
      "execution_count": null,
      "outputs": [
        {
          "output_type": "display_data",
          "data": {
            "image/png": "[encoded data removed]",
            "text/plain": [
              "<Figure size 432x288 with 1 Axes>"
            ]
          },
          "metadata": {
            "tags": [],
            "needs_background": "light"
          }
        }
      ]
    },
    {
      "cell_type": "markdown",
      "metadata": {
        "id": "BS9mXZF1Pq-M"
      },
      "source": [
        "# **堆疊面積圖 Stacked Area Chart**  \n",
        "堆疊面積圖( Stacked Area Chart )係用來觀察整體資料中不同類別之間的變化趨勢，非常適合用以表示多個類別與整體係如何隨著時間變化，例如 : 公司所有產品每月的銷售量等。 \n",
        "\n",
        "延伸閱讀 :   \n",
        " - [THE ISSUE WITH STACKING](https://www.data-to-viz.com/caveat/stacking.html)"
      ]
    },
    {
      "cell_type": "code",
      "metadata": {
        "colab": {
          "base_uri": "https://localhost:8080/"
        },
        "cellView": "form",
        "id": "FgY-UDINfGEN",
        "outputId": "436cb217-b572-4de6-f8f0-8a6558442202"
      },
      "source": [
        "#@markdown 資料來源: [Our World in Data](https://ourworldindata.org/grapher/annual-co-emissions-by-region)\n",
        "\n",
        "from IPython.core.display import HTML\n",
        "\n",
        "HTML('<iframe src=\"https://ourworldindata.org/grapher/annual-co-emissions-by-region\" loading=\"lazy\" style=\"width: 100%; height: 600px; border: 0px none;\"></iframe>')"
      ],
      "execution_count": null,
      "outputs": [
        {
          "output_type": "execute_result",
          "data": {
            "text/html": [
              "<iframe src=\"https://ourworldindata.org/grapher/annual-co-emissions-by-region\" loading=\"lazy\" style=\"width: 100%; height: 600px; border: 0px none;\"></iframe>"
            ],
            "text/plain": [
              "<IPython.core.display.HTML object>"
            ]
          },
          "metadata": {
            "tags": []
          },
          "execution_count": 11
        }
      ]
    },
    {
      "cell_type": "markdown",
      "metadata": {
        "id": "gW5eVPsYfrSp"
      },
      "source": [
        "我們可透過兩種方式來繪製堆疊面積圖 :   \n",
        "   - 方法一 : 使用 [`matplotlib.pyplot.fill_between()`](https://matplotlib.org/stable/api/_as_gen/matplotlib.pyplot.fill_between.html) 函數填滿折線圖( Line Chart )的折線下面積；\n",
        "   - 方法二 : 使用 [`matplotlib.pyplot.stackplot()`](https://matplotlib.org/stable/api/_as_gen/matplotlib.pyplot.stackplot.html) 函數繪製堆疊面積圖。"
      ]
    },
    {
      "cell_type": "markdown",
      "metadata": {
        "id": "jgYX4H83kGr6"
      },
      "source": [
        "方法一 : "
      ]
    },
    {
      "cell_type": "code",
      "metadata": {
        "colab": {
          "base_uri": "https://localhost:8080/"
        },
        "id": "3hZBtGbxPs7d",
        "outputId": "9688c9f5-d27f-4b91-cbb7-8d45bc07f634"
      },
      "source": [
        "# Data \n",
        "x = np.arange(0,5,0.2)\n",
        "y1 = x \n",
        "y2 = x**2\n",
        "y3 = y1+y2\n",
        "\n",
        "# 堆疊面積圖 Stacked Area Chart\n",
        "plt.plot( x, y3, color='r', label='y=x+x^2' )\n",
        "plt.plot( x, y2, color='g', label='y=x^2' )\n",
        "plt.plot( x, y1, color='b',label='y=x' )\n",
        "plt.fill_between( x, y3, color='r' )\n",
        "plt.fill_between( x, y2, color='g' )\n",
        "plt.fill_between( x, y1, color='b' )\n",
        "\n",
        "# 設定圖例的位置\n",
        "plt.legend( loc='upper left' )\n",
        "\n",
        "plt.show()"
      ],
      "execution_count": null,
      "outputs": [
        {
          "output_type": "display_data",
          "data": {
            "image/png": "[encoded data removed]",
            "text/plain": [
              "<Figure size 432x288 with 1 Axes>"
            ]
          },
          "metadata": {
            "tags": [],
            "needs_background": "light"
          }
        }
      ]
    },
    {
      "cell_type": "markdown",
      "metadata": {
        "id": "hAv4YZgKkPOt"
      },
      "source": [
        "方法二 : "
      ]
    },
    {
      "cell_type": "code",
      "metadata": {
        "colab": {
          "base_uri": "https://localhost:8080/"
        },
        "id": "zbWjj1N1RadC",
        "outputId": "125eb738-39d8-44e6-f222-37950208832d"
      },
      "source": [
        "# Data \n",
        "x = np.arange(0,5,0.2)\n",
        "y1 = x \n",
        "y2 = x**2\n",
        "y3 = y1+y2\n",
        "\n",
        "# 堆疊面積圖 Stacked Area Chart\n",
        "plt.stackplot( x, y1, y2, y3, colors=['b','g','r'], labels=['y=x','y=x^2','y=x+x^2'] )\n",
        "\n",
        "# 設定圖例的位置\n",
        "plt.legend( loc='upper left' )\n",
        "\n",
        "plt.show()"
      ],
      "execution_count": null,
      "outputs": [
        {
          "output_type": "display_data",
          "data": {
            "image/png": "[encoded data removed]",
            "text/plain": [
              "<Figure size 432x288 with 1 Axes>"
            ]
          },
          "metadata": {
            "tags": [],
            "needs_background": "light"
          }
        }
      ]
    },
    {
      "cell_type": "markdown",
      "metadata": {
        "id": "R6GK3Wbgukqv"
      },
      "source": [
        "## 實作範例   \n",
        "\n",
        "資料來源 : [COVID-19 全球疫情地圖](https://covid-19.nchc.org.tw/dt_005-covidTable_taiwan.php?downloadall=yes) 台灣COVID-19 縣市鄉鎮疫情表單    \n",
        "下載時間 : 2021/6/8 18:13"
      ]
    },
    {
      "cell_type": "markdown",
      "metadata": {
        "id": "rZY3kth3vzL_"
      },
      "source": [
        "### Step 1 : 匯入資料"
      ]
    },
    {
      "cell_type": "code",
      "metadata": {
        "colab": {
          "base_uri": "https://localhost:8080/"
        },
        "id": "7x0ybQiCv0iV",
        "outputId": "235de8e9-cc57-423e-bfd1-6ec57f3bddf7"
      },
      "source": [
        "# 匯入 xlsx 檔\n",
        "raw_data = pd.read_excel( '/content/台灣COVID-19 縣市鄉鎮疫情表單.xlsx', header=1  )\n",
        "raw_data"
      ],
      "execution_count": null,
      "outputs": [
        {
          "output_type": "execute_result",
          "data": {
            "text/html": [
              "<div>\n",
              "<style scoped>\n",
              "    .dataframe tbody tr th:only-of-type {\n",
              "        vertical-align: middle;\n",
              "    }\n",
              "\n",
              "    .dataframe tbody tr th {\n",
              "        vertical-align: top;\n",
              "    }\n",
              "\n",
              "    .dataframe thead th {\n",
              "        text-align: right;\n",
              "    }\n",
              "</style>\n",
              "<table border=\"1\" class=\"dataframe\">\n",
              "  <thead>\n",
              "    <tr style=\"text-align: right;\">\n",
              "      <th></th>\n",
              "      <th>id</th>\n",
              "      <th>個案研判日</th>\n",
              "      <th>縣市</th>\n",
              "      <th>鄉鎮</th>\n",
              "      <th>性別</th>\n",
              "      <th>是否為境外移入</th>\n",
              "      <th>年齡層</th>\n",
              "    </tr>\n",
              "  </thead>\n",
              "  <tbody>\n",
              "    <tr>\n",
              "      <th>0</th>\n",
              "      <td>1</td>\n",
              "      <td>2021-06-07</td>\n",
              "      <td>台北市</td>\n",
              "      <td>中山區</td>\n",
              "      <td>女</td>\n",
              "      <td>否</td>\n",
              "      <td>35-39</td>\n",
              "    </tr>\n",
              "    <tr>\n",
              "      <th>1</th>\n",
              "      <td>2</td>\n",
              "      <td>2021-06-07</td>\n",
              "      <td>台北市</td>\n",
              "      <td>中山區</td>\n",
              "      <td>女</td>\n",
              "      <td>否</td>\n",
              "      <td>35-39</td>\n",
              "    </tr>\n",
              "    <tr>\n",
              "      <th>2</th>\n",
              "      <td>3</td>\n",
              "      <td>2021-06-07</td>\n",
              "      <td>台北市</td>\n",
              "      <td>中山區</td>\n",
              "      <td>女</td>\n",
              "      <td>否</td>\n",
              "      <td>55-59</td>\n",
              "    </tr>\n",
              "    <tr>\n",
              "      <th>3</th>\n",
              "      <td>4</td>\n",
              "      <td>2021-06-07</td>\n",
              "      <td>台北市</td>\n",
              "      <td>中山區</td>\n",
              "      <td>女</td>\n",
              "      <td>否</td>\n",
              "      <td>70+</td>\n",
              "    </tr>\n",
              "    <tr>\n",
              "      <th>4</th>\n",
              "      <td>5</td>\n",
              "      <td>2021-06-07</td>\n",
              "      <td>台北市</td>\n",
              "      <td>中山區</td>\n",
              "      <td>女</td>\n",
              "      <td>否</td>\n",
              "      <td>70+</td>\n",
              "    </tr>\n",
              "    <tr>\n",
              "      <th>...</th>\n",
              "      <td>...</td>\n",
              "      <td>...</td>\n",
              "      <td>...</td>\n",
              "      <td>...</td>\n",
              "      <td>...</td>\n",
              "      <td>...</td>\n",
              "      <td>...</td>\n",
              "    </tr>\n",
              "    <tr>\n",
              "      <th>11483</th>\n",
              "      <td>11484</td>\n",
              "      <td>2020-01-27</td>\n",
              "      <td>境外移入</td>\n",
              "      <td>空值</td>\n",
              "      <td>女</td>\n",
              "      <td>是</td>\n",
              "      <td>50-54</td>\n",
              "    </tr>\n",
              "    <tr>\n",
              "      <th>11484</th>\n",
              "      <td>11485</td>\n",
              "      <td>2020-01-26</td>\n",
              "      <td>境外移入</td>\n",
              "      <td>空值</td>\n",
              "      <td>女</td>\n",
              "      <td>是</td>\n",
              "      <td>55-59</td>\n",
              "    </tr>\n",
              "    <tr>\n",
              "      <th>11485</th>\n",
              "      <td>11486</td>\n",
              "      <td>2020-01-24</td>\n",
              "      <td>境外移入</td>\n",
              "      <td>空值</td>\n",
              "      <td>女</td>\n",
              "      <td>是</td>\n",
              "      <td>50-54</td>\n",
              "    </tr>\n",
              "    <tr>\n",
              "      <th>11486</th>\n",
              "      <td>11487</td>\n",
              "      <td>2020-01-24</td>\n",
              "      <td>境外移入</td>\n",
              "      <td>空值</td>\n",
              "      <td>男</td>\n",
              "      <td>是</td>\n",
              "      <td>55-59</td>\n",
              "    </tr>\n",
              "    <tr>\n",
              "      <th>11487</th>\n",
              "      <td>11488</td>\n",
              "      <td>2020-01-22</td>\n",
              "      <td>境外移入</td>\n",
              "      <td>空值</td>\n",
              "      <td>女</td>\n",
              "      <td>是</td>\n",
              "      <td>55-59</td>\n",
              "    </tr>\n",
              "  </tbody>\n",
              "</table>\n",
              "<p>11488 rows × 7 columns</p>\n",
              "</div>"
            ],
            "text/plain": [
              "          id       個案研判日    縣市   鄉鎮 性別 是否為境外移入    年齡層\n",
              "0          1  2021-06-07   台北市  中山區  女       否  35-39\n",
              "1          2  2021-06-07   台北市  中山區  女       否  35-39\n",
              "2          3  2021-06-07   台北市  中山區  女       否  55-59\n",
              "3          4  2021-06-07   台北市  中山區  女       否    70+\n",
              "4          5  2021-06-07   台北市  中山區  女       否    70+\n",
              "...      ...         ...   ...  ... ..     ...    ...\n",
              "11483  11484  2020-01-27  境外移入   空值  女       是  50-54\n",
              "11484  11485  2020-01-26  境外移入   空值  女       是  55-59\n",
              "11485  11486  2020-01-24  境外移入   空值  女       是  50-54\n",
              "11486  11487  2020-01-24  境外移入   空值  男       是  55-59\n",
              "11487  11488  2020-01-22  境外移入   空值  女       是  55-59\n",
              "\n",
              "[11488 rows x 7 columns]"
            ]
          },
          "metadata": {
            "tags": []
          },
          "execution_count": 14
        }
      ]
    },
    {
      "cell_type": "code",
      "metadata": {
        "colab": {
          "base_uri": "https://localhost:8080/"
        },
        "id": "lpWZdPqBgz3z",
        "outputId": "762d1474-6c38-4356-ac4f-1305b9df936e"
      },
      "source": [
        "# 檢視各欄位的資料型態與缺失值狀況\n",
        "raw_data.info()"
      ],
      "execution_count": null,
      "outputs": [
        {
          "output_type": "stream",
          "text": [
            "<class 'pandas.core.frame.DataFrame'>\n",
            "RangeIndex: 11488 entries, 0 to 11487\n",
            "Data columns (total 7 columns):\n",
            " #   Column   Non-Null Count  Dtype \n",
            "---  ------   --------------  ----- \n",
            " 0   id       11488 non-null  int64 \n",
            " 1   個案研判日    11488 non-null  object\n",
            " 2   縣市       11488 non-null  object\n",
            " 3   鄉鎮       11488 non-null  object\n",
            " 4   性別       11488 non-null  object\n",
            " 5   是否為境外移入  11488 non-null  object\n",
            " 6   年齡層      11488 non-null  object\n",
            "dtypes: int64(1), object(6)\n",
            "memory usage: 628.4+ KB\n"
          ],
          "name": "stdout"
        }
      ]
    },
    {
      "cell_type": "markdown",
      "metadata": {
        "id": "quQycS6owUFw"
      },
      "source": [
        "### Step 2 : 篩選資料   \n",
        "\n",
        "篩選出下列條件的資料 : \n",
        "- 【個案研判日】為 2021年 5 月至 6 月   \n",
        "  - Hint : [Select by partial string from a pandas DataFrame](https://stackoverflow.com/questions/11350770/select-by-partial-string-from-a-pandas-dataframe) \n",
        "- 【縣市】為 '新北市'  \n",
        "- 【鄉鎮】為 '板橋區'、'中和區'、'三重區'  \n",
        "\n",
        "  \n"
      ]
    },
    {
      "cell_type": "code",
      "metadata": {
        "colab": {
          "base_uri": "https://localhost:8080/"
        },
        "id": "MvysbWQRxs5c",
        "outputId": "ad22389c-ef8a-4736-c376-e6da68f9f863"
      },
      "source": [
        "df = raw_data[ raw_data['個案研判日'].str.contains('2021-05')|raw_data['個案研判日'].str.contains('2021-06') ]\n",
        "df = df[ df['縣市']=='新北市' ]\n",
        "df = df[ (df['鄉鎮']=='板橋區')|(df['鄉鎮']=='中和區')|(df['鄉鎮']=='三重區') ]\n",
        "df"
      ],
      "execution_count": null,
      "outputs": [
        {
          "output_type": "execute_result",
          "data": {
            "text/html": [
              "<div>\n",
              "<style scoped>\n",
              "    .dataframe tbody tr th:only-of-type {\n",
              "        vertical-align: middle;\n",
              "    }\n",
              "\n",
              "    .dataframe tbody tr th {\n",
              "        vertical-align: top;\n",
              "    }\n",
              "\n",
              "    .dataframe thead th {\n",
              "        text-align: right;\n",
              "    }\n",
              "</style>\n",
              "<table border=\"1\" class=\"dataframe\">\n",
              "  <thead>\n",
              "    <tr style=\"text-align: right;\">\n",
              "      <th></th>\n",
              "      <th>id</th>\n",
              "      <th>個案研判日</th>\n",
              "      <th>縣市</th>\n",
              "      <th>鄉鎮</th>\n",
              "      <th>性別</th>\n",
              "      <th>是否為境外移入</th>\n",
              "      <th>年齡層</th>\n",
              "    </tr>\n",
              "  </thead>\n",
              "  <tbody>\n",
              "    <tr>\n",
              "      <th>80</th>\n",
              "      <td>81</td>\n",
              "      <td>2021-06-07</td>\n",
              "      <td>新北市</td>\n",
              "      <td>三重區</td>\n",
              "      <td>女</td>\n",
              "      <td>否</td>\n",
              "      <td>10-14</td>\n",
              "    </tr>\n",
              "    <tr>\n",
              "      <th>81</th>\n",
              "      <td>82</td>\n",
              "      <td>2021-06-07</td>\n",
              "      <td>新北市</td>\n",
              "      <td>三重區</td>\n",
              "      <td>女</td>\n",
              "      <td>否</td>\n",
              "      <td>25-29</td>\n",
              "    </tr>\n",
              "    <tr>\n",
              "      <th>82</th>\n",
              "      <td>83</td>\n",
              "      <td>2021-06-07</td>\n",
              "      <td>新北市</td>\n",
              "      <td>三重區</td>\n",
              "      <td>女</td>\n",
              "      <td>否</td>\n",
              "      <td>35-39</td>\n",
              "    </tr>\n",
              "    <tr>\n",
              "      <th>83</th>\n",
              "      <td>84</td>\n",
              "      <td>2021-06-07</td>\n",
              "      <td>新北市</td>\n",
              "      <td>三重區</td>\n",
              "      <td>女</td>\n",
              "      <td>否</td>\n",
              "      <td>40-44</td>\n",
              "    </tr>\n",
              "    <tr>\n",
              "      <th>84</th>\n",
              "      <td>85</td>\n",
              "      <td>2021-06-07</td>\n",
              "      <td>新北市</td>\n",
              "      <td>三重區</td>\n",
              "      <td>女</td>\n",
              "      <td>否</td>\n",
              "      <td>45-49</td>\n",
              "    </tr>\n",
              "    <tr>\n",
              "      <th>...</th>\n",
              "      <td>...</td>\n",
              "      <td>...</td>\n",
              "      <td>...</td>\n",
              "      <td>...</td>\n",
              "      <td>...</td>\n",
              "      <td>...</td>\n",
              "      <td>...</td>\n",
              "    </tr>\n",
              "    <tr>\n",
              "      <th>10267</th>\n",
              "      <td>10268</td>\n",
              "      <td>2021-05-12</td>\n",
              "      <td>新北市</td>\n",
              "      <td>三重區</td>\n",
              "      <td>女</td>\n",
              "      <td>否</td>\n",
              "      <td>65-69</td>\n",
              "    </tr>\n",
              "    <tr>\n",
              "      <th>10268</th>\n",
              "      <td>10269</td>\n",
              "      <td>2021-05-12</td>\n",
              "      <td>新北市</td>\n",
              "      <td>三重區</td>\n",
              "      <td>女</td>\n",
              "      <td>否</td>\n",
              "      <td>70+</td>\n",
              "    </tr>\n",
              "    <tr>\n",
              "      <th>10269</th>\n",
              "      <td>10270</td>\n",
              "      <td>2021-05-12</td>\n",
              "      <td>新北市</td>\n",
              "      <td>三重區</td>\n",
              "      <td>男</td>\n",
              "      <td>否</td>\n",
              "      <td>60-64</td>\n",
              "    </tr>\n",
              "    <tr>\n",
              "      <th>10270</th>\n",
              "      <td>10271</td>\n",
              "      <td>2021-05-12</td>\n",
              "      <td>新北市</td>\n",
              "      <td>三重區</td>\n",
              "      <td>男</td>\n",
              "      <td>否</td>\n",
              "      <td>65-69</td>\n",
              "    </tr>\n",
              "    <tr>\n",
              "      <th>10271</th>\n",
              "      <td>10272</td>\n",
              "      <td>2021-05-12</td>\n",
              "      <td>新北市</td>\n",
              "      <td>中和區</td>\n",
              "      <td>女</td>\n",
              "      <td>否</td>\n",
              "      <td>60-64</td>\n",
              "    </tr>\n",
              "  </tbody>\n",
              "</table>\n",
              "<p>2445 rows × 7 columns</p>\n",
              "</div>"
            ],
            "text/plain": [
              "          id       個案研判日   縣市   鄉鎮 性別 是否為境外移入    年齡層\n",
              "80        81  2021-06-07  新北市  三重區  女       否  10-14\n",
              "81        82  2021-06-07  新北市  三重區  女       否  25-29\n",
              "82        83  2021-06-07  新北市  三重區  女       否  35-39\n",
              "83        84  2021-06-07  新北市  三重區  女       否  40-44\n",
              "84        85  2021-06-07  新北市  三重區  女       否  45-49\n",
              "...      ...         ...  ...  ... ..     ...    ...\n",
              "10267  10268  2021-05-12  新北市  三重區  女       否  65-69\n",
              "10268  10269  2021-05-12  新北市  三重區  女       否    70+\n",
              "10269  10270  2021-05-12  新北市  三重區  男       否  60-64\n",
              "10270  10271  2021-05-12  新北市  三重區  男       否  65-69\n",
              "10271  10272  2021-05-12  新北市  中和區  女       否  60-64\n",
              "\n",
              "[2445 rows x 7 columns]"
            ]
          },
          "metadata": {
            "tags": []
          },
          "execution_count": 16
        }
      ]
    },
    {
      "cell_type": "markdown",
      "metadata": {
        "id": "ysLX2tpn2wq5"
      },
      "source": [
        "篩選出 【個案研判日】、【縣市】、【性別】 三個欄位，作為後續繪圖的資料 :"
      ]
    },
    {
      "cell_type": "code",
      "metadata": {
        "colab": {
          "base_uri": "https://localhost:8080/"
        },
        "id": "tGYE2dnl28M0",
        "outputId": "8402af31-def2-40a2-f259-5a35bb067fee"
      },
      "source": [
        "plot_df = df[ ['個案研判日','縣市','性別'] ]\n",
        "plot_df "
      ],
      "execution_count": null,
      "outputs": [
        {
          "output_type": "execute_result",
          "data": {
            "text/html": [
              "<div>\n",
              "<style scoped>\n",
              "    .dataframe tbody tr th:only-of-type {\n",
              "        vertical-align: middle;\n",
              "    }\n",
              "\n",
              "    .dataframe tbody tr th {\n",
              "        vertical-align: top;\n",
              "    }\n",
              "\n",
              "    .dataframe thead th {\n",
              "        text-align: right;\n",
              "    }\n",
              "</style>\n",
              "<table border=\"1\" class=\"dataframe\">\n",
              "  <thead>\n",
              "    <tr style=\"text-align: right;\">\n",
              "      <th></th>\n",
              "      <th>個案研判日</th>\n",
              "      <th>縣市</th>\n",
              "      <th>性別</th>\n",
              "    </tr>\n",
              "  </thead>\n",
              "  <tbody>\n",
              "    <tr>\n",
              "      <th>80</th>\n",
              "      <td>2021-06-07</td>\n",
              "      <td>新北市</td>\n",
              "      <td>女</td>\n",
              "    </tr>\n",
              "    <tr>\n",
              "      <th>81</th>\n",
              "      <td>2021-06-07</td>\n",
              "      <td>新北市</td>\n",
              "      <td>女</td>\n",
              "    </tr>\n",
              "    <tr>\n",
              "      <th>82</th>\n",
              "      <td>2021-06-07</td>\n",
              "      <td>新北市</td>\n",
              "      <td>女</td>\n",
              "    </tr>\n",
              "    <tr>\n",
              "      <th>83</th>\n",
              "      <td>2021-06-07</td>\n",
              "      <td>新北市</td>\n",
              "      <td>女</td>\n",
              "    </tr>\n",
              "    <tr>\n",
              "      <th>84</th>\n",
              "      <td>2021-06-07</td>\n",
              "      <td>新北市</td>\n",
              "      <td>女</td>\n",
              "    </tr>\n",
              "    <tr>\n",
              "      <th>...</th>\n",
              "      <td>...</td>\n",
              "      <td>...</td>\n",
              "      <td>...</td>\n",
              "    </tr>\n",
              "    <tr>\n",
              "      <th>10267</th>\n",
              "      <td>2021-05-12</td>\n",
              "      <td>新北市</td>\n",
              "      <td>女</td>\n",
              "    </tr>\n",
              "    <tr>\n",
              "      <th>10268</th>\n",
              "      <td>2021-05-12</td>\n",
              "      <td>新北市</td>\n",
              "      <td>女</td>\n",
              "    </tr>\n",
              "    <tr>\n",
              "      <th>10269</th>\n",
              "      <td>2021-05-12</td>\n",
              "      <td>新北市</td>\n",
              "      <td>男</td>\n",
              "    </tr>\n",
              "    <tr>\n",
              "      <th>10270</th>\n",
              "      <td>2021-05-12</td>\n",
              "      <td>新北市</td>\n",
              "      <td>男</td>\n",
              "    </tr>\n",
              "    <tr>\n",
              "      <th>10271</th>\n",
              "      <td>2021-05-12</td>\n",
              "      <td>新北市</td>\n",
              "      <td>女</td>\n",
              "    </tr>\n",
              "  </tbody>\n",
              "</table>\n",
              "<p>2445 rows × 3 columns</p>\n",
              "</div>"
            ],
            "text/plain": [
              "            個案研判日   縣市 性別\n",
              "80     2021-06-07  新北市  女\n",
              "81     2021-06-07  新北市  女\n",
              "82     2021-06-07  新北市  女\n",
              "83     2021-06-07  新北市  女\n",
              "84     2021-06-07  新北市  女\n",
              "...           ...  ... ..\n",
              "10267  2021-05-12  新北市  女\n",
              "10268  2021-05-12  新北市  女\n",
              "10269  2021-05-12  新北市  男\n",
              "10270  2021-05-12  新北市  男\n",
              "10271  2021-05-12  新北市  女\n",
              "\n",
              "[2445 rows x 3 columns]"
            ]
          },
          "metadata": {
            "tags": []
          },
          "execution_count": 17
        }
      ]
    },
    {
      "cell_type": "markdown",
      "metadata": {
        "id": "3PjyvZuUzEnO"
      },
      "source": [
        "### Step 3 : 樞紐分析 \n",
        "統計新北市 2021年 5 月與 6 月每日男性與女性的個案總數 :  "
      ]
    },
    {
      "cell_type": "markdown",
      "metadata": {
        "id": "ybJsNWCi3C1X"
      },
      "source": [
        "Step 3-1 : 樞紐分析\n",
        "\n",
        " - Hint 1 : [`pandas.pivot_table()`](https://pandas.pydata.org/pandas-docs/stable/reference/api/pandas.pivot_table.html)  \n",
        " - Hint 2 : [python pandas pivot_table count frequency in one column](https://stackoverflow.com/questions/22412033/python-pandas-pivot-table-count-frequency-in-one-column)  "
      ]
    },
    {
      "cell_type": "code",
      "metadata": {
        "colab": {
          "base_uri": "https://localhost:8080/"
        },
        "id": "k9W77PiRzMum",
        "outputId": "4e0fd3a4-0474-4211-9125-649a0f03bc64"
      },
      "source": [
        "# 樞紐分析\n",
        "summary = pd.pivot_table( plot_df, index=['個案研判日','縣市'], columns=['性別'], aggfunc=len, margins=True, fill_value=0 )\n",
        "summary"
      ],
      "execution_count": null,
      "outputs": [
        {
          "output_type": "execute_result",
          "data": {
            "text/html": [
              "<div>\n",
              "<style scoped>\n",
              "    .dataframe tbody tr th:only-of-type {\n",
              "        vertical-align: middle;\n",
              "    }\n",
              "\n",
              "    .dataframe tbody tr th {\n",
              "        vertical-align: top;\n",
              "    }\n",
              "\n",
              "    .dataframe thead th {\n",
              "        text-align: right;\n",
              "    }\n",
              "</style>\n",
              "<table border=\"1\" class=\"dataframe\">\n",
              "  <thead>\n",
              "    <tr style=\"text-align: right;\">\n",
              "      <th></th>\n",
              "      <th>性別</th>\n",
              "      <th>女</th>\n",
              "      <th>男</th>\n",
              "      <th>All</th>\n",
              "    </tr>\n",
              "    <tr>\n",
              "      <th>個案研判日</th>\n",
              "      <th>縣市</th>\n",
              "      <th></th>\n",
              "      <th></th>\n",
              "      <th></th>\n",
              "    </tr>\n",
              "  </thead>\n",
              "  <tbody>\n",
              "    <tr>\n",
              "      <th>2021-05-12</th>\n",
              "      <th>新北市</th>\n",
              "      <td>3</td>\n",
              "      <td>2</td>\n",
              "      <td>5</td>\n",
              "    </tr>\n",
              "    <tr>\n",
              "      <th>2021-05-13</th>\n",
              "      <th>新北市</th>\n",
              "      <td>0</td>\n",
              "      <td>1</td>\n",
              "      <td>1</td>\n",
              "    </tr>\n",
              "    <tr>\n",
              "      <th>2021-05-14</th>\n",
              "      <th>新北市</th>\n",
              "      <td>6</td>\n",
              "      <td>4</td>\n",
              "      <td>10</td>\n",
              "    </tr>\n",
              "    <tr>\n",
              "      <th>2021-05-15</th>\n",
              "      <th>新北市</th>\n",
              "      <td>28</td>\n",
              "      <td>10</td>\n",
              "      <td>38</td>\n",
              "    </tr>\n",
              "    <tr>\n",
              "      <th>2021-05-16</th>\n",
              "      <th>新北市</th>\n",
              "      <td>30</td>\n",
              "      <td>23</td>\n",
              "      <td>53</td>\n",
              "    </tr>\n",
              "    <tr>\n",
              "      <th>2021-05-17</th>\n",
              "      <th>新北市</th>\n",
              "      <td>42</td>\n",
              "      <td>37</td>\n",
              "      <td>79</td>\n",
              "    </tr>\n",
              "    <tr>\n",
              "      <th>2021-05-18</th>\n",
              "      <th>新北市</th>\n",
              "      <td>36</td>\n",
              "      <td>27</td>\n",
              "      <td>63</td>\n",
              "    </tr>\n",
              "    <tr>\n",
              "      <th>2021-05-19</th>\n",
              "      <th>新北市</th>\n",
              "      <td>25</td>\n",
              "      <td>34</td>\n",
              "      <td>59</td>\n",
              "    </tr>\n",
              "    <tr>\n",
              "      <th>2021-05-20</th>\n",
              "      <th>新北市</th>\n",
              "      <td>46</td>\n",
              "      <td>38</td>\n",
              "      <td>84</td>\n",
              "    </tr>\n",
              "    <tr>\n",
              "      <th>2021-05-21</th>\n",
              "      <th>新北市</th>\n",
              "      <td>44</td>\n",
              "      <td>41</td>\n",
              "      <td>85</td>\n",
              "    </tr>\n",
              "    <tr>\n",
              "      <th>2021-05-22</th>\n",
              "      <th>新北市</th>\n",
              "      <td>107</td>\n",
              "      <td>98</td>\n",
              "      <td>205</td>\n",
              "    </tr>\n",
              "    <tr>\n",
              "      <th>2021-05-23</th>\n",
              "      <th>新北市</th>\n",
              "      <td>49</td>\n",
              "      <td>48</td>\n",
              "      <td>97</td>\n",
              "    </tr>\n",
              "    <tr>\n",
              "      <th>2021-05-24</th>\n",
              "      <th>新北市</th>\n",
              "      <td>72</td>\n",
              "      <td>67</td>\n",
              "      <td>139</td>\n",
              "    </tr>\n",
              "    <tr>\n",
              "      <th>2021-05-25</th>\n",
              "      <th>新北市</th>\n",
              "      <td>46</td>\n",
              "      <td>79</td>\n",
              "      <td>125</td>\n",
              "    </tr>\n",
              "    <tr>\n",
              "      <th>2021-05-26</th>\n",
              "      <th>新北市</th>\n",
              "      <td>63</td>\n",
              "      <td>75</td>\n",
              "      <td>138</td>\n",
              "    </tr>\n",
              "    <tr>\n",
              "      <th>2021-05-27</th>\n",
              "      <th>新北市</th>\n",
              "      <td>96</td>\n",
              "      <td>95</td>\n",
              "      <td>191</td>\n",
              "    </tr>\n",
              "    <tr>\n",
              "      <th>2021-05-28</th>\n",
              "      <th>新北市</th>\n",
              "      <td>58</td>\n",
              "      <td>65</td>\n",
              "      <td>123</td>\n",
              "    </tr>\n",
              "    <tr>\n",
              "      <th>2021-05-29</th>\n",
              "      <th>新北市</th>\n",
              "      <td>36</td>\n",
              "      <td>50</td>\n",
              "      <td>86</td>\n",
              "    </tr>\n",
              "    <tr>\n",
              "      <th>2021-05-30</th>\n",
              "      <th>新北市</th>\n",
              "      <td>37</td>\n",
              "      <td>39</td>\n",
              "      <td>76</td>\n",
              "    </tr>\n",
              "    <tr>\n",
              "      <th>2021-05-31</th>\n",
              "      <th>新北市</th>\n",
              "      <td>41</td>\n",
              "      <td>46</td>\n",
              "      <td>87</td>\n",
              "    </tr>\n",
              "    <tr>\n",
              "      <th>2021-06-01</th>\n",
              "      <th>新北市</th>\n",
              "      <td>41</td>\n",
              "      <td>39</td>\n",
              "      <td>80</td>\n",
              "    </tr>\n",
              "    <tr>\n",
              "      <th>2021-06-02</th>\n",
              "      <th>新北市</th>\n",
              "      <td>75</td>\n",
              "      <td>78</td>\n",
              "      <td>153</td>\n",
              "    </tr>\n",
              "    <tr>\n",
              "      <th>2021-06-03</th>\n",
              "      <th>新北市</th>\n",
              "      <td>70</td>\n",
              "      <td>76</td>\n",
              "      <td>146</td>\n",
              "    </tr>\n",
              "    <tr>\n",
              "      <th>2021-06-04</th>\n",
              "      <th>新北市</th>\n",
              "      <td>54</td>\n",
              "      <td>46</td>\n",
              "      <td>100</td>\n",
              "    </tr>\n",
              "    <tr>\n",
              "      <th>2021-06-05</th>\n",
              "      <th>新北市</th>\n",
              "      <td>59</td>\n",
              "      <td>53</td>\n",
              "      <td>112</td>\n",
              "    </tr>\n",
              "    <tr>\n",
              "      <th>2021-06-06</th>\n",
              "      <th>新北市</th>\n",
              "      <td>37</td>\n",
              "      <td>38</td>\n",
              "      <td>75</td>\n",
              "    </tr>\n",
              "    <tr>\n",
              "      <th>2021-06-07</th>\n",
              "      <th>新北市</th>\n",
              "      <td>21</td>\n",
              "      <td>14</td>\n",
              "      <td>35</td>\n",
              "    </tr>\n",
              "    <tr>\n",
              "      <th>All</th>\n",
              "      <th></th>\n",
              "      <td>1222</td>\n",
              "      <td>1223</td>\n",
              "      <td>2445</td>\n",
              "    </tr>\n",
              "  </tbody>\n",
              "</table>\n",
              "</div>"
            ],
            "text/plain": [
              "性別                 女     男   All\n",
              "個案研判日      縣市                   \n",
              "2021-05-12 新北市     3     2     5\n",
              "2021-05-13 新北市     0     1     1\n",
              "2021-05-14 新北市     6     4    10\n",
              "2021-05-15 新北市    28    10    38\n",
              "2021-05-16 新北市    30    23    53\n",
              "2021-05-17 新北市    42    37    79\n",
              "2021-05-18 新北市    36    27    63\n",
              "2021-05-19 新北市    25    34    59\n",
              "2021-05-20 新北市    46    38    84\n",
              "2021-05-21 新北市    44    41    85\n",
              "2021-05-22 新北市   107    98   205\n",
              "2021-05-23 新北市    49    48    97\n",
              "2021-05-24 新北市    72    67   139\n",
              "2021-05-25 新北市    46    79   125\n",
              "2021-05-26 新北市    63    75   138\n",
              "2021-05-27 新北市    96    95   191\n",
              "2021-05-28 新北市    58    65   123\n",
              "2021-05-29 新北市    36    50    86\n",
              "2021-05-30 新北市    37    39    76\n",
              "2021-05-31 新北市    41    46    87\n",
              "2021-06-01 新北市    41    39    80\n",
              "2021-06-02 新北市    75    78   153\n",
              "2021-06-03 新北市    70    76   146\n",
              "2021-06-04 新北市    54    46   100\n",
              "2021-06-05 新北市    59    53   112\n",
              "2021-06-06 新北市    37    38    75\n",
              "2021-06-07 新北市    21    14    35\n",
              "All             1222  1223  2445"
            ]
          },
          "metadata": {
            "tags": []
          },
          "execution_count": 18
        }
      ]
    },
    {
      "cell_type": "markdown",
      "metadata": {
        "id": "mrRGduJVyy63"
      },
      "source": [
        "Step 3-2 : 刪除樞紐分析表中男性與女性的總計\n",
        "\n",
        " - Hint : [How to delete the last row of data of a pandas dataframe](https://stackoverflow.com/questions/26921651/how-to-delete-the-last-row-of-data-of-a-pandas-dataframe)"
      ]
    },
    {
      "cell_type": "code",
      "metadata": {
        "colab": {
          "base_uri": "https://localhost:8080/"
        },
        "id": "4BZzZrKwyZ-k",
        "outputId": "deb04583-703f-4235-b928-dec270bf81fe"
      },
      "source": [
        "# 刪除 DataFrame 中的最後一筆資料\n",
        "summary.drop( summary.tail(1).index, inplace=True )\n",
        "summary.tail()"
      ],
      "execution_count": null,
      "outputs": [
        {
          "output_type": "execute_result",
          "data": {
            "text/html": [
              "<div>\n",
              "<style scoped>\n",
              "    .dataframe tbody tr th:only-of-type {\n",
              "        vertical-align: middle;\n",
              "    }\n",
              "\n",
              "    .dataframe tbody tr th {\n",
              "        vertical-align: top;\n",
              "    }\n",
              "\n",
              "    .dataframe thead th {\n",
              "        text-align: right;\n",
              "    }\n",
              "</style>\n",
              "<table border=\"1\" class=\"dataframe\">\n",
              "  <thead>\n",
              "    <tr style=\"text-align: right;\">\n",
              "      <th></th>\n",
              "      <th>性別</th>\n",
              "      <th>女</th>\n",
              "      <th>男</th>\n",
              "      <th>All</th>\n",
              "    </tr>\n",
              "    <tr>\n",
              "      <th>個案研判日</th>\n",
              "      <th>縣市</th>\n",
              "      <th></th>\n",
              "      <th></th>\n",
              "      <th></th>\n",
              "    </tr>\n",
              "  </thead>\n",
              "  <tbody>\n",
              "    <tr>\n",
              "      <th>2021-06-03</th>\n",
              "      <th>新北市</th>\n",
              "      <td>70</td>\n",
              "      <td>76</td>\n",
              "      <td>146</td>\n",
              "    </tr>\n",
              "    <tr>\n",
              "      <th>2021-06-04</th>\n",
              "      <th>新北市</th>\n",
              "      <td>54</td>\n",
              "      <td>46</td>\n",
              "      <td>100</td>\n",
              "    </tr>\n",
              "    <tr>\n",
              "      <th>2021-06-05</th>\n",
              "      <th>新北市</th>\n",
              "      <td>59</td>\n",
              "      <td>53</td>\n",
              "      <td>112</td>\n",
              "    </tr>\n",
              "    <tr>\n",
              "      <th>2021-06-06</th>\n",
              "      <th>新北市</th>\n",
              "      <td>37</td>\n",
              "      <td>38</td>\n",
              "      <td>75</td>\n",
              "    </tr>\n",
              "    <tr>\n",
              "      <th>2021-06-07</th>\n",
              "      <th>新北市</th>\n",
              "      <td>21</td>\n",
              "      <td>14</td>\n",
              "      <td>35</td>\n",
              "    </tr>\n",
              "  </tbody>\n",
              "</table>\n",
              "</div>"
            ],
            "text/plain": [
              "性別               女   男  All\n",
              "個案研判日      縣市              \n",
              "2021-06-03 新北市  70  76  146\n",
              "2021-06-04 新北市  54  46  100\n",
              "2021-06-05 新北市  59  53  112\n",
              "2021-06-06 新北市  37  38   75\n",
              "2021-06-07 新北市  21  14   35"
            ]
          },
          "metadata": {
            "tags": []
          },
          "execution_count": 19
        }
      ]
    },
    {
      "cell_type": "markdown",
      "metadata": {
        "id": "DTlcAL6s3Mim"
      },
      "source": [
        "Step 3-3 : 樞紐分析表的索引欄位轉成 DataFrame 欄位"
      ]
    },
    {
      "cell_type": "code",
      "metadata": {
        "colab": {
          "base_uri": "https://localhost:8080/"
        },
        "id": "3VA6LTcG3cGy",
        "outputId": "1afe45d6-38aa-4466-d982-95de2c2673e8"
      },
      "source": [
        "summary.reset_index( inplace=True )\n",
        "summary"
      ],
      "execution_count": null,
      "outputs": [
        {
          "output_type": "execute_result",
          "data": {
            "text/html": [
              "<div>\n",
              "<style scoped>\n",
              "    .dataframe tbody tr th:only-of-type {\n",
              "        vertical-align: middle;\n",
              "    }\n",
              "\n",
              "    .dataframe tbody tr th {\n",
              "        vertical-align: top;\n",
              "    }\n",
              "\n",
              "    .dataframe thead th {\n",
              "        text-align: right;\n",
              "    }\n",
              "</style>\n",
              "<table border=\"1\" class=\"dataframe\">\n",
              "  <thead>\n",
              "    <tr style=\"text-align: right;\">\n",
              "      <th>性別</th>\n",
              "      <th>個案研判日</th>\n",
              "      <th>縣市</th>\n",
              "      <th>女</th>\n",
              "      <th>男</th>\n",
              "      <th>All</th>\n",
              "    </tr>\n",
              "  </thead>\n",
              "  <tbody>\n",
              "    <tr>\n",
              "      <th>0</th>\n",
              "      <td>2021-05-12</td>\n",
              "      <td>新北市</td>\n",
              "      <td>3</td>\n",
              "      <td>2</td>\n",
              "      <td>5</td>\n",
              "    </tr>\n",
              "    <tr>\n",
              "      <th>1</th>\n",
              "      <td>2021-05-13</td>\n",
              "      <td>新北市</td>\n",
              "      <td>0</td>\n",
              "      <td>1</td>\n",
              "      <td>1</td>\n",
              "    </tr>\n",
              "    <tr>\n",
              "      <th>2</th>\n",
              "      <td>2021-05-14</td>\n",
              "      <td>新北市</td>\n",
              "      <td>6</td>\n",
              "      <td>4</td>\n",
              "      <td>10</td>\n",
              "    </tr>\n",
              "    <tr>\n",
              "      <th>3</th>\n",
              "      <td>2021-05-15</td>\n",
              "      <td>新北市</td>\n",
              "      <td>28</td>\n",
              "      <td>10</td>\n",
              "      <td>38</td>\n",
              "    </tr>\n",
              "    <tr>\n",
              "      <th>4</th>\n",
              "      <td>2021-05-16</td>\n",
              "      <td>新北市</td>\n",
              "      <td>30</td>\n",
              "      <td>23</td>\n",
              "      <td>53</td>\n",
              "    </tr>\n",
              "    <tr>\n",
              "      <th>5</th>\n",
              "      <td>2021-05-17</td>\n",
              "      <td>新北市</td>\n",
              "      <td>42</td>\n",
              "      <td>37</td>\n",
              "      <td>79</td>\n",
              "    </tr>\n",
              "    <tr>\n",
              "      <th>6</th>\n",
              "      <td>2021-05-18</td>\n",
              "      <td>新北市</td>\n",
              "      <td>36</td>\n",
              "      <td>27</td>\n",
              "      <td>63</td>\n",
              "    </tr>\n",
              "    <tr>\n",
              "      <th>7</th>\n",
              "      <td>2021-05-19</td>\n",
              "      <td>新北市</td>\n",
              "      <td>25</td>\n",
              "      <td>34</td>\n",
              "      <td>59</td>\n",
              "    </tr>\n",
              "    <tr>\n",
              "      <th>8</th>\n",
              "      <td>2021-05-20</td>\n",
              "      <td>新北市</td>\n",
              "      <td>46</td>\n",
              "      <td>38</td>\n",
              "      <td>84</td>\n",
              "    </tr>\n",
              "    <tr>\n",
              "      <th>9</th>\n",
              "      <td>2021-05-21</td>\n",
              "      <td>新北市</td>\n",
              "      <td>44</td>\n",
              "      <td>41</td>\n",
              "      <td>85</td>\n",
              "    </tr>\n",
              "    <tr>\n",
              "      <th>10</th>\n",
              "      <td>2021-05-22</td>\n",
              "      <td>新北市</td>\n",
              "      <td>107</td>\n",
              "      <td>98</td>\n",
              "      <td>205</td>\n",
              "    </tr>\n",
              "    <tr>\n",
              "      <th>11</th>\n",
              "      <td>2021-05-23</td>\n",
              "      <td>新北市</td>\n",
              "      <td>49</td>\n",
              "      <td>48</td>\n",
              "      <td>97</td>\n",
              "    </tr>\n",
              "    <tr>\n",
              "      <th>12</th>\n",
              "      <td>2021-05-24</td>\n",
              "      <td>新北市</td>\n",
              "      <td>72</td>\n",
              "      <td>67</td>\n",
              "      <td>139</td>\n",
              "    </tr>\n",
              "    <tr>\n",
              "      <th>13</th>\n",
              "      <td>2021-05-25</td>\n",
              "      <td>新北市</td>\n",
              "      <td>46</td>\n",
              "      <td>79</td>\n",
              "      <td>125</td>\n",
              "    </tr>\n",
              "    <tr>\n",
              "      <th>14</th>\n",
              "      <td>2021-05-26</td>\n",
              "      <td>新北市</td>\n",
              "      <td>63</td>\n",
              "      <td>75</td>\n",
              "      <td>138</td>\n",
              "    </tr>\n",
              "    <tr>\n",
              "      <th>15</th>\n",
              "      <td>2021-05-27</td>\n",
              "      <td>新北市</td>\n",
              "      <td>96</td>\n",
              "      <td>95</td>\n",
              "      <td>191</td>\n",
              "    </tr>\n",
              "    <tr>\n",
              "      <th>16</th>\n",
              "      <td>2021-05-28</td>\n",
              "      <td>新北市</td>\n",
              "      <td>58</td>\n",
              "      <td>65</td>\n",
              "      <td>123</td>\n",
              "    </tr>\n",
              "    <tr>\n",
              "      <th>17</th>\n",
              "      <td>2021-05-29</td>\n",
              "      <td>新北市</td>\n",
              "      <td>36</td>\n",
              "      <td>50</td>\n",
              "      <td>86</td>\n",
              "    </tr>\n",
              "    <tr>\n",
              "      <th>18</th>\n",
              "      <td>2021-05-30</td>\n",
              "      <td>新北市</td>\n",
              "      <td>37</td>\n",
              "      <td>39</td>\n",
              "      <td>76</td>\n",
              "    </tr>\n",
              "    <tr>\n",
              "      <th>19</th>\n",
              "      <td>2021-05-31</td>\n",
              "      <td>新北市</td>\n",
              "      <td>41</td>\n",
              "      <td>46</td>\n",
              "      <td>87</td>\n",
              "    </tr>\n",
              "    <tr>\n",
              "      <th>20</th>\n",
              "      <td>2021-06-01</td>\n",
              "      <td>新北市</td>\n",
              "      <td>41</td>\n",
              "      <td>39</td>\n",
              "      <td>80</td>\n",
              "    </tr>\n",
              "    <tr>\n",
              "      <th>21</th>\n",
              "      <td>2021-06-02</td>\n",
              "      <td>新北市</td>\n",
              "      <td>75</td>\n",
              "      <td>78</td>\n",
              "      <td>153</td>\n",
              "    </tr>\n",
              "    <tr>\n",
              "      <th>22</th>\n",
              "      <td>2021-06-03</td>\n",
              "      <td>新北市</td>\n",
              "      <td>70</td>\n",
              "      <td>76</td>\n",
              "      <td>146</td>\n",
              "    </tr>\n",
              "    <tr>\n",
              "      <th>23</th>\n",
              "      <td>2021-06-04</td>\n",
              "      <td>新北市</td>\n",
              "      <td>54</td>\n",
              "      <td>46</td>\n",
              "      <td>100</td>\n",
              "    </tr>\n",
              "    <tr>\n",
              "      <th>24</th>\n",
              "      <td>2021-06-05</td>\n",
              "      <td>新北市</td>\n",
              "      <td>59</td>\n",
              "      <td>53</td>\n",
              "      <td>112</td>\n",
              "    </tr>\n",
              "    <tr>\n",
              "      <th>25</th>\n",
              "      <td>2021-06-06</td>\n",
              "      <td>新北市</td>\n",
              "      <td>37</td>\n",
              "      <td>38</td>\n",
              "      <td>75</td>\n",
              "    </tr>\n",
              "    <tr>\n",
              "      <th>26</th>\n",
              "      <td>2021-06-07</td>\n",
              "      <td>新北市</td>\n",
              "      <td>21</td>\n",
              "      <td>14</td>\n",
              "      <td>35</td>\n",
              "    </tr>\n",
              "  </tbody>\n",
              "</table>\n",
              "</div>"
            ],
            "text/plain": [
              "性別       個案研判日   縣市    女   男  All\n",
              "0   2021-05-12  新北市    3   2    5\n",
              "1   2021-05-13  新北市    0   1    1\n",
              "2   2021-05-14  新北市    6   4   10\n",
              "3   2021-05-15  新北市   28  10   38\n",
              "4   2021-05-16  新北市   30  23   53\n",
              "5   2021-05-17  新北市   42  37   79\n",
              "6   2021-05-18  新北市   36  27   63\n",
              "7   2021-05-19  新北市   25  34   59\n",
              "8   2021-05-20  新北市   46  38   84\n",
              "9   2021-05-21  新北市   44  41   85\n",
              "10  2021-05-22  新北市  107  98  205\n",
              "11  2021-05-23  新北市   49  48   97\n",
              "12  2021-05-24  新北市   72  67  139\n",
              "13  2021-05-25  新北市   46  79  125\n",
              "14  2021-05-26  新北市   63  75  138\n",
              "15  2021-05-27  新北市   96  95  191\n",
              "16  2021-05-28  新北市   58  65  123\n",
              "17  2021-05-29  新北市   36  50   86\n",
              "18  2021-05-30  新北市   37  39   76\n",
              "19  2021-05-31  新北市   41  46   87\n",
              "20  2021-06-01  新北市   41  39   80\n",
              "21  2021-06-02  新北市   75  78  153\n",
              "22  2021-06-03  新北市   70  76  146\n",
              "23  2021-06-04  新北市   54  46  100\n",
              "24  2021-06-05  新北市   59  53  112\n",
              "25  2021-06-06  新北市   37  38   75\n",
              "26  2021-06-07  新北市   21  14   35"
            ]
          },
          "metadata": {
            "tags": []
          },
          "execution_count": 20
        }
      ]
    },
    {
      "cell_type": "markdown",
      "metadata": {
        "id": "1IN1EucjX0Q8"
      },
      "source": [
        "### Step 4 : 繪製堆疊面積圖 \n"
      ]
    },
    {
      "cell_type": "markdown",
      "metadata": {
        "id": "2OAJJ0tXwqCk"
      },
      "source": [
        "Step 4-1 : 處理日期欄位    \n",
        "  \n",
        "將 【個案研判日】 欄位從文字型態轉成日期型態 :"
      ]
    },
    {
      "cell_type": "code",
      "metadata": {
        "colab": {
          "base_uri": "https://localhost:8080/"
        },
        "id": "Qxy_UrL0X0fk",
        "outputId": "4243bfc7-bb64-4577-b636-1e09c125268c"
      },
      "source": [
        "# 將文字型態的欄位轉變成日期型態\n",
        "summary['個案研判日'] = summary['個案研判日'].astype('datetime64')\n",
        "summary.head()"
      ],
      "execution_count": null,
      "outputs": [
        {
          "output_type": "execute_result",
          "data": {
            "text/html": [
              "<div>\n",
              "<style scoped>\n",
              "    .dataframe tbody tr th:only-of-type {\n",
              "        vertical-align: middle;\n",
              "    }\n",
              "\n",
              "    .dataframe tbody tr th {\n",
              "        vertical-align: top;\n",
              "    }\n",
              "\n",
              "    .dataframe thead th {\n",
              "        text-align: right;\n",
              "    }\n",
              "</style>\n",
              "<table border=\"1\" class=\"dataframe\">\n",
              "  <thead>\n",
              "    <tr style=\"text-align: right;\">\n",
              "      <th>性別</th>\n",
              "      <th>個案研判日</th>\n",
              "      <th>縣市</th>\n",
              "      <th>女</th>\n",
              "      <th>男</th>\n",
              "      <th>All</th>\n",
              "    </tr>\n",
              "  </thead>\n",
              "  <tbody>\n",
              "    <tr>\n",
              "      <th>0</th>\n",
              "      <td>2021-05-12</td>\n",
              "      <td>新北市</td>\n",
              "      <td>3</td>\n",
              "      <td>2</td>\n",
              "      <td>5</td>\n",
              "    </tr>\n",
              "    <tr>\n",
              "      <th>1</th>\n",
              "      <td>2021-05-13</td>\n",
              "      <td>新北市</td>\n",
              "      <td>0</td>\n",
              "      <td>1</td>\n",
              "      <td>1</td>\n",
              "    </tr>\n",
              "    <tr>\n",
              "      <th>2</th>\n",
              "      <td>2021-05-14</td>\n",
              "      <td>新北市</td>\n",
              "      <td>6</td>\n",
              "      <td>4</td>\n",
              "      <td>10</td>\n",
              "    </tr>\n",
              "    <tr>\n",
              "      <th>3</th>\n",
              "      <td>2021-05-15</td>\n",
              "      <td>新北市</td>\n",
              "      <td>28</td>\n",
              "      <td>10</td>\n",
              "      <td>38</td>\n",
              "    </tr>\n",
              "    <tr>\n",
              "      <th>4</th>\n",
              "      <td>2021-05-16</td>\n",
              "      <td>新北市</td>\n",
              "      <td>30</td>\n",
              "      <td>23</td>\n",
              "      <td>53</td>\n",
              "    </tr>\n",
              "  </tbody>\n",
              "</table>\n",
              "</div>"
            ],
            "text/plain": [
              "性別      個案研判日   縣市   女   男  All\n",
              "0  2021-05-12  新北市   3   2    5\n",
              "1  2021-05-13  新北市   0   1    1\n",
              "2  2021-05-14  新北市   6   4   10\n",
              "3  2021-05-15  新北市  28  10   38\n",
              "4  2021-05-16  新北市  30  23   53"
            ]
          },
          "metadata": {
            "tags": []
          },
          "execution_count": 21
        }
      ]
    },
    {
      "cell_type": "markdown",
      "metadata": {
        "id": "eTRFZaz9w61w"
      },
      "source": [
        "Step 4-2 : 堆疊面積圖   "
      ]
    },
    {
      "cell_type": "code",
      "metadata": {
        "colab": {
          "base_uri": "https://localhost:8080/"
        },
        "id": "FOFBJiULYSdE",
        "outputId": "730b26f4-4c41-4583-88af-ac302e8cac20"
      },
      "source": [
        "import matplotlib.dates as mdates\n",
        "\n",
        "# 堆疊面積圖 Stacked Area Chart\n",
        "plt.stackplot( summary['個案研判日'], summary['女'], summary['男'], summary['All'], colors=['g','b','r'], labels=['Female','Male','Total'] )\n",
        "\n",
        "# x 軸的日期標籤設定\n",
        "plt.gca().xaxis.set_major_formatter( mdates.DateFormatter('%Y-%m-%d') )\n",
        "plt.gca().xaxis.set_major_locator( mdates.DayLocator(interval=5) )\n",
        "plt.gcf().autofmt_xdate()\n",
        "\n",
        "# 設定圖例的位置\n",
        "plt.legend( loc='upper left' )\n",
        "\n",
        "plt.show()"
      ],
      "execution_count": null,
      "outputs": [
        {
          "output_type": "display_data",
          "data": {
            "image/png": "[encoded data removed]",
            "text/plain": [
              "<Figure size 432x288 with 1 Axes>"
            ]
          },
          "metadata": {
            "tags": [],
            "needs_background": "light"
          }
        }
      ]
    },
    {
      "cell_type": "markdown",
      "metadata": {
        "id": "YoOrG-lwtEC0"
      },
      "source": [
        "# **散佈圖 Scatter Plot**    \n",
        "\n",
        "散佈圖( Scatter Plot )常用來觀察兩個計量變數之間的相關性，例如 : 飲料的銷售量是否與氣溫的高低有關。\n",
        "</br>\n"
      ]
    },
    {
      "cell_type": "code",
      "metadata": {
        "colab": {
          "base_uri": "https://localhost:8080/"
        },
        "cellView": "form",
        "id": "6AZagN3A0GW7",
        "outputId": "b129ff5d-b8e7-494f-e6c8-b04108590b98"
      },
      "source": [
        "#@markdown 資料來源: [Our World in Data](https://ourworldindata.org/grapher/covid-19-tests-vs-cases-positivity-comparisons)\n",
        "\n",
        "from IPython.core.display import HTML\n",
        "\n",
        "HTML('<iframe src=\"https://ourworldindata.org/grapher/covid-19-tests-vs-cases-positivity-comparisons\" loading=\"lazy\" style=\"width: 100%; height: 600px; border: 0px none;\"></iframe>')"
      ],
      "execution_count": null,
      "outputs": [
        {
          "output_type": "execute_result",
          "data": {
            "text/html": [
              "<iframe src=\"https://ourworldindata.org/grapher/covid-19-tests-vs-cases-positivity-comparisons\" loading=\"lazy\" style=\"width: 100%; height: 600px; border: 0px none;\"></iframe>"
            ],
            "text/plain": [
              "<IPython.core.display.HTML object>"
            ]
          },
          "metadata": {
            "tags": []
          },
          "execution_count": 23
        }
      ]
    },
    {
      "cell_type": "markdown",
      "metadata": {
        "id": "HvWlrE5FOdyO"
      },
      "source": [
        "使用 [`matplotlib.pyplot.scatter( x, y, s, c, marker, linewidths, edgecolors='none' )`](https://matplotlib.org/stable/api/_as_gen/matplotlib.pyplot.scatter.html) 函數可在直角坐標平面中繪製散佈圖，常用的參數說明如下:  \n",
        "  * x, y : 各座標軸( x 軸與 y 軸 )維度的資料；  \n",
        "  * s : 標記點的大小； \n",
        "  * c : 標記點的顏色； \n",
        "  * alpha : 標記點的透明度，參數範圍為 $[0,1]$，其中，0 表示完全透明，1 表示不透明；  \n",
        "  * marker : 標記點的樣式( 'o' 圓圈、'*' 星號、'+' 加號等 )，預設為 `marker='o'` ，其他的樣式請參考 [matplotlib.markers](https://matplotlib.org/stable/api/markers_api.html#module-matplotlib.markers)；\n",
        "  * linewidths : 標記點邊緣線的寬度，預設為 `linewidths=1.5`；   \n",
        "  * edgecolors : 標記點邊緣線的顏色，有兩種型態分別為 :   \n",
        "    * 'face' : 邊緣線與內部顏色相同；\n",
        "    * 'none'(預設) : 不繪製邊緣線。"
      ]
    },
    {
      "cell_type": "code",
      "metadata": {
        "colab": {
          "base_uri": "https://localhost:8080/"
        },
        "id": "99Jop8Xf0p34",
        "outputId": "9fbc223f-22bf-4d23-8667-e4db2ceddbcb"
      },
      "source": [
        "# Data \n",
        "x = np.linspace( 0, 2*np.pi, num=80 )\n",
        "y1 = np.cos( x )\n",
        "y2 = np.sin( x )\n",
        "\n",
        "# 散佈圖 Scatter Plot \n",
        "plt.scatter( x, y1, c='r', marker='*' )\n",
        "plt.scatter( x, y2, c='b', marker='o' )\n",
        "plt.show()"
      ],
      "execution_count": null,
      "outputs": [
        {
          "output_type": "display_data",
          "data": {
            "image/png": "[encoded data removed]",
            "text/plain": [
              "<Figure size 432x288 with 1 Axes>"
            ]
          },
          "metadata": {
            "tags": [],
            "needs_background": "light"
          }
        }
      ]
    },
    {
      "cell_type": "markdown",
      "metadata": {
        "id": "8NgKbm7aALsi"
      },
      "source": [
        "## 實作範例   \n",
        "\n",
        "資料來源 : [COVID-19 全球疫情地圖](https://covid-19.nchc.org.tw/dt_005-covidTable_taiwan.php?downloadall=yes) 台灣新增死亡COVID-19個案表    \n",
        "下載時間 : 2021/6/8 18:14"
      ]
    },
    {
      "cell_type": "markdown",
      "metadata": {
        "id": "jgdF18QdAq75"
      },
      "source": [
        "### Step 1 : 匯入資料"
      ]
    },
    {
      "cell_type": "code",
      "metadata": {
        "colab": {
          "base_uri": "https://localhost:8080/"
        },
        "id": "3JwF9oovAteZ",
        "outputId": "92178c41-7d46-4e94-8950-84729b487157"
      },
      "source": [
        "# 匯入 xlsx 檔\n",
        "raw_data = pd.read_excel( '/content/台灣新增死亡COVID-19個案表.xlsx', header=1  )\n",
        "raw_data"
      ],
      "execution_count": null,
      "outputs": [
        {
          "output_type": "execute_result",
          "data": {
            "text/html": [
              "<div>\n",
              "<style scoped>\n",
              "    .dataframe tbody tr th:only-of-type {\n",
              "        vertical-align: middle;\n",
              "    }\n",
              "\n",
              "    .dataframe tbody tr th {\n",
              "        vertical-align: top;\n",
              "    }\n",
              "\n",
              "    .dataframe thead th {\n",
              "        text-align: right;\n",
              "    }\n",
              "</style>\n",
              "<table border=\"1\" class=\"dataframe\">\n",
              "  <thead>\n",
              "    <tr style=\"text-align: right;\">\n",
              "      <th></th>\n",
              "      <th>ID</th>\n",
              "      <th>公布日</th>\n",
              "      <th>案號</th>\n",
              "      <th>性別</th>\n",
              "      <th>年齡</th>\n",
              "      <th>慢性病史</th>\n",
              "      <th>活動接觸史</th>\n",
              "      <th>發病日</th>\n",
              "      <th>症狀</th>\n",
              "      <th>採檢日</th>\n",
              "      <th>住院/隔離日</th>\n",
              "      <th>確診日</th>\n",
              "      <th>死亡日</th>\n",
              "    </tr>\n",
              "  </thead>\n",
              "  <tbody>\n",
              "    <tr>\n",
              "      <th>0</th>\n",
              "      <td>12</td>\n",
              "      <td>2021-06-08</td>\n",
              "      <td>7766</td>\n",
              "      <td>女</td>\n",
              "      <td>50</td>\n",
              "      <td>有</td>\n",
              "      <td>接觸其他確診者</td>\n",
              "      <td>2021/05/27</td>\n",
              "      <td>採撿時無症狀</td>\n",
              "      <td>2021/05/27</td>\n",
              "      <td>5/31住院</td>\n",
              "      <td>2021/05/29</td>\n",
              "      <td>2021-06-07</td>\n",
              "    </tr>\n",
              "    <tr>\n",
              "      <th>1</th>\n",
              "      <td>13</td>\n",
              "      <td>2021-06-08</td>\n",
              "      <td>8399</td>\n",
              "      <td>女</td>\n",
              "      <td>80</td>\n",
              "      <td>有</td>\n",
              "      <td>接觸其他確診者</td>\n",
              "      <td>2021/05/29</td>\n",
              "      <td>採撿時無症狀</td>\n",
              "      <td>2021/05/30</td>\n",
              "      <td>5/30防疫旅館5/31住院</td>\n",
              "      <td>2021/05/31</td>\n",
              "      <td>2021-06-07</td>\n",
              "    </tr>\n",
              "    <tr>\n",
              "      <th>2</th>\n",
              "      <td>22</td>\n",
              "      <td>2021-06-08</td>\n",
              "      <td>10239</td>\n",
              "      <td>女</td>\n",
              "      <td>80</td>\n",
              "      <td>有</td>\n",
              "      <td>接觸其他確診者</td>\n",
              "      <td>2021/05/30</td>\n",
              "      <td>發燒、呼吸喘</td>\n",
              "      <td>2021/06/3</td>\n",
              "      <td>5/31住院</td>\n",
              "      <td>2021/06/4</td>\n",
              "      <td>2021-06-07</td>\n",
              "    </tr>\n",
              "    <tr>\n",
              "      <th>3</th>\n",
              "      <td>3</td>\n",
              "      <td>2021-06-08</td>\n",
              "      <td>3567</td>\n",
              "      <td>女</td>\n",
              "      <td>70</td>\n",
              "      <td>有</td>\n",
              "      <td>調查中</td>\n",
              "      <td>2021/05/20</td>\n",
              "      <td>咳嗽</td>\n",
              "      <td>2021/05/20</td>\n",
              "      <td>5/20防疫旅館5/25住院</td>\n",
              "      <td>2021/05/22</td>\n",
              "      <td>2021-06-06</td>\n",
              "    </tr>\n",
              "    <tr>\n",
              "      <th>4</th>\n",
              "      <td>7</td>\n",
              "      <td>2021-06-08</td>\n",
              "      <td>6729</td>\n",
              "      <td>男</td>\n",
              "      <td>70</td>\n",
              "      <td>有</td>\n",
              "      <td>接觸其他確診者</td>\n",
              "      <td>2021/05/18</td>\n",
              "      <td>咳嗽、呼吸喘</td>\n",
              "      <td>2021/05/25</td>\n",
              "      <td>5/28住院</td>\n",
              "      <td>2021/05/27</td>\n",
              "      <td>2021-06-06</td>\n",
              "    </tr>\n",
              "    <tr>\n",
              "      <th>...</th>\n",
              "      <td>...</td>\n",
              "      <td>...</td>\n",
              "      <td>...</td>\n",
              "      <td>...</td>\n",
              "      <td>...</td>\n",
              "      <td>...</td>\n",
              "      <td>...</td>\n",
              "      <td>...</td>\n",
              "      <td>...</td>\n",
              "      <td>...</td>\n",
              "      <td>...</td>\n",
              "      <td>...</td>\n",
              "      <td>...</td>\n",
              "    </tr>\n",
              "    <tr>\n",
              "      <th>303</th>\n",
              "      <td>303</td>\n",
              "      <td>2021-03-20</td>\n",
              "      <td>27</td>\n",
              "      <td>男</td>\n",
              "      <td>80</td>\n",
              "      <td>高血壓、糖尿病、腎臟病</td>\n",
              "      <td>NaN</td>\n",
              "      <td>2021/2/6</td>\n",
              "      <td>NaN</td>\n",
              "      <td>NaN</td>\n",
              "      <td>NaN</td>\n",
              "      <td>2021/2/23</td>\n",
              "      <td>2021-03-20</td>\n",
              "    </tr>\n",
              "    <tr>\n",
              "      <th>304</th>\n",
              "      <td>299</td>\n",
              "      <td>2021-03-06</td>\n",
              "      <td>935</td>\n",
              "      <td>男</td>\n",
              "      <td>60</td>\n",
              "      <td>糖尿病、高血壓</td>\n",
              "      <td>緬甸回台</td>\n",
              "      <td>2021/12/24</td>\n",
              "      <td>NaN</td>\n",
              "      <td>NaN</td>\n",
              "      <td>NaN</td>\n",
              "      <td>2021/12/29</td>\n",
              "      <td>2021-03-05</td>\n",
              "    </tr>\n",
              "    <tr>\n",
              "      <th>305</th>\n",
              "      <td>302</td>\n",
              "      <td>2021-02-16</td>\n",
              "      <td>19</td>\n",
              "      <td>男</td>\n",
              "      <td>60</td>\n",
              "      <td>B型肝炎、糖尿病</td>\n",
              "      <td>接觸其他確診者</td>\n",
              "      <td>2021/1/15</td>\n",
              "      <td>NaN</td>\n",
              "      <td>NaN</td>\n",
              "      <td>NaN</td>\n",
              "      <td>2021/2/15</td>\n",
              "      <td>2021-02-25</td>\n",
              "    </tr>\n",
              "    <tr>\n",
              "      <th>306</th>\n",
              "      <td>300</td>\n",
              "      <td>2021-02-04</td>\n",
              "      <td>799</td>\n",
              "      <td>男</td>\n",
              "      <td>70</td>\n",
              "      <td>NaN</td>\n",
              "      <td>境外移入（英國變種病毒）</td>\n",
              "      <td>2021/12/26</td>\n",
              "      <td>NaN</td>\n",
              "      <td>NaN</td>\n",
              "      <td>NaN</td>\n",
              "      <td>2021/12/31</td>\n",
              "      <td>2021-02-03</td>\n",
              "    </tr>\n",
              "    <tr>\n",
              "      <th>307</th>\n",
              "      <td>301</td>\n",
              "      <td>2021-01-30</td>\n",
              "      <td>907</td>\n",
              "      <td>女</td>\n",
              "      <td>80</td>\n",
              "      <td>慢性腎病、糖尿病、高血壓、心臟衰竭等</td>\n",
              "      <td>接觸其他確診者</td>\n",
              "      <td>2021/1/28</td>\n",
              "      <td>NaN</td>\n",
              "      <td>NaN</td>\n",
              "      <td>NaN</td>\n",
              "      <td>2021/1/29</td>\n",
              "      <td>2021-01-29</td>\n",
              "    </tr>\n",
              "  </tbody>\n",
              "</table>\n",
              "<p>308 rows × 13 columns</p>\n",
              "</div>"
            ],
            "text/plain": [
              "      ID         公布日     案號  ...          住院/隔離日         確診日         死亡日\n",
              "0     12  2021-06-08   7766  ...          5/31住院  2021/05/29  2021-06-07\n",
              "1     13  2021-06-08   8399  ...  5/30防疫旅館5/31住院  2021/05/31  2021-06-07\n",
              "2     22  2021-06-08  10239  ...          5/31住院   2021/06/4  2021-06-07\n",
              "3      3  2021-06-08   3567  ...  5/20防疫旅館5/25住院  2021/05/22  2021-06-06\n",
              "4      7  2021-06-08   6729  ...          5/28住院  2021/05/27  2021-06-06\n",
              "..   ...         ...    ...  ...             ...         ...         ...\n",
              "303  303  2021-03-20     27  ...             NaN   2021/2/23  2021-03-20\n",
              "304  299  2021-03-06    935  ...             NaN  2021/12/29  2021-03-05\n",
              "305  302  2021-02-16     19  ...             NaN   2021/2/15  2021-02-25\n",
              "306  300  2021-02-04    799  ...             NaN  2021/12/31  2021-02-03\n",
              "307  301  2021-01-30    907  ...             NaN   2021/1/29  2021-01-29\n",
              "\n",
              "[308 rows x 13 columns]"
            ]
          },
          "metadata": {
            "tags": []
          },
          "execution_count": 25
        }
      ]
    },
    {
      "cell_type": "code",
      "metadata": {
        "colab": {
          "base_uri": "https://localhost:8080/"
        },
        "id": "C96f7-bRmcNP",
        "outputId": "ef5eb92a-b15e-4d9f-f97e-1b0a72aa63df"
      },
      "source": [
        "# 檢視各欄位的資料型態與缺失值狀況\n",
        "raw_data.info()"
      ],
      "execution_count": null,
      "outputs": [
        {
          "output_type": "stream",
          "text": [
            "<class 'pandas.core.frame.DataFrame'>\n",
            "RangeIndex: 308 entries, 0 to 307\n",
            "Data columns (total 13 columns):\n",
            " #   Column  Non-Null Count  Dtype \n",
            "---  ------  --------------  ----- \n",
            " 0   ID      308 non-null    int64 \n",
            " 1   公布日     308 non-null    object\n",
            " 2   案號      308 non-null    int64 \n",
            " 3   性別      308 non-null    object\n",
            " 4   年齡      308 non-null    int64 \n",
            " 5   慢性病史    292 non-null    object\n",
            " 6   活動接觸史   283 non-null    object\n",
            " 7   發病日     301 non-null    object\n",
            " 8   症狀      289 non-null    object\n",
            " 9   採檢日     275 non-null    object\n",
            " 10  住院/隔離日  282 non-null    object\n",
            " 11  確診日     307 non-null    object\n",
            " 12  死亡日     308 non-null    object\n",
            "dtypes: int64(3), object(10)\n",
            "memory usage: 31.4+ KB\n"
          ],
          "name": "stdout"
        }
      ]
    },
    {
      "cell_type": "markdown",
      "metadata": {
        "id": "ti_d_EFaA2RB"
      },
      "source": [
        "### Step 2 : 篩選欄位   \n",
        "\n",
        "從原始資料中篩選出【性別】、【發病日】、【確診日】、【死亡日】四個欄位的資料 : \n"
      ]
    },
    {
      "cell_type": "code",
      "metadata": {
        "colab": {
          "base_uri": "https://localhost:8080/"
        },
        "id": "_blA8GqMBkls",
        "outputId": "d037ec43-59ff-4ac6-dfae-a27a78ed6817"
      },
      "source": [
        "plot_df = raw_data[ ['性別','發病日','確診日','死亡日'] ]\n",
        "plot_df"
      ],
      "execution_count": null,
      "outputs": [
        {
          "output_type": "execute_result",
          "data": {
            "text/html": [
              "<div>\n",
              "<style scoped>\n",
              "    .dataframe tbody tr th:only-of-type {\n",
              "        vertical-align: middle;\n",
              "    }\n",
              "\n",
              "    .dataframe tbody tr th {\n",
              "        vertical-align: top;\n",
              "    }\n",
              "\n",
              "    .dataframe thead th {\n",
              "        text-align: right;\n",
              "    }\n",
              "</style>\n",
              "<table border=\"1\" class=\"dataframe\">\n",
              "  <thead>\n",
              "    <tr style=\"text-align: right;\">\n",
              "      <th></th>\n",
              "      <th>性別</th>\n",
              "      <th>發病日</th>\n",
              "      <th>確診日</th>\n",
              "      <th>死亡日</th>\n",
              "    </tr>\n",
              "  </thead>\n",
              "  <tbody>\n",
              "    <tr>\n",
              "      <th>0</th>\n",
              "      <td>女</td>\n",
              "      <td>2021/05/27</td>\n",
              "      <td>2021/05/29</td>\n",
              "      <td>2021-06-07</td>\n",
              "    </tr>\n",
              "    <tr>\n",
              "      <th>1</th>\n",
              "      <td>女</td>\n",
              "      <td>2021/05/29</td>\n",
              "      <td>2021/05/31</td>\n",
              "      <td>2021-06-07</td>\n",
              "    </tr>\n",
              "    <tr>\n",
              "      <th>2</th>\n",
              "      <td>女</td>\n",
              "      <td>2021/05/30</td>\n",
              "      <td>2021/06/4</td>\n",
              "      <td>2021-06-07</td>\n",
              "    </tr>\n",
              "    <tr>\n",
              "      <th>3</th>\n",
              "      <td>女</td>\n",
              "      <td>2021/05/20</td>\n",
              "      <td>2021/05/22</td>\n",
              "      <td>2021-06-06</td>\n",
              "    </tr>\n",
              "    <tr>\n",
              "      <th>4</th>\n",
              "      <td>男</td>\n",
              "      <td>2021/05/18</td>\n",
              "      <td>2021/05/27</td>\n",
              "      <td>2021-06-06</td>\n",
              "    </tr>\n",
              "    <tr>\n",
              "      <th>...</th>\n",
              "      <td>...</td>\n",
              "      <td>...</td>\n",
              "      <td>...</td>\n",
              "      <td>...</td>\n",
              "    </tr>\n",
              "    <tr>\n",
              "      <th>303</th>\n",
              "      <td>男</td>\n",
              "      <td>2021/2/6</td>\n",
              "      <td>2021/2/23</td>\n",
              "      <td>2021-03-20</td>\n",
              "    </tr>\n",
              "    <tr>\n",
              "      <th>304</th>\n",
              "      <td>男</td>\n",
              "      <td>2021/12/24</td>\n",
              "      <td>2021/12/29</td>\n",
              "      <td>2021-03-05</td>\n",
              "    </tr>\n",
              "    <tr>\n",
              "      <th>305</th>\n",
              "      <td>男</td>\n",
              "      <td>2021/1/15</td>\n",
              "      <td>2021/2/15</td>\n",
              "      <td>2021-02-25</td>\n",
              "    </tr>\n",
              "    <tr>\n",
              "      <th>306</th>\n",
              "      <td>男</td>\n",
              "      <td>2021/12/26</td>\n",
              "      <td>2021/12/31</td>\n",
              "      <td>2021-02-03</td>\n",
              "    </tr>\n",
              "    <tr>\n",
              "      <th>307</th>\n",
              "      <td>女</td>\n",
              "      <td>2021/1/28</td>\n",
              "      <td>2021/1/29</td>\n",
              "      <td>2021-01-29</td>\n",
              "    </tr>\n",
              "  </tbody>\n",
              "</table>\n",
              "<p>308 rows × 4 columns</p>\n",
              "</div>"
            ],
            "text/plain": [
              "    性別         發病日         確診日         死亡日\n",
              "0    女  2021/05/27  2021/05/29  2021-06-07\n",
              "1    女  2021/05/29  2021/05/31  2021-06-07\n",
              "2    女  2021/05/30   2021/06/4  2021-06-07\n",
              "3    女  2021/05/20  2021/05/22  2021-06-06\n",
              "4    男  2021/05/18  2021/05/27  2021-06-06\n",
              "..  ..         ...         ...         ...\n",
              "303  男    2021/2/6   2021/2/23  2021-03-20\n",
              "304  男  2021/12/24  2021/12/29  2021-03-05\n",
              "305  男   2021/1/15   2021/2/15  2021-02-25\n",
              "306  男  2021/12/26  2021/12/31  2021-02-03\n",
              "307  女   2021/1/28   2021/1/29  2021-01-29\n",
              "\n",
              "[308 rows x 4 columns]"
            ]
          },
          "metadata": {
            "tags": []
          },
          "execution_count": 27
        }
      ]
    },
    {
      "cell_type": "markdown",
      "metadata": {
        "id": "NUHhsoSAIOC6"
      },
      "source": [
        "### Step 3 : 缺失值( Missing Value )    "
      ]
    },
    {
      "cell_type": "code",
      "metadata": {
        "colab": {
          "base_uri": "https://localhost:8080/"
        },
        "id": "HrxH4_rNIOKX",
        "outputId": "a238935f-69ae-4af1-d319-2684137fe832"
      },
      "source": [
        "# 檢查欄位是否存有缺失值\n",
        "null_summary = plot_df.isnull().sum()\n",
        "null_summary"
      ],
      "execution_count": null,
      "outputs": [
        {
          "output_type": "execute_result",
          "data": {
            "text/plain": [
              "性別     0\n",
              "發病日    7\n",
              "確診日    1\n",
              "死亡日    0\n",
              "dtype: int64"
            ]
          },
          "metadata": {
            "tags": []
          },
          "execution_count": 28
        }
      ]
    },
    {
      "cell_type": "code",
      "metadata": {
        "colab": {
          "base_uri": "https://localhost:8080/"
        },
        "id": "wfUxuQB4JLrc",
        "outputId": "7a8b2fc2-aa35-47f3-9ecc-5d23e863e692"
      },
      "source": [
        "# 刪除存有缺失值的整列資料\n",
        "plot_df = plot_df.dropna()\n",
        "plot_df"
      ],
      "execution_count": null,
      "outputs": [
        {
          "output_type": "execute_result",
          "data": {
            "text/html": [
              "<div>\n",
              "<style scoped>\n",
              "    .dataframe tbody tr th:only-of-type {\n",
              "        vertical-align: middle;\n",
              "    }\n",
              "\n",
              "    .dataframe tbody tr th {\n",
              "        vertical-align: top;\n",
              "    }\n",
              "\n",
              "    .dataframe thead th {\n",
              "        text-align: right;\n",
              "    }\n",
              "</style>\n",
              "<table border=\"1\" class=\"dataframe\">\n",
              "  <thead>\n",
              "    <tr style=\"text-align: right;\">\n",
              "      <th></th>\n",
              "      <th>性別</th>\n",
              "      <th>發病日</th>\n",
              "      <th>確診日</th>\n",
              "      <th>死亡日</th>\n",
              "    </tr>\n",
              "  </thead>\n",
              "  <tbody>\n",
              "    <tr>\n",
              "      <th>0</th>\n",
              "      <td>女</td>\n",
              "      <td>2021/05/27</td>\n",
              "      <td>2021/05/29</td>\n",
              "      <td>2021-06-07</td>\n",
              "    </tr>\n",
              "    <tr>\n",
              "      <th>1</th>\n",
              "      <td>女</td>\n",
              "      <td>2021/05/29</td>\n",
              "      <td>2021/05/31</td>\n",
              "      <td>2021-06-07</td>\n",
              "    </tr>\n",
              "    <tr>\n",
              "      <th>2</th>\n",
              "      <td>女</td>\n",
              "      <td>2021/05/30</td>\n",
              "      <td>2021/06/4</td>\n",
              "      <td>2021-06-07</td>\n",
              "    </tr>\n",
              "    <tr>\n",
              "      <th>3</th>\n",
              "      <td>女</td>\n",
              "      <td>2021/05/20</td>\n",
              "      <td>2021/05/22</td>\n",
              "      <td>2021-06-06</td>\n",
              "    </tr>\n",
              "    <tr>\n",
              "      <th>4</th>\n",
              "      <td>男</td>\n",
              "      <td>2021/05/18</td>\n",
              "      <td>2021/05/27</td>\n",
              "      <td>2021-06-06</td>\n",
              "    </tr>\n",
              "    <tr>\n",
              "      <th>...</th>\n",
              "      <td>...</td>\n",
              "      <td>...</td>\n",
              "      <td>...</td>\n",
              "      <td>...</td>\n",
              "    </tr>\n",
              "    <tr>\n",
              "      <th>303</th>\n",
              "      <td>男</td>\n",
              "      <td>2021/2/6</td>\n",
              "      <td>2021/2/23</td>\n",
              "      <td>2021-03-20</td>\n",
              "    </tr>\n",
              "    <tr>\n",
              "      <th>304</th>\n",
              "      <td>男</td>\n",
              "      <td>2021/12/24</td>\n",
              "      <td>2021/12/29</td>\n",
              "      <td>2021-03-05</td>\n",
              "    </tr>\n",
              "    <tr>\n",
              "      <th>305</th>\n",
              "      <td>男</td>\n",
              "      <td>2021/1/15</td>\n",
              "      <td>2021/2/15</td>\n",
              "      <td>2021-02-25</td>\n",
              "    </tr>\n",
              "    <tr>\n",
              "      <th>306</th>\n",
              "      <td>男</td>\n",
              "      <td>2021/12/26</td>\n",
              "      <td>2021/12/31</td>\n",
              "      <td>2021-02-03</td>\n",
              "    </tr>\n",
              "    <tr>\n",
              "      <th>307</th>\n",
              "      <td>女</td>\n",
              "      <td>2021/1/28</td>\n",
              "      <td>2021/1/29</td>\n",
              "      <td>2021-01-29</td>\n",
              "    </tr>\n",
              "  </tbody>\n",
              "</table>\n",
              "<p>300 rows × 4 columns</p>\n",
              "</div>"
            ],
            "text/plain": [
              "    性別         發病日         確診日         死亡日\n",
              "0    女  2021/05/27  2021/05/29  2021-06-07\n",
              "1    女  2021/05/29  2021/05/31  2021-06-07\n",
              "2    女  2021/05/30   2021/06/4  2021-06-07\n",
              "3    女  2021/05/20  2021/05/22  2021-06-06\n",
              "4    男  2021/05/18  2021/05/27  2021-06-06\n",
              "..  ..         ...         ...         ...\n",
              "303  男    2021/2/6   2021/2/23  2021-03-20\n",
              "304  男  2021/12/24  2021/12/29  2021-03-05\n",
              "305  男   2021/1/15   2021/2/15  2021-02-25\n",
              "306  男  2021/12/26  2021/12/31  2021-02-03\n",
              "307  女   2021/1/28   2021/1/29  2021-01-29\n",
              "\n",
              "[300 rows x 4 columns]"
            ]
          },
          "metadata": {
            "tags": []
          },
          "execution_count": 29
        }
      ]
    },
    {
      "cell_type": "code",
      "metadata": {
        "colab": {
          "base_uri": "https://localhost:8080/"
        },
        "id": "TCk_XuIYJSyJ",
        "outputId": "dfa95fec-73e4-419d-cb8a-b3919e7a49ad"
      },
      "source": [
        "# 再次檢查欄位是否存有缺失值\n",
        "null_summary = plot_df.isnull().sum()\n",
        "null_summary"
      ],
      "execution_count": null,
      "outputs": [
        {
          "output_type": "execute_result",
          "data": {
            "text/plain": [
              "性別     0\n",
              "發病日    0\n",
              "確診日    0\n",
              "死亡日    0\n",
              "dtype: int64"
            ]
          },
          "metadata": {
            "tags": []
          },
          "execution_count": 30
        }
      ]
    },
    {
      "cell_type": "markdown",
      "metadata": {
        "id": "qFb6OHmJBzCs"
      },
      "source": [
        "### Step 4 : 處理日期型態的資料    \n",
        "\n",
        "對於【發病日】、【確診日】及【死亡日】三個欄位，將其資料型態從字串傳換成日期型態 : "
      ]
    },
    {
      "cell_type": "markdown",
      "metadata": {
        "id": "-RSDjJxBvAwv"
      },
      "source": [
        "Step 4-1 清理資料     \n",
        "排除【發病日】、【確診日】兩欄位中，非日期格式的資料。"
      ]
    },
    {
      "cell_type": "markdown",
      "metadata": {
        "id": "iYdrPipsByi8"
      },
      "source": [
        "在【發病日】欄位中，刪除非日期格式的資料，例如 : 調查中、無症狀。"
      ]
    },
    {
      "cell_type": "code",
      "metadata": {
        "colab": {
          "base_uri": "https://localhost:8080/"
        },
        "id": "Qb_oxHfktVKT",
        "outputId": "2730b7e1-0523-43ec-d2cc-68b85c5e1191"
      },
      "source": [
        "# 檢視欄位中相異資料的類別資訊\n",
        "plot_df['發病日'].unique()"
      ],
      "execution_count": null,
      "outputs": [
        {
          "output_type": "execute_result",
          "data": {
            "text/plain": [
              "array(['2021/05/27', '2021/05/29', '2021/05/30', '2021/05/20',\n",
              "       '2021/05/18', '2021/05/26', '2021/05/28', '2021/05/15',\n",
              "       '2021/05/21', '2021/05/13', '2021/05/22', '2021/05/25',\n",
              "       '2021/5/25', '2021/6/1', '2021/5/24', '2021/5/30', '2021/5/31',\n",
              "       '2021/6/2', '2021/5/20', '2021/5/17', '2021/5/19', '2021/5/18',\n",
              "       '2021/5/21', '2021/5/26', '2021/5/29', '2021/5/10', '2021/5/15',\n",
              "       '調查中', '2021/5/16', '2021/5/28', '2021/5/14', '2021/5/13',\n",
              "       '2021/5/23', '2021/5/7', '2021/5/22', '2021/5/27', '2021/5/8',\n",
              "       '2021/5/11', '2021/5/2', '2021/5/12', '2021/5/6', '無症狀',\n",
              "       '2021/3/19', '2021/4/19', '2021/1/19', '2021/3/17', '2021/2/21',\n",
              "       '2021/3/20', '2021/2/6', '2021/12/24', '2021/1/15', '2021/12/26',\n",
              "       '2021/1/28'], dtype=object)"
            ]
          },
          "metadata": {
            "tags": []
          },
          "execution_count": 31
        }
      ]
    },
    {
      "cell_type": "code",
      "metadata": {
        "colab": {
          "base_uri": "https://localhost:8080/"
        },
        "id": "8yVHB7ZWCBnV",
        "outputId": "00e5d38a-68f7-4bba-95d2-db8dd514e2d7"
      },
      "source": [
        "plot_df = plot_df[ plot_df['發病日'].str.len() > 4 ]\n",
        "plot_df"
      ],
      "execution_count": null,
      "outputs": [
        {
          "output_type": "execute_result",
          "data": {
            "text/html": [
              "<div>\n",
              "<style scoped>\n",
              "    .dataframe tbody tr th:only-of-type {\n",
              "        vertical-align: middle;\n",
              "    }\n",
              "\n",
              "    .dataframe tbody tr th {\n",
              "        vertical-align: top;\n",
              "    }\n",
              "\n",
              "    .dataframe thead th {\n",
              "        text-align: right;\n",
              "    }\n",
              "</style>\n",
              "<table border=\"1\" class=\"dataframe\">\n",
              "  <thead>\n",
              "    <tr style=\"text-align: right;\">\n",
              "      <th></th>\n",
              "      <th>性別</th>\n",
              "      <th>發病日</th>\n",
              "      <th>確診日</th>\n",
              "      <th>死亡日</th>\n",
              "    </tr>\n",
              "  </thead>\n",
              "  <tbody>\n",
              "    <tr>\n",
              "      <th>0</th>\n",
              "      <td>女</td>\n",
              "      <td>2021/05/27</td>\n",
              "      <td>2021/05/29</td>\n",
              "      <td>2021-06-07</td>\n",
              "    </tr>\n",
              "    <tr>\n",
              "      <th>1</th>\n",
              "      <td>女</td>\n",
              "      <td>2021/05/29</td>\n",
              "      <td>2021/05/31</td>\n",
              "      <td>2021-06-07</td>\n",
              "    </tr>\n",
              "    <tr>\n",
              "      <th>2</th>\n",
              "      <td>女</td>\n",
              "      <td>2021/05/30</td>\n",
              "      <td>2021/06/4</td>\n",
              "      <td>2021-06-07</td>\n",
              "    </tr>\n",
              "    <tr>\n",
              "      <th>3</th>\n",
              "      <td>女</td>\n",
              "      <td>2021/05/20</td>\n",
              "      <td>2021/05/22</td>\n",
              "      <td>2021-06-06</td>\n",
              "    </tr>\n",
              "    <tr>\n",
              "      <th>4</th>\n",
              "      <td>男</td>\n",
              "      <td>2021/05/18</td>\n",
              "      <td>2021/05/27</td>\n",
              "      <td>2021-06-06</td>\n",
              "    </tr>\n",
              "    <tr>\n",
              "      <th>...</th>\n",
              "      <td>...</td>\n",
              "      <td>...</td>\n",
              "      <td>...</td>\n",
              "      <td>...</td>\n",
              "    </tr>\n",
              "    <tr>\n",
              "      <th>303</th>\n",
              "      <td>男</td>\n",
              "      <td>2021/2/6</td>\n",
              "      <td>2021/2/23</td>\n",
              "      <td>2021-03-20</td>\n",
              "    </tr>\n",
              "    <tr>\n",
              "      <th>304</th>\n",
              "      <td>男</td>\n",
              "      <td>2021/12/24</td>\n",
              "      <td>2021/12/29</td>\n",
              "      <td>2021-03-05</td>\n",
              "    </tr>\n",
              "    <tr>\n",
              "      <th>305</th>\n",
              "      <td>男</td>\n",
              "      <td>2021/1/15</td>\n",
              "      <td>2021/2/15</td>\n",
              "      <td>2021-02-25</td>\n",
              "    </tr>\n",
              "    <tr>\n",
              "      <th>306</th>\n",
              "      <td>男</td>\n",
              "      <td>2021/12/26</td>\n",
              "      <td>2021/12/31</td>\n",
              "      <td>2021-02-03</td>\n",
              "    </tr>\n",
              "    <tr>\n",
              "      <th>307</th>\n",
              "      <td>女</td>\n",
              "      <td>2021/1/28</td>\n",
              "      <td>2021/1/29</td>\n",
              "      <td>2021-01-29</td>\n",
              "    </tr>\n",
              "  </tbody>\n",
              "</table>\n",
              "<p>294 rows × 4 columns</p>\n",
              "</div>"
            ],
            "text/plain": [
              "    性別         發病日         確診日         死亡日\n",
              "0    女  2021/05/27  2021/05/29  2021-06-07\n",
              "1    女  2021/05/29  2021/05/31  2021-06-07\n",
              "2    女  2021/05/30   2021/06/4  2021-06-07\n",
              "3    女  2021/05/20  2021/05/22  2021-06-06\n",
              "4    男  2021/05/18  2021/05/27  2021-06-06\n",
              "..  ..         ...         ...         ...\n",
              "303  男    2021/2/6   2021/2/23  2021-03-20\n",
              "304  男  2021/12/24  2021/12/29  2021-03-05\n",
              "305  男   2021/1/15   2021/2/15  2021-02-25\n",
              "306  男  2021/12/26  2021/12/31  2021-02-03\n",
              "307  女   2021/1/28   2021/1/29  2021-01-29\n",
              "\n",
              "[294 rows x 4 columns]"
            ]
          },
          "metadata": {
            "tags": []
          },
          "execution_count": 32
        }
      ]
    },
    {
      "cell_type": "markdown",
      "metadata": {
        "id": "8R98NyENBtCe"
      },
      "source": [
        "在【確診日】欄位中，刪除非日期格式的資料，例如 : 5/2o 。"
      ]
    },
    {
      "cell_type": "code",
      "metadata": {
        "colab": {
          "base_uri": "https://localhost:8080/"
        },
        "id": "87qQEwx0tu8E",
        "outputId": "f064e42b-96bb-4579-907f-f53a47c5b6a5"
      },
      "source": [
        "# 檢視欄位中相異資料的類別資訊\n",
        "plot_df['確診日'].unique()"
      ],
      "execution_count": null,
      "outputs": [
        {
          "output_type": "execute_result",
          "data": {
            "text/plain": [
              "array(['2021/05/29', '2021/05/31', '2021/06/4', '2021/05/22',\n",
              "       '2021/05/27', '2021/06/1', '2021/05/23', '2021/05/25',\n",
              "       '2021/05/18', '2021/06/2', '2021/05/24', '2021/5/27', '2021/6/5',\n",
              "       '2021/6/1', '2021/6/2', '2021/6/4', '2021/5/22', '2021/5/23',\n",
              "       '2021/5/24', '2021/5/25', '2021/5/28', '2021/5/29', '2021/5/30',\n",
              "       '2021/5/12', '2021/5/20', '2021/5/19', '2021/5/17', '2021/5/26',\n",
              "       '2021/5/31', '2021/5/13', '2021/5/18', '2021/6/3', '2021/5/15',\n",
              "       '2021/5/16', '2021/5/21', '2021/5/14', '5/2o', '2021/3/21',\n",
              "       '2021/4/23', '2021/1/24', '2021/3/19', '2021/2/28', '2021/3/23',\n",
              "       '2021/2/23', '2021/12/29', '2021/2/15', '2021/12/31', '2021/1/29'],\n",
              "      dtype=object)"
            ]
          },
          "metadata": {
            "tags": []
          },
          "execution_count": 33
        }
      ]
    },
    {
      "cell_type": "code",
      "metadata": {
        "colab": {
          "base_uri": "https://localhost:8080/"
        },
        "id": "X0wDtBmQLAKU",
        "outputId": "ff8b59d6-b526-4ce0-e251-df3b1432690f"
      },
      "source": [
        "plot_df = plot_df[ plot_df['確診日'].str.len() > 4 ]\n",
        "plot_df"
      ],
      "execution_count": null,
      "outputs": [
        {
          "output_type": "execute_result",
          "data": {
            "text/html": [
              "<div>\n",
              "<style scoped>\n",
              "    .dataframe tbody tr th:only-of-type {\n",
              "        vertical-align: middle;\n",
              "    }\n",
              "\n",
              "    .dataframe tbody tr th {\n",
              "        vertical-align: top;\n",
              "    }\n",
              "\n",
              "    .dataframe thead th {\n",
              "        text-align: right;\n",
              "    }\n",
              "</style>\n",
              "<table border=\"1\" class=\"dataframe\">\n",
              "  <thead>\n",
              "    <tr style=\"text-align: right;\">\n",
              "      <th></th>\n",
              "      <th>性別</th>\n",
              "      <th>發病日</th>\n",
              "      <th>確診日</th>\n",
              "      <th>死亡日</th>\n",
              "    </tr>\n",
              "  </thead>\n",
              "  <tbody>\n",
              "    <tr>\n",
              "      <th>0</th>\n",
              "      <td>女</td>\n",
              "      <td>2021/05/27</td>\n",
              "      <td>2021/05/29</td>\n",
              "      <td>2021-06-07</td>\n",
              "    </tr>\n",
              "    <tr>\n",
              "      <th>1</th>\n",
              "      <td>女</td>\n",
              "      <td>2021/05/29</td>\n",
              "      <td>2021/05/31</td>\n",
              "      <td>2021-06-07</td>\n",
              "    </tr>\n",
              "    <tr>\n",
              "      <th>2</th>\n",
              "      <td>女</td>\n",
              "      <td>2021/05/30</td>\n",
              "      <td>2021/06/4</td>\n",
              "      <td>2021-06-07</td>\n",
              "    </tr>\n",
              "    <tr>\n",
              "      <th>3</th>\n",
              "      <td>女</td>\n",
              "      <td>2021/05/20</td>\n",
              "      <td>2021/05/22</td>\n",
              "      <td>2021-06-06</td>\n",
              "    </tr>\n",
              "    <tr>\n",
              "      <th>4</th>\n",
              "      <td>男</td>\n",
              "      <td>2021/05/18</td>\n",
              "      <td>2021/05/27</td>\n",
              "      <td>2021-06-06</td>\n",
              "    </tr>\n",
              "    <tr>\n",
              "      <th>...</th>\n",
              "      <td>...</td>\n",
              "      <td>...</td>\n",
              "      <td>...</td>\n",
              "      <td>...</td>\n",
              "    </tr>\n",
              "    <tr>\n",
              "      <th>303</th>\n",
              "      <td>男</td>\n",
              "      <td>2021/2/6</td>\n",
              "      <td>2021/2/23</td>\n",
              "      <td>2021-03-20</td>\n",
              "    </tr>\n",
              "    <tr>\n",
              "      <th>304</th>\n",
              "      <td>男</td>\n",
              "      <td>2021/12/24</td>\n",
              "      <td>2021/12/29</td>\n",
              "      <td>2021-03-05</td>\n",
              "    </tr>\n",
              "    <tr>\n",
              "      <th>305</th>\n",
              "      <td>男</td>\n",
              "      <td>2021/1/15</td>\n",
              "      <td>2021/2/15</td>\n",
              "      <td>2021-02-25</td>\n",
              "    </tr>\n",
              "    <tr>\n",
              "      <th>306</th>\n",
              "      <td>男</td>\n",
              "      <td>2021/12/26</td>\n",
              "      <td>2021/12/31</td>\n",
              "      <td>2021-02-03</td>\n",
              "    </tr>\n",
              "    <tr>\n",
              "      <th>307</th>\n",
              "      <td>女</td>\n",
              "      <td>2021/1/28</td>\n",
              "      <td>2021/1/29</td>\n",
              "      <td>2021-01-29</td>\n",
              "    </tr>\n",
              "  </tbody>\n",
              "</table>\n",
              "<p>293 rows × 4 columns</p>\n",
              "</div>"
            ],
            "text/plain": [
              "    性別         發病日         確診日         死亡日\n",
              "0    女  2021/05/27  2021/05/29  2021-06-07\n",
              "1    女  2021/05/29  2021/05/31  2021-06-07\n",
              "2    女  2021/05/30   2021/06/4  2021-06-07\n",
              "3    女  2021/05/20  2021/05/22  2021-06-06\n",
              "4    男  2021/05/18  2021/05/27  2021-06-06\n",
              "..  ..         ...         ...         ...\n",
              "303  男    2021/2/6   2021/2/23  2021-03-20\n",
              "304  男  2021/12/24  2021/12/29  2021-03-05\n",
              "305  男   2021/1/15   2021/2/15  2021-02-25\n",
              "306  男  2021/12/26  2021/12/31  2021-02-03\n",
              "307  女   2021/1/28   2021/1/29  2021-01-29\n",
              "\n",
              "[293 rows x 4 columns]"
            ]
          },
          "metadata": {
            "tags": []
          },
          "execution_count": 34
        }
      ]
    },
    {
      "cell_type": "markdown",
      "metadata": {
        "id": "x0iJ3QMKverY"
      },
      "source": [
        "Step 4-2 轉換資料型態   \n",
        "  \n",
        "將 【發病日】、【確診日】、【死亡日】 三個欄位從文字型態轉成日期型態 :   "
      ]
    },
    {
      "cell_type": "code",
      "metadata": {
        "colab": {
          "base_uri": "https://localhost:8080/"
        },
        "id": "HMrsqbeWCdmm",
        "outputId": "7bcd2980-3ce0-4be1-a895-8f01160e6c0a"
      },
      "source": [
        "# 將文字型態的欄位轉變成日期型態\n",
        "pd.options.mode.chained_assignment = None \n",
        "\n",
        "for col in ['發病日','確診日','死亡日']: \n",
        "    plot_df[col] = plot_df[col].astype('datetime64')\n",
        "\n",
        "plot_df"
      ],
      "execution_count": null,
      "outputs": [
        {
          "output_type": "execute_result",
          "data": {
            "text/html": [
              "<div>\n",
              "<style scoped>\n",
              "    .dataframe tbody tr th:only-of-type {\n",
              "        vertical-align: middle;\n",
              "    }\n",
              "\n",
              "    .dataframe tbody tr th {\n",
              "        vertical-align: top;\n",
              "    }\n",
              "\n",
              "    .dataframe thead th {\n",
              "        text-align: right;\n",
              "    }\n",
              "</style>\n",
              "<table border=\"1\" class=\"dataframe\">\n",
              "  <thead>\n",
              "    <tr style=\"text-align: right;\">\n",
              "      <th></th>\n",
              "      <th>性別</th>\n",
              "      <th>發病日</th>\n",
              "      <th>確診日</th>\n",
              "      <th>死亡日</th>\n",
              "    </tr>\n",
              "  </thead>\n",
              "  <tbody>\n",
              "    <tr>\n",
              "      <th>0</th>\n",
              "      <td>女</td>\n",
              "      <td>2021-05-27</td>\n",
              "      <td>2021-05-29</td>\n",
              "      <td>2021-06-07</td>\n",
              "    </tr>\n",
              "    <tr>\n",
              "      <th>1</th>\n",
              "      <td>女</td>\n",
              "      <td>2021-05-29</td>\n",
              "      <td>2021-05-31</td>\n",
              "      <td>2021-06-07</td>\n",
              "    </tr>\n",
              "    <tr>\n",
              "      <th>2</th>\n",
              "      <td>女</td>\n",
              "      <td>2021-05-30</td>\n",
              "      <td>2021-06-04</td>\n",
              "      <td>2021-06-07</td>\n",
              "    </tr>\n",
              "    <tr>\n",
              "      <th>3</th>\n",
              "      <td>女</td>\n",
              "      <td>2021-05-20</td>\n",
              "      <td>2021-05-22</td>\n",
              "      <td>2021-06-06</td>\n",
              "    </tr>\n",
              "    <tr>\n",
              "      <th>4</th>\n",
              "      <td>男</td>\n",
              "      <td>2021-05-18</td>\n",
              "      <td>2021-05-27</td>\n",
              "      <td>2021-06-06</td>\n",
              "    </tr>\n",
              "    <tr>\n",
              "      <th>...</th>\n",
              "      <td>...</td>\n",
              "      <td>...</td>\n",
              "      <td>...</td>\n",
              "      <td>...</td>\n",
              "    </tr>\n",
              "    <tr>\n",
              "      <th>303</th>\n",
              "      <td>男</td>\n",
              "      <td>2021-02-06</td>\n",
              "      <td>2021-02-23</td>\n",
              "      <td>2021-03-20</td>\n",
              "    </tr>\n",
              "    <tr>\n",
              "      <th>304</th>\n",
              "      <td>男</td>\n",
              "      <td>2021-12-24</td>\n",
              "      <td>2021-12-29</td>\n",
              "      <td>2021-03-05</td>\n",
              "    </tr>\n",
              "    <tr>\n",
              "      <th>305</th>\n",
              "      <td>男</td>\n",
              "      <td>2021-01-15</td>\n",
              "      <td>2021-02-15</td>\n",
              "      <td>2021-02-25</td>\n",
              "    </tr>\n",
              "    <tr>\n",
              "      <th>306</th>\n",
              "      <td>男</td>\n",
              "      <td>2021-12-26</td>\n",
              "      <td>2021-12-31</td>\n",
              "      <td>2021-02-03</td>\n",
              "    </tr>\n",
              "    <tr>\n",
              "      <th>307</th>\n",
              "      <td>女</td>\n",
              "      <td>2021-01-28</td>\n",
              "      <td>2021-01-29</td>\n",
              "      <td>2021-01-29</td>\n",
              "    </tr>\n",
              "  </tbody>\n",
              "</table>\n",
              "<p>293 rows × 4 columns</p>\n",
              "</div>"
            ],
            "text/plain": [
              "    性別        發病日        確診日        死亡日\n",
              "0    女 2021-05-27 2021-05-29 2021-06-07\n",
              "1    女 2021-05-29 2021-05-31 2021-06-07\n",
              "2    女 2021-05-30 2021-06-04 2021-06-07\n",
              "3    女 2021-05-20 2021-05-22 2021-06-06\n",
              "4    男 2021-05-18 2021-05-27 2021-06-06\n",
              "..  ..        ...        ...        ...\n",
              "303  男 2021-02-06 2021-02-23 2021-03-20\n",
              "304  男 2021-12-24 2021-12-29 2021-03-05\n",
              "305  男 2021-01-15 2021-02-15 2021-02-25\n",
              "306  男 2021-12-26 2021-12-31 2021-02-03\n",
              "307  女 2021-01-28 2021-01-29 2021-01-29\n",
              "\n",
              "[293 rows x 4 columns]"
            ]
          },
          "metadata": {
            "tags": []
          },
          "execution_count": 35
        }
      ]
    },
    {
      "cell_type": "markdown",
      "metadata": {
        "id": "P94utQtQx9zl"
      },
      "source": [
        "### Step 5 : 計算相隔天數   \n",
        "\n",
        " - 【發病日】與【死亡日】的相隔天數   \n",
        " - 【確診日】與【死亡日】的相隔天數"
      ]
    },
    {
      "cell_type": "code",
      "metadata": {
        "colab": {
          "base_uri": "https://localhost:8080/"
        },
        "id": "WVs6pel9woIY",
        "outputId": "3f96573f-5a62-4f36-eddc-f52e9e0a67a2"
      },
      "source": [
        "plot_df['發病-死亡'] = plot_df.apply( lambda x: (x['死亡日']-x['發病日']).days, axis=1 )\n",
        "plot_df['確診-死亡'] = plot_df.apply( lambda x: (x['死亡日']-x['確診日']).days, axis=1 )\n",
        "plot_df"
      ],
      "execution_count": null,
      "outputs": [
        {
          "output_type": "execute_result",
          "data": {
            "text/html": [
              "<div>\n",
              "<style scoped>\n",
              "    .dataframe tbody tr th:only-of-type {\n",
              "        vertical-align: middle;\n",
              "    }\n",
              "\n",
              "    .dataframe tbody tr th {\n",
              "        vertical-align: top;\n",
              "    }\n",
              "\n",
              "    .dataframe thead th {\n",
              "        text-align: right;\n",
              "    }\n",
              "</style>\n",
              "<table border=\"1\" class=\"dataframe\">\n",
              "  <thead>\n",
              "    <tr style=\"text-align: right;\">\n",
              "      <th></th>\n",
              "      <th>性別</th>\n",
              "      <th>發病日</th>\n",
              "      <th>確診日</th>\n",
              "      <th>死亡日</th>\n",
              "      <th>發病-死亡</th>\n",
              "      <th>確診-死亡</th>\n",
              "    </tr>\n",
              "  </thead>\n",
              "  <tbody>\n",
              "    <tr>\n",
              "      <th>0</th>\n",
              "      <td>女</td>\n",
              "      <td>2021-05-27</td>\n",
              "      <td>2021-05-29</td>\n",
              "      <td>2021-06-07</td>\n",
              "      <td>11</td>\n",
              "      <td>9</td>\n",
              "    </tr>\n",
              "    <tr>\n",
              "      <th>1</th>\n",
              "      <td>女</td>\n",
              "      <td>2021-05-29</td>\n",
              "      <td>2021-05-31</td>\n",
              "      <td>2021-06-07</td>\n",
              "      <td>9</td>\n",
              "      <td>7</td>\n",
              "    </tr>\n",
              "    <tr>\n",
              "      <th>2</th>\n",
              "      <td>女</td>\n",
              "      <td>2021-05-30</td>\n",
              "      <td>2021-06-04</td>\n",
              "      <td>2021-06-07</td>\n",
              "      <td>8</td>\n",
              "      <td>3</td>\n",
              "    </tr>\n",
              "    <tr>\n",
              "      <th>3</th>\n",
              "      <td>女</td>\n",
              "      <td>2021-05-20</td>\n",
              "      <td>2021-05-22</td>\n",
              "      <td>2021-06-06</td>\n",
              "      <td>17</td>\n",
              "      <td>15</td>\n",
              "    </tr>\n",
              "    <tr>\n",
              "      <th>4</th>\n",
              "      <td>男</td>\n",
              "      <td>2021-05-18</td>\n",
              "      <td>2021-05-27</td>\n",
              "      <td>2021-06-06</td>\n",
              "      <td>19</td>\n",
              "      <td>10</td>\n",
              "    </tr>\n",
              "    <tr>\n",
              "      <th>...</th>\n",
              "      <td>...</td>\n",
              "      <td>...</td>\n",
              "      <td>...</td>\n",
              "      <td>...</td>\n",
              "      <td>...</td>\n",
              "      <td>...</td>\n",
              "    </tr>\n",
              "    <tr>\n",
              "      <th>303</th>\n",
              "      <td>男</td>\n",
              "      <td>2021-02-06</td>\n",
              "      <td>2021-02-23</td>\n",
              "      <td>2021-03-20</td>\n",
              "      <td>42</td>\n",
              "      <td>25</td>\n",
              "    </tr>\n",
              "    <tr>\n",
              "      <th>304</th>\n",
              "      <td>男</td>\n",
              "      <td>2021-12-24</td>\n",
              "      <td>2021-12-29</td>\n",
              "      <td>2021-03-05</td>\n",
              "      <td>-294</td>\n",
              "      <td>-299</td>\n",
              "    </tr>\n",
              "    <tr>\n",
              "      <th>305</th>\n",
              "      <td>男</td>\n",
              "      <td>2021-01-15</td>\n",
              "      <td>2021-02-15</td>\n",
              "      <td>2021-02-25</td>\n",
              "      <td>41</td>\n",
              "      <td>10</td>\n",
              "    </tr>\n",
              "    <tr>\n",
              "      <th>306</th>\n",
              "      <td>男</td>\n",
              "      <td>2021-12-26</td>\n",
              "      <td>2021-12-31</td>\n",
              "      <td>2021-02-03</td>\n",
              "      <td>-326</td>\n",
              "      <td>-331</td>\n",
              "    </tr>\n",
              "    <tr>\n",
              "      <th>307</th>\n",
              "      <td>女</td>\n",
              "      <td>2021-01-28</td>\n",
              "      <td>2021-01-29</td>\n",
              "      <td>2021-01-29</td>\n",
              "      <td>1</td>\n",
              "      <td>0</td>\n",
              "    </tr>\n",
              "  </tbody>\n",
              "</table>\n",
              "<p>293 rows × 6 columns</p>\n",
              "</div>"
            ],
            "text/plain": [
              "    性別        發病日        確診日        死亡日  發病-死亡  確診-死亡\n",
              "0    女 2021-05-27 2021-05-29 2021-06-07     11      9\n",
              "1    女 2021-05-29 2021-05-31 2021-06-07      9      7\n",
              "2    女 2021-05-30 2021-06-04 2021-06-07      8      3\n",
              "3    女 2021-05-20 2021-05-22 2021-06-06     17     15\n",
              "4    男 2021-05-18 2021-05-27 2021-06-06     19     10\n",
              "..  ..        ...        ...        ...    ...    ...\n",
              "303  男 2021-02-06 2021-02-23 2021-03-20     42     25\n",
              "304  男 2021-12-24 2021-12-29 2021-03-05   -294   -299\n",
              "305  男 2021-01-15 2021-02-15 2021-02-25     41     10\n",
              "306  男 2021-12-26 2021-12-31 2021-02-03   -326   -331\n",
              "307  女 2021-01-28 2021-01-29 2021-01-29      1      0\n",
              "\n",
              "[293 rows x 6 columns]"
            ]
          },
          "metadata": {
            "tags": []
          },
          "execution_count": 36
        }
      ]
    },
    {
      "cell_type": "markdown",
      "metadata": {
        "id": "Fupn7EIZYt02"
      },
      "source": [
        "排除【確診-死亡】或【發病-死亡】兩欄位中小於 0 的資料 : "
      ]
    },
    {
      "cell_type": "code",
      "metadata": {
        "colab": {
          "base_uri": "https://localhost:8080/"
        },
        "id": "WjLR04K4x-AE",
        "outputId": "d0a5b024-fb24-4c54-bca6-8a0fdd9830f4"
      },
      "source": [
        "# 排除 '確診-死亡' 或'發病-死亡' 欄位中小於 0 的資料\n",
        "plot_df = plot_df[ (plot_df['確診-死亡']>=0) & (plot_df['發病-死亡']>=0) ]\n",
        "plot_df"
      ],
      "execution_count": null,
      "outputs": [
        {
          "output_type": "execute_result",
          "data": {
            "text/html": [
              "<div>\n",
              "<style scoped>\n",
              "    .dataframe tbody tr th:only-of-type {\n",
              "        vertical-align: middle;\n",
              "    }\n",
              "\n",
              "    .dataframe tbody tr th {\n",
              "        vertical-align: top;\n",
              "    }\n",
              "\n",
              "    .dataframe thead th {\n",
              "        text-align: right;\n",
              "    }\n",
              "</style>\n",
              "<table border=\"1\" class=\"dataframe\">\n",
              "  <thead>\n",
              "    <tr style=\"text-align: right;\">\n",
              "      <th></th>\n",
              "      <th>性別</th>\n",
              "      <th>發病日</th>\n",
              "      <th>確診日</th>\n",
              "      <th>死亡日</th>\n",
              "      <th>發病-死亡</th>\n",
              "      <th>確診-死亡</th>\n",
              "    </tr>\n",
              "  </thead>\n",
              "  <tbody>\n",
              "    <tr>\n",
              "      <th>0</th>\n",
              "      <td>女</td>\n",
              "      <td>2021-05-27</td>\n",
              "      <td>2021-05-29</td>\n",
              "      <td>2021-06-07</td>\n",
              "      <td>11</td>\n",
              "      <td>9</td>\n",
              "    </tr>\n",
              "    <tr>\n",
              "      <th>1</th>\n",
              "      <td>女</td>\n",
              "      <td>2021-05-29</td>\n",
              "      <td>2021-05-31</td>\n",
              "      <td>2021-06-07</td>\n",
              "      <td>9</td>\n",
              "      <td>7</td>\n",
              "    </tr>\n",
              "    <tr>\n",
              "      <th>2</th>\n",
              "      <td>女</td>\n",
              "      <td>2021-05-30</td>\n",
              "      <td>2021-06-04</td>\n",
              "      <td>2021-06-07</td>\n",
              "      <td>8</td>\n",
              "      <td>3</td>\n",
              "    </tr>\n",
              "    <tr>\n",
              "      <th>3</th>\n",
              "      <td>女</td>\n",
              "      <td>2021-05-20</td>\n",
              "      <td>2021-05-22</td>\n",
              "      <td>2021-06-06</td>\n",
              "      <td>17</td>\n",
              "      <td>15</td>\n",
              "    </tr>\n",
              "    <tr>\n",
              "      <th>4</th>\n",
              "      <td>男</td>\n",
              "      <td>2021-05-18</td>\n",
              "      <td>2021-05-27</td>\n",
              "      <td>2021-06-06</td>\n",
              "      <td>19</td>\n",
              "      <td>10</td>\n",
              "    </tr>\n",
              "    <tr>\n",
              "      <th>...</th>\n",
              "      <td>...</td>\n",
              "      <td>...</td>\n",
              "      <td>...</td>\n",
              "      <td>...</td>\n",
              "      <td>...</td>\n",
              "      <td>...</td>\n",
              "    </tr>\n",
              "    <tr>\n",
              "      <th>301</th>\n",
              "      <td>男</td>\n",
              "      <td>2021-03-17</td>\n",
              "      <td>2021-03-19</td>\n",
              "      <td>2021-03-29</td>\n",
              "      <td>12</td>\n",
              "      <td>10</td>\n",
              "    </tr>\n",
              "    <tr>\n",
              "      <th>302</th>\n",
              "      <td>男</td>\n",
              "      <td>2021-03-20</td>\n",
              "      <td>2021-03-23</td>\n",
              "      <td>2021-03-29</td>\n",
              "      <td>9</td>\n",
              "      <td>6</td>\n",
              "    </tr>\n",
              "    <tr>\n",
              "      <th>303</th>\n",
              "      <td>男</td>\n",
              "      <td>2021-02-06</td>\n",
              "      <td>2021-02-23</td>\n",
              "      <td>2021-03-20</td>\n",
              "      <td>42</td>\n",
              "      <td>25</td>\n",
              "    </tr>\n",
              "    <tr>\n",
              "      <th>305</th>\n",
              "      <td>男</td>\n",
              "      <td>2021-01-15</td>\n",
              "      <td>2021-02-15</td>\n",
              "      <td>2021-02-25</td>\n",
              "      <td>41</td>\n",
              "      <td>10</td>\n",
              "    </tr>\n",
              "    <tr>\n",
              "      <th>307</th>\n",
              "      <td>女</td>\n",
              "      <td>2021-01-28</td>\n",
              "      <td>2021-01-29</td>\n",
              "      <td>2021-01-29</td>\n",
              "      <td>1</td>\n",
              "      <td>0</td>\n",
              "    </tr>\n",
              "  </tbody>\n",
              "</table>\n",
              "<p>241 rows × 6 columns</p>\n",
              "</div>"
            ],
            "text/plain": [
              "    性別        發病日        確診日        死亡日  發病-死亡  確診-死亡\n",
              "0    女 2021-05-27 2021-05-29 2021-06-07     11      9\n",
              "1    女 2021-05-29 2021-05-31 2021-06-07      9      7\n",
              "2    女 2021-05-30 2021-06-04 2021-06-07      8      3\n",
              "3    女 2021-05-20 2021-05-22 2021-06-06     17     15\n",
              "4    男 2021-05-18 2021-05-27 2021-06-06     19     10\n",
              "..  ..        ...        ...        ...    ...    ...\n",
              "301  男 2021-03-17 2021-03-19 2021-03-29     12     10\n",
              "302  男 2021-03-20 2021-03-23 2021-03-29      9      6\n",
              "303  男 2021-02-06 2021-02-23 2021-03-20     42     25\n",
              "305  男 2021-01-15 2021-02-15 2021-02-25     41     10\n",
              "307  女 2021-01-28 2021-01-29 2021-01-29      1      0\n",
              "\n",
              "[241 rows x 6 columns]"
            ]
          },
          "metadata": {
            "tags": []
          },
          "execution_count": 37
        }
      ]
    },
    {
      "cell_type": "markdown",
      "metadata": {
        "id": "FG6M8Dr0-RXh"
      },
      "source": [
        "### Step 6 : 繪製散佈圖"
      ]
    },
    {
      "cell_type": "code",
      "metadata": {
        "colab": {
          "base_uri": "https://localhost:8080/"
        },
        "id": "nt2sKAXl-133",
        "outputId": "db5f6c5d-ab6b-4ad1-8b9e-71de68060c64"
      },
      "source": [
        "# 散佈圖 Scatter Plot\n",
        "plt.scatter( plot_df['確診-死亡'], plot_df['發病-死亡'] )\n",
        "\n",
        "# 座標軸的標籤設定\n",
        "plt.xlabel( '確診-死亡(天數)' )\n",
        "plt.ylabel( '發病-死亡(天數)' )\n",
        "\n",
        "plt.show()"
      ],
      "execution_count": null,
      "outputs": [
        {
          "output_type": "display_data",
          "data": {
            "image/png": "[encoded data removed]",
            "text/plain": [
              "<Figure size 432x288 with 1 Axes>"
            ]
          },
          "metadata": {
            "tags": [],
            "needs_background": "light"
          }
        }
      ]
    },
    {
      "cell_type": "markdown",
      "metadata": {
        "id": "gr7nyXM2v_jG"
      },
      "source": [
        "依【性別】欄位中的類別，繪製各性別的散佈圖 : "
      ]
    },
    {
      "cell_type": "code",
      "metadata": {
        "colab": {
          "base_uri": "https://localhost:8080/"
        },
        "id": "tdWeMN0mW4M_",
        "outputId": "ae01228d-90ea-47df-89e7-f74492e4d77c"
      },
      "source": [
        "male_df = plot_df [plot_df['性別']=='男' ]\n",
        "female_df = plot_df[ plot_df['性別']=='女' ]\n",
        "\n",
        "# 散佈圖 Scatter Plot\n",
        "plt.scatter( male_df['確診-死亡'], male_df['發病-死亡'], color='r', label='男' )\n",
        "plt.scatter( female_df['確診-死亡'], female_df['發病-死亡'], color='g', label='女', alpha=0.7 )\n",
        "\n",
        "# 設定座標軸的標籤\n",
        "plt.xlabel( '確診-死亡(天數)' )\n",
        "plt.ylabel( '發病-死亡(天數)' )\n",
        "\n",
        "# 設定圖例\n",
        "plt.legend()\n",
        "\n",
        "plt.show()"
      ],
      "execution_count": null,
      "outputs": [
        {
          "output_type": "display_data",
          "data": {
            "image/png": "[encoded data removed]",
            "text/plain": [
              "<Figure size 432x288 with 1 Axes>"
            ]
          },
          "metadata": {
            "tags": [],
            "needs_background": "light"
          }
        }
      ]
    },
    {
      "cell_type": "markdown",
      "metadata": {
        "id": "Pc3lfNYW22nR"
      },
      "source": [
        "# **長條圖 Bar Chart**   \n",
        "\n",
        "長條圖( Bar Chart )能用來描述類別資料的次數分配情況，或計量的高低比較，例如 : 不同公司的營收、不同國家的染疫人數等。\n",
        "</br>"
      ]
    },
    {
      "cell_type": "code",
      "metadata": {
        "colab": {
          "base_uri": "https://localhost:8080/"
        },
        "cellView": "form",
        "id": "fuOgakbQcoJp",
        "outputId": "caed5866-8ed0-49bc-e152-f0537d13a166"
      },
      "source": [
        "#@markdown 資料來源: [Our World in Data](https://ourworldindata.org/grapher/full-list-cumulative-total-tests-per-thousand-bar-chart?country=JPN~USA~GBR~CHN~IDN~IND~TWN~KOR~SGP~DEU~HKG)\n",
        "\n",
        "from IPython.core.display import HTML\n",
        "\n",
        "HTML('<iframe src=\"https://ourworldindata.org/grapher/full-list-cumulative-total-tests-per-thousand-bar-chart?country=JPN~USA~GBR~CHN~IDN~IND~TWN~KOR~SGP~DEU~HKG\" loading=\"lazy\" style=\"width: 100%; height: 600px; border: 0px none;\"></iframe>')"
      ],
      "execution_count": null,
      "outputs": [
        {
          "output_type": "execute_result",
          "data": {
            "text/html": [
              "<iframe src=\"https://ourworldindata.org/grapher/full-list-cumulative-total-tests-per-thousand-bar-chart?country=JPN~USA~GBR~CHN~IDN~IND~TWN~KOR~SGP~DEU~HKG\" loading=\"lazy\" style=\"width: 100%; height: 600px; border: 0px none;\"></iframe>"
            ],
            "text/plain": [
              "<IPython.core.display.HTML object>"
            ]
          },
          "metadata": {
            "tags": []
          },
          "execution_count": 40
        }
      ]
    },
    {
      "cell_type": "markdown",
      "metadata": {
        "id": "jZUfQgURWu7V"
      },
      "source": [
        "使用 [`matplotlib.pyplot.bar( x, height, align, width, color, tick_label )`](https://matplotlib.org/stable/api/_as_gen/matplotlib.pyplot.bar.html) 函數繪製**垂直**長條圖，常用的參數說明如下:  \n",
        "  * x : x 軸的類別型態資料；  \n",
        "  * height : y 軸的數值型態資料；\n",
        "  * align : x 軸各類別資料對齊長條圖的方式，兩種對齊方式分別為 :  \n",
        "    * 'edge' : 對齊長條圖下緣的左端點；\n",
        "    * 'center'(預設) : 對齊長條圖下緣的中心點；\n",
        "  * width : 長條圖的寬度；  \n",
        "  * color : 長條圖的顏色；  \n",
        "  * tick_label : x 軸類別型態資料的相對應標籤，預設為 None。  \n",
        "\n",
        "另外， [`matplotlib.pyplot.barh( )`](https://matplotlib.org/stable/api/_as_gen/matplotlib.pyplot.barh.html) 函數則用來繪製水平長條圖，其常用的參數說明與垂直長條圖相同。    "
      ]
    },
    {
      "cell_type": "code",
      "metadata": {
        "colab": {
          "base_uri": "https://localhost:8080/"
        },
        "id": "hDMhA6V4BS5s",
        "outputId": "81216437-9e35-4595-a657-b1dc38deb5ce"
      },
      "source": [
        "# Data \n",
        "x = ['A','B','C','D','E']\n",
        "y = [30,50,85,20,70]  \n",
        "xlabel = ['=0','1~10','11~20','21~30','31~40']\n",
        "\n",
        "# 垂直長條圖 Vertical Bar Chart\n",
        "plt.bar( x, y, align='edge', tick_label=xlabel )\n",
        "plt.show()"
      ],
      "execution_count": null,
      "outputs": [
        {
          "output_type": "display_data",
          "data": {
            "image/png": "[encoded data removed]",
            "text/plain": [
              "<Figure size 432x288 with 1 Axes>"
            ]
          },
          "metadata": {
            "tags": [],
            "needs_background": "light"
          }
        }
      ]
    },
    {
      "cell_type": "code",
      "metadata": {
        "colab": {
          "base_uri": "https://localhost:8080/"
        },
        "id": "59dePb0zCS3N",
        "outputId": "cd04648a-c7dc-4e3c-a1a6-9709be6816db"
      },
      "source": [
        "# 水平長條圖 Horizontal Bar Chart\n",
        "plt.barh( x, y, tick_label=xlabel )\n",
        "plt.show()"
      ],
      "execution_count": null,
      "outputs": [
        {
          "output_type": "display_data",
          "data": {
            "image/png": "[encoded data removed]",
            "text/plain": [
              "<Figure size 432x288 with 1 Axes>"
            ]
          },
          "metadata": {
            "tags": [],
            "needs_background": "light"
          }
        }
      ]
    },
    {
      "cell_type": "markdown",
      "metadata": {
        "id": "X3TtAJNeZxCv"
      },
      "source": [
        "## 實作範例   \n",
        "\n",
        "資料來源 : [COVID-19 全球疫情地圖](https://covid-19.nchc.org.tw/dt_005-covidTable_taiwan.php?downloadall=yes) 台灣COVID-19 縣市鄉鎮疫情表單      \n",
        "下載時間 : 2021/6/8 18:13"
      ]
    },
    {
      "cell_type": "markdown",
      "metadata": {
        "id": "qKcXl4l6bcdt"
      },
      "source": [
        "### Step 1 : 匯入資料"
      ]
    },
    {
      "cell_type": "code",
      "metadata": {
        "colab": {
          "base_uri": "https://localhost:8080/"
        },
        "id": "Ak59XGTVbcdx",
        "outputId": "2212e1a3-7a99-4b4f-8cd0-7f643e795ac3"
      },
      "source": [
        "# 匯入 xlsx 檔\n",
        "raw_data = pd.read_excel( '/content/台灣COVID-19 縣市鄉鎮疫情表單.xlsx', header=1  )\n",
        "raw_data"
      ],
      "execution_count": null,
      "outputs": [
        {
          "output_type": "execute_result",
          "data": {
            "text/html": [
              "<div>\n",
              "<style scoped>\n",
              "    .dataframe tbody tr th:only-of-type {\n",
              "        vertical-align: middle;\n",
              "    }\n",
              "\n",
              "    .dataframe tbody tr th {\n",
              "        vertical-align: top;\n",
              "    }\n",
              "\n",
              "    .dataframe thead th {\n",
              "        text-align: right;\n",
              "    }\n",
              "</style>\n",
              "<table border=\"1\" class=\"dataframe\">\n",
              "  <thead>\n",
              "    <tr style=\"text-align: right;\">\n",
              "      <th></th>\n",
              "      <th>id</th>\n",
              "      <th>個案研判日</th>\n",
              "      <th>縣市</th>\n",
              "      <th>鄉鎮</th>\n",
              "      <th>性別</th>\n",
              "      <th>是否為境外移入</th>\n",
              "      <th>年齡層</th>\n",
              "    </tr>\n",
              "  </thead>\n",
              "  <tbody>\n",
              "    <tr>\n",
              "      <th>0</th>\n",
              "      <td>1</td>\n",
              "      <td>2021-06-07</td>\n",
              "      <td>台北市</td>\n",
              "      <td>中山區</td>\n",
              "      <td>女</td>\n",
              "      <td>否</td>\n",
              "      <td>35-39</td>\n",
              "    </tr>\n",
              "    <tr>\n",
              "      <th>1</th>\n",
              "      <td>2</td>\n",
              "      <td>2021-06-07</td>\n",
              "      <td>台北市</td>\n",
              "      <td>中山區</td>\n",
              "      <td>女</td>\n",
              "      <td>否</td>\n",
              "      <td>35-39</td>\n",
              "    </tr>\n",
              "    <tr>\n",
              "      <th>2</th>\n",
              "      <td>3</td>\n",
              "      <td>2021-06-07</td>\n",
              "      <td>台北市</td>\n",
              "      <td>中山區</td>\n",
              "      <td>女</td>\n",
              "      <td>否</td>\n",
              "      <td>55-59</td>\n",
              "    </tr>\n",
              "    <tr>\n",
              "      <th>3</th>\n",
              "      <td>4</td>\n",
              "      <td>2021-06-07</td>\n",
              "      <td>台北市</td>\n",
              "      <td>中山區</td>\n",
              "      <td>女</td>\n",
              "      <td>否</td>\n",
              "      <td>70+</td>\n",
              "    </tr>\n",
              "    <tr>\n",
              "      <th>4</th>\n",
              "      <td>5</td>\n",
              "      <td>2021-06-07</td>\n",
              "      <td>台北市</td>\n",
              "      <td>中山區</td>\n",
              "      <td>女</td>\n",
              "      <td>否</td>\n",
              "      <td>70+</td>\n",
              "    </tr>\n",
              "    <tr>\n",
              "      <th>...</th>\n",
              "      <td>...</td>\n",
              "      <td>...</td>\n",
              "      <td>...</td>\n",
              "      <td>...</td>\n",
              "      <td>...</td>\n",
              "      <td>...</td>\n",
              "      <td>...</td>\n",
              "    </tr>\n",
              "    <tr>\n",
              "      <th>11483</th>\n",
              "      <td>11484</td>\n",
              "      <td>2020-01-27</td>\n",
              "      <td>境外移入</td>\n",
              "      <td>空值</td>\n",
              "      <td>女</td>\n",
              "      <td>是</td>\n",
              "      <td>50-54</td>\n",
              "    </tr>\n",
              "    <tr>\n",
              "      <th>11484</th>\n",
              "      <td>11485</td>\n",
              "      <td>2020-01-26</td>\n",
              "      <td>境外移入</td>\n",
              "      <td>空值</td>\n",
              "      <td>女</td>\n",
              "      <td>是</td>\n",
              "      <td>55-59</td>\n",
              "    </tr>\n",
              "    <tr>\n",
              "      <th>11485</th>\n",
              "      <td>11486</td>\n",
              "      <td>2020-01-24</td>\n",
              "      <td>境外移入</td>\n",
              "      <td>空值</td>\n",
              "      <td>女</td>\n",
              "      <td>是</td>\n",
              "      <td>50-54</td>\n",
              "    </tr>\n",
              "    <tr>\n",
              "      <th>11486</th>\n",
              "      <td>11487</td>\n",
              "      <td>2020-01-24</td>\n",
              "      <td>境外移入</td>\n",
              "      <td>空值</td>\n",
              "      <td>男</td>\n",
              "      <td>是</td>\n",
              "      <td>55-59</td>\n",
              "    </tr>\n",
              "    <tr>\n",
              "      <th>11487</th>\n",
              "      <td>11488</td>\n",
              "      <td>2020-01-22</td>\n",
              "      <td>境外移入</td>\n",
              "      <td>空值</td>\n",
              "      <td>女</td>\n",
              "      <td>是</td>\n",
              "      <td>55-59</td>\n",
              "    </tr>\n",
              "  </tbody>\n",
              "</table>\n",
              "<p>11488 rows × 7 columns</p>\n",
              "</div>"
            ],
            "text/plain": [
              "          id       個案研判日    縣市   鄉鎮 性別 是否為境外移入    年齡層\n",
              "0          1  2021-06-07   台北市  中山區  女       否  35-39\n",
              "1          2  2021-06-07   台北市  中山區  女       否  35-39\n",
              "2          3  2021-06-07   台北市  中山區  女       否  55-59\n",
              "3          4  2021-06-07   台北市  中山區  女       否    70+\n",
              "4          5  2021-06-07   台北市  中山區  女       否    70+\n",
              "...      ...         ...   ...  ... ..     ...    ...\n",
              "11483  11484  2020-01-27  境外移入   空值  女       是  50-54\n",
              "11484  11485  2020-01-26  境外移入   空值  女       是  55-59\n",
              "11485  11486  2020-01-24  境外移入   空值  女       是  50-54\n",
              "11486  11487  2020-01-24  境外移入   空值  男       是  55-59\n",
              "11487  11488  2020-01-22  境外移入   空值  女       是  55-59\n",
              "\n",
              "[11488 rows x 7 columns]"
            ]
          },
          "metadata": {
            "tags": []
          },
          "execution_count": 43
        }
      ]
    },
    {
      "cell_type": "code",
      "metadata": {
        "colab": {
          "base_uri": "https://localhost:8080/"
        },
        "id": "68dYQtZT6_V-",
        "outputId": "fe388730-d971-4991-adb6-bbc4e1273bea"
      },
      "source": [
        "# 檢視各欄位的資料型態與缺失值狀況\n",
        "raw_data.info()"
      ],
      "execution_count": null,
      "outputs": [
        {
          "output_type": "stream",
          "text": [
            "<class 'pandas.core.frame.DataFrame'>\n",
            "RangeIndex: 11488 entries, 0 to 11487\n",
            "Data columns (total 7 columns):\n",
            " #   Column   Non-Null Count  Dtype \n",
            "---  ------   --------------  ----- \n",
            " 0   id       11488 non-null  int64 \n",
            " 1   個案研判日    11488 non-null  object\n",
            " 2   縣市       11488 non-null  object\n",
            " 3   鄉鎮       11488 non-null  object\n",
            " 4   性別       11488 non-null  object\n",
            " 5   是否為境外移入  11488 non-null  object\n",
            " 6   年齡層      11488 non-null  object\n",
            "dtypes: int64(1), object(6)\n",
            "memory usage: 628.4+ KB\n"
          ],
          "name": "stdout"
        }
      ]
    },
    {
      "cell_type": "markdown",
      "metadata": {
        "id": "sRwYPss0bj0N"
      },
      "source": [
        "### Step 2 : 篩選欄位   \n",
        "\n",
        "從原始資料中篩選出【縣市】欄位的資料 : \n"
      ]
    },
    {
      "cell_type": "code",
      "metadata": {
        "colab": {
          "base_uri": "https://localhost:8080/"
        },
        "id": "xqqyqUH6bj0O",
        "outputId": "dcb7a16e-c289-47ac-8149-66ee42d94c8a"
      },
      "source": [
        "plot_df = raw_data[ ['縣市'] ]\n",
        "plot_df"
      ],
      "execution_count": null,
      "outputs": [
        {
          "output_type": "execute_result",
          "data": {
            "text/html": [
              "<div>\n",
              "<style scoped>\n",
              "    .dataframe tbody tr th:only-of-type {\n",
              "        vertical-align: middle;\n",
              "    }\n",
              "\n",
              "    .dataframe tbody tr th {\n",
              "        vertical-align: top;\n",
              "    }\n",
              "\n",
              "    .dataframe thead th {\n",
              "        text-align: right;\n",
              "    }\n",
              "</style>\n",
              "<table border=\"1\" class=\"dataframe\">\n",
              "  <thead>\n",
              "    <tr style=\"text-align: right;\">\n",
              "      <th></th>\n",
              "      <th>縣市</th>\n",
              "    </tr>\n",
              "  </thead>\n",
              "  <tbody>\n",
              "    <tr>\n",
              "      <th>0</th>\n",
              "      <td>台北市</td>\n",
              "    </tr>\n",
              "    <tr>\n",
              "      <th>1</th>\n",
              "      <td>台北市</td>\n",
              "    </tr>\n",
              "    <tr>\n",
              "      <th>2</th>\n",
              "      <td>台北市</td>\n",
              "    </tr>\n",
              "    <tr>\n",
              "      <th>3</th>\n",
              "      <td>台北市</td>\n",
              "    </tr>\n",
              "    <tr>\n",
              "      <th>4</th>\n",
              "      <td>台北市</td>\n",
              "    </tr>\n",
              "    <tr>\n",
              "      <th>...</th>\n",
              "      <td>...</td>\n",
              "    </tr>\n",
              "    <tr>\n",
              "      <th>11483</th>\n",
              "      <td>境外移入</td>\n",
              "    </tr>\n",
              "    <tr>\n",
              "      <th>11484</th>\n",
              "      <td>境外移入</td>\n",
              "    </tr>\n",
              "    <tr>\n",
              "      <th>11485</th>\n",
              "      <td>境外移入</td>\n",
              "    </tr>\n",
              "    <tr>\n",
              "      <th>11486</th>\n",
              "      <td>境外移入</td>\n",
              "    </tr>\n",
              "    <tr>\n",
              "      <th>11487</th>\n",
              "      <td>境外移入</td>\n",
              "    </tr>\n",
              "  </tbody>\n",
              "</table>\n",
              "<p>11488 rows × 1 columns</p>\n",
              "</div>"
            ],
            "text/plain": [
              "         縣市\n",
              "0       台北市\n",
              "1       台北市\n",
              "2       台北市\n",
              "3       台北市\n",
              "4       台北市\n",
              "...     ...\n",
              "11483  境外移入\n",
              "11484  境外移入\n",
              "11485  境外移入\n",
              "11486  境外移入\n",
              "11487  境外移入\n",
              "\n",
              "[11488 rows x 1 columns]"
            ]
          },
          "metadata": {
            "tags": []
          },
          "execution_count": 45
        }
      ]
    },
    {
      "cell_type": "markdown",
      "metadata": {
        "id": "9h30hFhYek87"
      },
      "source": [
        "### Step 3 : 樞紐分析 \n",
        "依【縣市】欄位中的縣市別，統計各縣市的個案總數 :  "
      ]
    },
    {
      "cell_type": "code",
      "metadata": {
        "colab": {
          "base_uri": "https://localhost:8080/"
        },
        "id": "iODDIi6B7PcY",
        "outputId": "e023af7f-eec1-40e6-af9d-9d11d40734f2"
      },
      "source": [
        "# 檢視欄位中相異資料的類別資訊\n",
        "plot_df['縣市'].unique()"
      ],
      "execution_count": null,
      "outputs": [
        {
          "output_type": "execute_result",
          "data": {
            "text/plain": [
              "array(['台北市', '嘉義縣', '基隆市', '境外移入', '宜蘭縣', '屏東縣', '彰化縣', '新北市', '新竹市',\n",
              "       '新竹縣', '桃園市', '澎湖縣', '苗栗縣', '台中市', '台南市', '嘉義市', '雲林縣', '高雄市',\n",
              "       '南投縣', '花蓮縣', '台東縣', '連江縣'], dtype=object)"
            ]
          },
          "metadata": {
            "tags": []
          },
          "execution_count": 46
        }
      ]
    },
    {
      "cell_type": "code",
      "metadata": {
        "colab": {
          "base_uri": "https://localhost:8080/"
        },
        "id": "vPzBkNazfYoA",
        "outputId": "d6e13d32-88a8-43d6-fca0-f5e948a6fe20"
      },
      "source": [
        "# 統計各縣市的個案總數\n",
        "summary = plot_df.groupby(['縣市']).size()\n",
        "\n",
        "# Series 轉成 DataFrame 資料結構\n",
        "summary = pd.DataFrame( summary )\n",
        "summary.reset_index( inplace=True ) \n",
        "\n",
        "# 重新定義 DataFrame 欄位名稱\n",
        "summary.columns = ['縣市','個案總數'] \n",
        "\n",
        "summary"
      ],
      "execution_count": null,
      "outputs": [
        {
          "output_type": "execute_result",
          "data": {
            "text/html": [
              "<div>\n",
              "<style scoped>\n",
              "    .dataframe tbody tr th:only-of-type {\n",
              "        vertical-align: middle;\n",
              "    }\n",
              "\n",
              "    .dataframe tbody tr th {\n",
              "        vertical-align: top;\n",
              "    }\n",
              "\n",
              "    .dataframe thead th {\n",
              "        text-align: right;\n",
              "    }\n",
              "</style>\n",
              "<table border=\"1\" class=\"dataframe\">\n",
              "  <thead>\n",
              "    <tr style=\"text-align: right;\">\n",
              "      <th></th>\n",
              "      <th>縣市</th>\n",
              "      <th>個案總數</th>\n",
              "    </tr>\n",
              "  </thead>\n",
              "  <tbody>\n",
              "    <tr>\n",
              "      <th>0</th>\n",
              "      <td>南投縣</td>\n",
              "      <td>26</td>\n",
              "    </tr>\n",
              "    <tr>\n",
              "      <th>1</th>\n",
              "      <td>台中市</td>\n",
              "      <td>169</td>\n",
              "    </tr>\n",
              "    <tr>\n",
              "      <th>2</th>\n",
              "      <td>台北市</td>\n",
              "      <td>3596</td>\n",
              "    </tr>\n",
              "    <tr>\n",
              "      <th>3</th>\n",
              "      <td>台南市</td>\n",
              "      <td>36</td>\n",
              "    </tr>\n",
              "    <tr>\n",
              "      <th>4</th>\n",
              "      <td>台東縣</td>\n",
              "      <td>21</td>\n",
              "    </tr>\n",
              "    <tr>\n",
              "      <th>5</th>\n",
              "      <td>嘉義市</td>\n",
              "      <td>8</td>\n",
              "    </tr>\n",
              "    <tr>\n",
              "      <th>6</th>\n",
              "      <td>嘉義縣</td>\n",
              "      <td>17</td>\n",
              "    </tr>\n",
              "    <tr>\n",
              "      <th>7</th>\n",
              "      <td>基隆市</td>\n",
              "      <td>186</td>\n",
              "    </tr>\n",
              "    <tr>\n",
              "      <th>8</th>\n",
              "      <td>境外移入</td>\n",
              "      <td>1201</td>\n",
              "    </tr>\n",
              "    <tr>\n",
              "      <th>9</th>\n",
              "      <td>宜蘭縣</td>\n",
              "      <td>84</td>\n",
              "    </tr>\n",
              "    <tr>\n",
              "      <th>10</th>\n",
              "      <td>屏東縣</td>\n",
              "      <td>33</td>\n",
              "    </tr>\n",
              "    <tr>\n",
              "      <th>11</th>\n",
              "      <td>彰化縣</td>\n",
              "      <td>222</td>\n",
              "    </tr>\n",
              "    <tr>\n",
              "      <th>12</th>\n",
              "      <td>新北市</td>\n",
              "      <td>4908</td>\n",
              "    </tr>\n",
              "    <tr>\n",
              "      <th>13</th>\n",
              "      <td>新竹市</td>\n",
              "      <td>29</td>\n",
              "    </tr>\n",
              "    <tr>\n",
              "      <th>14</th>\n",
              "      <td>新竹縣</td>\n",
              "      <td>36</td>\n",
              "    </tr>\n",
              "    <tr>\n",
              "      <th>15</th>\n",
              "      <td>桃園市</td>\n",
              "      <td>485</td>\n",
              "    </tr>\n",
              "    <tr>\n",
              "      <th>16</th>\n",
              "      <td>澎湖縣</td>\n",
              "      <td>5</td>\n",
              "    </tr>\n",
              "    <tr>\n",
              "      <th>17</th>\n",
              "      <td>花蓮縣</td>\n",
              "      <td>38</td>\n",
              "    </tr>\n",
              "    <tr>\n",
              "      <th>18</th>\n",
              "      <td>苗栗縣</td>\n",
              "      <td>307</td>\n",
              "    </tr>\n",
              "    <tr>\n",
              "      <th>19</th>\n",
              "      <td>連江縣</td>\n",
              "      <td>4</td>\n",
              "    </tr>\n",
              "    <tr>\n",
              "      <th>20</th>\n",
              "      <td>雲林縣</td>\n",
              "      <td>16</td>\n",
              "    </tr>\n",
              "    <tr>\n",
              "      <th>21</th>\n",
              "      <td>高雄市</td>\n",
              "      <td>61</td>\n",
              "    </tr>\n",
              "  </tbody>\n",
              "</table>\n",
              "</div>"
            ],
            "text/plain": [
              "      縣市  個案總數\n",
              "0    南投縣    26\n",
              "1    台中市   169\n",
              "2    台北市  3596\n",
              "3    台南市    36\n",
              "4    台東縣    21\n",
              "5    嘉義市     8\n",
              "6    嘉義縣    17\n",
              "7    基隆市   186\n",
              "8   境外移入  1201\n",
              "9    宜蘭縣    84\n",
              "10   屏東縣    33\n",
              "11   彰化縣   222\n",
              "12   新北市  4908\n",
              "13   新竹市    29\n",
              "14   新竹縣    36\n",
              "15   桃園市   485\n",
              "16   澎湖縣     5\n",
              "17   花蓮縣    38\n",
              "18   苗栗縣   307\n",
              "19   連江縣     4\n",
              "20   雲林縣    16\n",
              "21   高雄市    61"
            ]
          },
          "metadata": {
            "tags": []
          },
          "execution_count": 47
        }
      ]
    },
    {
      "cell_type": "markdown",
      "metadata": {
        "id": "fn0CEGgT_TiB"
      },
      "source": [
        "將樞紐分析的結果，由小到大進行排序 : "
      ]
    },
    {
      "cell_type": "code",
      "metadata": {
        "colab": {
          "base_uri": "https://localhost:8080/"
        },
        "id": "UzkRxSWSUlUO",
        "outputId": "21d268c8-d2ae-49fe-d229-4e27d4c87580"
      },
      "source": [
        "# 由小到大排序 '個案總數' 欄位\n",
        "summary.sort_values( '個案總數', inplace=True )\n",
        "summary"
      ],
      "execution_count": null,
      "outputs": [
        {
          "output_type": "execute_result",
          "data": {
            "text/html": [
              "<div>\n",
              "<style scoped>\n",
              "    .dataframe tbody tr th:only-of-type {\n",
              "        vertical-align: middle;\n",
              "    }\n",
              "\n",
              "    .dataframe tbody tr th {\n",
              "        vertical-align: top;\n",
              "    }\n",
              "\n",
              "    .dataframe thead th {\n",
              "        text-align: right;\n",
              "    }\n",
              "</style>\n",
              "<table border=\"1\" class=\"dataframe\">\n",
              "  <thead>\n",
              "    <tr style=\"text-align: right;\">\n",
              "      <th></th>\n",
              "      <th>縣市</th>\n",
              "      <th>個案總數</th>\n",
              "    </tr>\n",
              "  </thead>\n",
              "  <tbody>\n",
              "    <tr>\n",
              "      <th>19</th>\n",
              "      <td>連江縣</td>\n",
              "      <td>4</td>\n",
              "    </tr>\n",
              "    <tr>\n",
              "      <th>16</th>\n",
              "      <td>澎湖縣</td>\n",
              "      <td>5</td>\n",
              "    </tr>\n",
              "    <tr>\n",
              "      <th>5</th>\n",
              "      <td>嘉義市</td>\n",
              "      <td>8</td>\n",
              "    </tr>\n",
              "    <tr>\n",
              "      <th>20</th>\n",
              "      <td>雲林縣</td>\n",
              "      <td>16</td>\n",
              "    </tr>\n",
              "    <tr>\n",
              "      <th>6</th>\n",
              "      <td>嘉義縣</td>\n",
              "      <td>17</td>\n",
              "    </tr>\n",
              "    <tr>\n",
              "      <th>4</th>\n",
              "      <td>台東縣</td>\n",
              "      <td>21</td>\n",
              "    </tr>\n",
              "    <tr>\n",
              "      <th>0</th>\n",
              "      <td>南投縣</td>\n",
              "      <td>26</td>\n",
              "    </tr>\n",
              "    <tr>\n",
              "      <th>13</th>\n",
              "      <td>新竹市</td>\n",
              "      <td>29</td>\n",
              "    </tr>\n",
              "    <tr>\n",
              "      <th>10</th>\n",
              "      <td>屏東縣</td>\n",
              "      <td>33</td>\n",
              "    </tr>\n",
              "    <tr>\n",
              "      <th>3</th>\n",
              "      <td>台南市</td>\n",
              "      <td>36</td>\n",
              "    </tr>\n",
              "    <tr>\n",
              "      <th>14</th>\n",
              "      <td>新竹縣</td>\n",
              "      <td>36</td>\n",
              "    </tr>\n",
              "    <tr>\n",
              "      <th>17</th>\n",
              "      <td>花蓮縣</td>\n",
              "      <td>38</td>\n",
              "    </tr>\n",
              "    <tr>\n",
              "      <th>21</th>\n",
              "      <td>高雄市</td>\n",
              "      <td>61</td>\n",
              "    </tr>\n",
              "    <tr>\n",
              "      <th>9</th>\n",
              "      <td>宜蘭縣</td>\n",
              "      <td>84</td>\n",
              "    </tr>\n",
              "    <tr>\n",
              "      <th>1</th>\n",
              "      <td>台中市</td>\n",
              "      <td>169</td>\n",
              "    </tr>\n",
              "    <tr>\n",
              "      <th>7</th>\n",
              "      <td>基隆市</td>\n",
              "      <td>186</td>\n",
              "    </tr>\n",
              "    <tr>\n",
              "      <th>11</th>\n",
              "      <td>彰化縣</td>\n",
              "      <td>222</td>\n",
              "    </tr>\n",
              "    <tr>\n",
              "      <th>18</th>\n",
              "      <td>苗栗縣</td>\n",
              "      <td>307</td>\n",
              "    </tr>\n",
              "    <tr>\n",
              "      <th>15</th>\n",
              "      <td>桃園市</td>\n",
              "      <td>485</td>\n",
              "    </tr>\n",
              "    <tr>\n",
              "      <th>8</th>\n",
              "      <td>境外移入</td>\n",
              "      <td>1201</td>\n",
              "    </tr>\n",
              "    <tr>\n",
              "      <th>2</th>\n",
              "      <td>台北市</td>\n",
              "      <td>3596</td>\n",
              "    </tr>\n",
              "    <tr>\n",
              "      <th>12</th>\n",
              "      <td>新北市</td>\n",
              "      <td>4908</td>\n",
              "    </tr>\n",
              "  </tbody>\n",
              "</table>\n",
              "</div>"
            ],
            "text/plain": [
              "      縣市  個案總數\n",
              "19   連江縣     4\n",
              "16   澎湖縣     5\n",
              "5    嘉義市     8\n",
              "20   雲林縣    16\n",
              "6    嘉義縣    17\n",
              "4    台東縣    21\n",
              "0    南投縣    26\n",
              "13   新竹市    29\n",
              "10   屏東縣    33\n",
              "3    台南市    36\n",
              "14   新竹縣    36\n",
              "17   花蓮縣    38\n",
              "21   高雄市    61\n",
              "9    宜蘭縣    84\n",
              "1    台中市   169\n",
              "7    基隆市   186\n",
              "11   彰化縣   222\n",
              "18   苗栗縣   307\n",
              "15   桃園市   485\n",
              "8   境外移入  1201\n",
              "2    台北市  3596\n",
              "12   新北市  4908"
            ]
          },
          "metadata": {
            "tags": []
          },
          "execution_count": 48
        }
      ]
    },
    {
      "cell_type": "markdown",
      "metadata": {
        "id": "JS8ZSwffUZRH"
      },
      "source": [
        "### Step 4 : 繪製長條圖 "
      ]
    },
    {
      "cell_type": "code",
      "metadata": {
        "colab": {
          "base_uri": "https://localhost:8080/"
        },
        "id": "kvEesEVdQRBz",
        "outputId": "219efab2-1392-4a3f-8d3f-747f5891364f"
      },
      "source": [
        "# 水平長條圖 Horizontal Bar Chart\n",
        "plt.barh( summary['縣市'], summary['個案總數'] )\n",
        "\n",
        "# 圖標題\n",
        "plt.title( '個案總數' )\n",
        "\n",
        "plt.show()"
      ],
      "execution_count": null,
      "outputs": [
        {
          "output_type": "display_data",
          "data": {
            "image/png": "[encoded data removed]",
            "text/plain": [
              "<Figure size 432x288 with 1 Axes>"
            ]
          },
          "metadata": {
            "tags": [],
            "needs_background": "light"
          }
        }
      ]
    },
    {
      "cell_type": "markdown",
      "metadata": {
        "id": "izlLPssvEjOk"
      },
      "source": [
        "# **圓餅圖 Pie Chart**  \n",
        "\n",
        "圓餅圖( Pie Chart )可用來描述資料的數量、頻率或佔比等的相對關係，例如 : 各類商品的銷售量、新冠肺炎確診的年齡層族群等。\n",
        "</br>\n",
        "\n",
        "  \n",
        "  \n",
        "      "
      ]
    },
    {
      "cell_type": "markdown",
      "metadata": {
        "id": "eHHPR_6WXhCN"
      },
      "source": [
        "![Pie Chart](https://raw.githubusercontent.com/YenLinWu/Machine_Learning_Basic/main/Images/(Pie_Chart)_Coronavirus_cases_by_age.png)  \n",
        "資料來源: [Eight weeks of coronavirus in India through data: Is the growth really exponential ?](https://citizenmatters.in/is-coronavirus-growing-exponentially-in-india-8-weeks-of-coronavirus-through-data-16902)\n",
        "</br>   "
      ]
    },
    {
      "cell_type": "markdown",
      "metadata": {
        "id": "F6Q-dI5hqeRT"
      },
      "source": [
        "使用 [`matplotlib.pyplot.pie( x, labels, colors, autopct, explode, radius, center, counterclock, startangle )`](https://matplotlib.org/stable/api/_as_gen/matplotlib.pyplot.pie.html) 函數繪製垂直的直方圖，常用的參數說明如下:  \n",
        "  * x : 資料( 1 維陣列 )； \n",
        "  * labels : 圓餅圖中每個扇形的標籤；\n",
        "  * colors : 圓餅圖中每個扇形的顏色；\n",
        "  * autopct : 圓餅圖中每個扇形所佔的比例格式，例如 : '%2.1%%' 表示整數2位數，小數 1 位數；\n",
        "  * explode : 設定圓餅圖中分離出的扇形距離； \n",
        "  * radius : 圓餅圖的半徑，預設為 `radius=1`；  \n",
        "  * center : 圓餅圖的中心點座標，預設為原點 $(0,0)$；\n",
        "  * counterclock : 圓餅圖中扇形的呈現順序是否為逆時針，預設為 `counterclock=True`；\n",
        "  * startangle : 圓餅圖的起始角度，預設為 `startangle=0`。"
      ]
    },
    {
      "cell_type": "code",
      "metadata": {
        "colab": {
          "base_uri": "https://localhost:8080/"
        },
        "id": "s-EZisnsFJg3",
        "outputId": "07c1ca73-b7ae-4693-c45e-4919f55d72be"
      },
      "source": [
        "# Data \n",
        "Products = ['Apple','Orange','Bananas','Mango','Watermelo']\n",
        "Amount = [23,18,35,15,9] \n",
        "\n",
        "# 圓餅圖 Pie Chart\n",
        "Colors = ['lightblue','lightgreen','red','yellow','pink']\n",
        "plt.pie( x=Amount, labels=Products, colors=Colors, autopct='%2.1f%%', explode=(0,0,0.1,0,0), shadow=True )\n",
        "plt.show()"
      ],
      "execution_count": null,
      "outputs": [
        {
          "output_type": "display_data",
          "data": {
            "image/png": "[encoded data removed]",
            "text/plain": [
              "<Figure size 432x288 with 1 Axes>"
            ]
          },
          "metadata": {
            "tags": []
          }
        }
      ]
    },
    {
      "cell_type": "markdown",
      "metadata": {
        "id": "JXYNcRjkXz4r"
      },
      "source": [
        "## 實作範例   \n",
        "\n",
        "資料來源 : [COVID-19 全球疫情地圖](https://covid-19.nchc.org.tw/dt_005-covidTable_taiwan.php?downloadall=yes) 台灣COVID-19 縣市鄉鎮疫情表單    \n",
        "下載時間 : 2021/6/8 18:13"
      ]
    },
    {
      "cell_type": "markdown",
      "metadata": {
        "id": "tt6KyB8AYWg7"
      },
      "source": [
        "### Step 1 : 匯入資料"
      ]
    },
    {
      "cell_type": "code",
      "metadata": {
        "colab": {
          "base_uri": "https://localhost:8080/"
        },
        "id": "sEMZNOheYWg-",
        "outputId": "1d321071-00f3-498a-8ba0-1ba5a5076358"
      },
      "source": [
        "# 匯入 xlsx 檔\n",
        "raw_data = pd.read_excel( '/content/台灣COVID-19 縣市鄉鎮疫情表單.xlsx', header=1  )\n",
        "raw_data"
      ],
      "execution_count": null,
      "outputs": [
        {
          "output_type": "execute_result",
          "data": {
            "text/html": [
              "<div>\n",
              "<style scoped>\n",
              "    .dataframe tbody tr th:only-of-type {\n",
              "        vertical-align: middle;\n",
              "    }\n",
              "\n",
              "    .dataframe tbody tr th {\n",
              "        vertical-align: top;\n",
              "    }\n",
              "\n",
              "    .dataframe thead th {\n",
              "        text-align: right;\n",
              "    }\n",
              "</style>\n",
              "<table border=\"1\" class=\"dataframe\">\n",
              "  <thead>\n",
              "    <tr style=\"text-align: right;\">\n",
              "      <th></th>\n",
              "      <th>id</th>\n",
              "      <th>個案研判日</th>\n",
              "      <th>縣市</th>\n",
              "      <th>鄉鎮</th>\n",
              "      <th>性別</th>\n",
              "      <th>是否為境外移入</th>\n",
              "      <th>年齡層</th>\n",
              "    </tr>\n",
              "  </thead>\n",
              "  <tbody>\n",
              "    <tr>\n",
              "      <th>0</th>\n",
              "      <td>1</td>\n",
              "      <td>2021-06-07</td>\n",
              "      <td>台北市</td>\n",
              "      <td>中山區</td>\n",
              "      <td>女</td>\n",
              "      <td>否</td>\n",
              "      <td>35-39</td>\n",
              "    </tr>\n",
              "    <tr>\n",
              "      <th>1</th>\n",
              "      <td>2</td>\n",
              "      <td>2021-06-07</td>\n",
              "      <td>台北市</td>\n",
              "      <td>中山區</td>\n",
              "      <td>女</td>\n",
              "      <td>否</td>\n",
              "      <td>35-39</td>\n",
              "    </tr>\n",
              "    <tr>\n",
              "      <th>2</th>\n",
              "      <td>3</td>\n",
              "      <td>2021-06-07</td>\n",
              "      <td>台北市</td>\n",
              "      <td>中山區</td>\n",
              "      <td>女</td>\n",
              "      <td>否</td>\n",
              "      <td>55-59</td>\n",
              "    </tr>\n",
              "    <tr>\n",
              "      <th>3</th>\n",
              "      <td>4</td>\n",
              "      <td>2021-06-07</td>\n",
              "      <td>台北市</td>\n",
              "      <td>中山區</td>\n",
              "      <td>女</td>\n",
              "      <td>否</td>\n",
              "      <td>70+</td>\n",
              "    </tr>\n",
              "    <tr>\n",
              "      <th>4</th>\n",
              "      <td>5</td>\n",
              "      <td>2021-06-07</td>\n",
              "      <td>台北市</td>\n",
              "      <td>中山區</td>\n",
              "      <td>女</td>\n",
              "      <td>否</td>\n",
              "      <td>70+</td>\n",
              "    </tr>\n",
              "    <tr>\n",
              "      <th>...</th>\n",
              "      <td>...</td>\n",
              "      <td>...</td>\n",
              "      <td>...</td>\n",
              "      <td>...</td>\n",
              "      <td>...</td>\n",
              "      <td>...</td>\n",
              "      <td>...</td>\n",
              "    </tr>\n",
              "    <tr>\n",
              "      <th>11483</th>\n",
              "      <td>11484</td>\n",
              "      <td>2020-01-27</td>\n",
              "      <td>境外移入</td>\n",
              "      <td>空值</td>\n",
              "      <td>女</td>\n",
              "      <td>是</td>\n",
              "      <td>50-54</td>\n",
              "    </tr>\n",
              "    <tr>\n",
              "      <th>11484</th>\n",
              "      <td>11485</td>\n",
              "      <td>2020-01-26</td>\n",
              "      <td>境外移入</td>\n",
              "      <td>空值</td>\n",
              "      <td>女</td>\n",
              "      <td>是</td>\n",
              "      <td>55-59</td>\n",
              "    </tr>\n",
              "    <tr>\n",
              "      <th>11485</th>\n",
              "      <td>11486</td>\n",
              "      <td>2020-01-24</td>\n",
              "      <td>境外移入</td>\n",
              "      <td>空值</td>\n",
              "      <td>女</td>\n",
              "      <td>是</td>\n",
              "      <td>50-54</td>\n",
              "    </tr>\n",
              "    <tr>\n",
              "      <th>11486</th>\n",
              "      <td>11487</td>\n",
              "      <td>2020-01-24</td>\n",
              "      <td>境外移入</td>\n",
              "      <td>空值</td>\n",
              "      <td>男</td>\n",
              "      <td>是</td>\n",
              "      <td>55-59</td>\n",
              "    </tr>\n",
              "    <tr>\n",
              "      <th>11487</th>\n",
              "      <td>11488</td>\n",
              "      <td>2020-01-22</td>\n",
              "      <td>境外移入</td>\n",
              "      <td>空值</td>\n",
              "      <td>女</td>\n",
              "      <td>是</td>\n",
              "      <td>55-59</td>\n",
              "    </tr>\n",
              "  </tbody>\n",
              "</table>\n",
              "<p>11488 rows × 7 columns</p>\n",
              "</div>"
            ],
            "text/plain": [
              "          id       個案研判日    縣市   鄉鎮 性別 是否為境外移入    年齡層\n",
              "0          1  2021-06-07   台北市  中山區  女       否  35-39\n",
              "1          2  2021-06-07   台北市  中山區  女       否  35-39\n",
              "2          3  2021-06-07   台北市  中山區  女       否  55-59\n",
              "3          4  2021-06-07   台北市  中山區  女       否    70+\n",
              "4          5  2021-06-07   台北市  中山區  女       否    70+\n",
              "...      ...         ...   ...  ... ..     ...    ...\n",
              "11483  11484  2020-01-27  境外移入   空值  女       是  50-54\n",
              "11484  11485  2020-01-26  境外移入   空值  女       是  55-59\n",
              "11485  11486  2020-01-24  境外移入   空值  女       是  50-54\n",
              "11486  11487  2020-01-24  境外移入   空值  男       是  55-59\n",
              "11487  11488  2020-01-22  境外移入   空值  女       是  55-59\n",
              "\n",
              "[11488 rows x 7 columns]"
            ]
          },
          "metadata": {
            "tags": []
          },
          "execution_count": 51
        }
      ]
    },
    {
      "cell_type": "code",
      "metadata": {
        "colab": {
          "base_uri": "https://localhost:8080/"
        },
        "id": "DerqjuII_yqs",
        "outputId": "3252f7dd-894c-41b7-9a11-25751ff03769"
      },
      "source": [
        "# 檢視各欄位的資料型態與缺失值狀況\n",
        "raw_data.info()"
      ],
      "execution_count": null,
      "outputs": [
        {
          "output_type": "stream",
          "text": [
            "<class 'pandas.core.frame.DataFrame'>\n",
            "RangeIndex: 11488 entries, 0 to 11487\n",
            "Data columns (total 7 columns):\n",
            " #   Column   Non-Null Count  Dtype \n",
            "---  ------   --------------  ----- \n",
            " 0   id       11488 non-null  int64 \n",
            " 1   個案研判日    11488 non-null  object\n",
            " 2   縣市       11488 non-null  object\n",
            " 3   鄉鎮       11488 non-null  object\n",
            " 4   性別       11488 non-null  object\n",
            " 5   是否為境外移入  11488 non-null  object\n",
            " 6   年齡層      11488 non-null  object\n",
            "dtypes: int64(1), object(6)\n",
            "memory usage: 628.4+ KB\n"
          ],
          "name": "stdout"
        }
      ]
    },
    {
      "cell_type": "markdown",
      "metadata": {
        "id": "s_7aFdXGYfr-"
      },
      "source": [
        "### Step 2 : 篩選欄位   \n",
        "\n",
        "從原始資料中篩選出【性別】、【是否為境外移入】兩欄位的資料 : \n"
      ]
    },
    {
      "cell_type": "code",
      "metadata": {
        "colab": {
          "base_uri": "https://localhost:8080/"
        },
        "id": "0V4jtEkeYfr-",
        "outputId": "e4df2024-05fe-4492-b25c-3d46ea7420d3"
      },
      "source": [
        "plot_df = raw_data[ ['性別','是否為境外移入'] ]\n",
        "plot_df"
      ],
      "execution_count": null,
      "outputs": [
        {
          "output_type": "execute_result",
          "data": {
            "text/html": [
              "<div>\n",
              "<style scoped>\n",
              "    .dataframe tbody tr th:only-of-type {\n",
              "        vertical-align: middle;\n",
              "    }\n",
              "\n",
              "    .dataframe tbody tr th {\n",
              "        vertical-align: top;\n",
              "    }\n",
              "\n",
              "    .dataframe thead th {\n",
              "        text-align: right;\n",
              "    }\n",
              "</style>\n",
              "<table border=\"1\" class=\"dataframe\">\n",
              "  <thead>\n",
              "    <tr style=\"text-align: right;\">\n",
              "      <th></th>\n",
              "      <th>性別</th>\n",
              "      <th>是否為境外移入</th>\n",
              "    </tr>\n",
              "  </thead>\n",
              "  <tbody>\n",
              "    <tr>\n",
              "      <th>0</th>\n",
              "      <td>女</td>\n",
              "      <td>否</td>\n",
              "    </tr>\n",
              "    <tr>\n",
              "      <th>1</th>\n",
              "      <td>女</td>\n",
              "      <td>否</td>\n",
              "    </tr>\n",
              "    <tr>\n",
              "      <th>2</th>\n",
              "      <td>女</td>\n",
              "      <td>否</td>\n",
              "    </tr>\n",
              "    <tr>\n",
              "      <th>3</th>\n",
              "      <td>女</td>\n",
              "      <td>否</td>\n",
              "    </tr>\n",
              "    <tr>\n",
              "      <th>4</th>\n",
              "      <td>女</td>\n",
              "      <td>否</td>\n",
              "    </tr>\n",
              "    <tr>\n",
              "      <th>...</th>\n",
              "      <td>...</td>\n",
              "      <td>...</td>\n",
              "    </tr>\n",
              "    <tr>\n",
              "      <th>11483</th>\n",
              "      <td>女</td>\n",
              "      <td>是</td>\n",
              "    </tr>\n",
              "    <tr>\n",
              "      <th>11484</th>\n",
              "      <td>女</td>\n",
              "      <td>是</td>\n",
              "    </tr>\n",
              "    <tr>\n",
              "      <th>11485</th>\n",
              "      <td>女</td>\n",
              "      <td>是</td>\n",
              "    </tr>\n",
              "    <tr>\n",
              "      <th>11486</th>\n",
              "      <td>男</td>\n",
              "      <td>是</td>\n",
              "    </tr>\n",
              "    <tr>\n",
              "      <th>11487</th>\n",
              "      <td>女</td>\n",
              "      <td>是</td>\n",
              "    </tr>\n",
              "  </tbody>\n",
              "</table>\n",
              "<p>11488 rows × 2 columns</p>\n",
              "</div>"
            ],
            "text/plain": [
              "      性別 是否為境外移入\n",
              "0      女       否\n",
              "1      女       否\n",
              "2      女       否\n",
              "3      女       否\n",
              "4      女       否\n",
              "...   ..     ...\n",
              "11483  女       是\n",
              "11484  女       是\n",
              "11485  女       是\n",
              "11486  男       是\n",
              "11487  女       是\n",
              "\n",
              "[11488 rows x 2 columns]"
            ]
          },
          "metadata": {
            "tags": []
          },
          "execution_count": 53
        }
      ]
    },
    {
      "cell_type": "markdown",
      "metadata": {
        "id": "1KMeOdqtZZrz"
      },
      "source": [
        "### Step 3 : 樞紐分析 \n",
        "依【性別】、【是否為境外移入】 兩欄位分組，統計各組的個案總數 :  "
      ]
    },
    {
      "cell_type": "code",
      "metadata": {
        "colab": {
          "base_uri": "https://localhost:8080/"
        },
        "id": "SLM5YVIsZZr0",
        "outputId": "0bb84d5c-8a1c-439a-a5c2-cc093db67465"
      },
      "source": [
        "# 統計各組的個案總數\n",
        "summary = plot_df.groupby(['性別','是否為境外移入']).size()\n",
        "\n",
        "# Series 轉成 DataFrame 資料結構\n",
        "summary = pd.DataFrame( summary )\n",
        "summary.reset_index( inplace=True ) \n",
        "\n",
        "# 重新定義 DataFrame 欄位名稱\n",
        "summary.columns = ['性別','境外移入','個案總數'] \n",
        "\n",
        "summary"
      ],
      "execution_count": null,
      "outputs": [
        {
          "output_type": "execute_result",
          "data": {
            "text/html": [
              "<div>\n",
              "<style scoped>\n",
              "    .dataframe tbody tr th:only-of-type {\n",
              "        vertical-align: middle;\n",
              "    }\n",
              "\n",
              "    .dataframe tbody tr th {\n",
              "        vertical-align: top;\n",
              "    }\n",
              "\n",
              "    .dataframe thead th {\n",
              "        text-align: right;\n",
              "    }\n",
              "</style>\n",
              "<table border=\"1\" class=\"dataframe\">\n",
              "  <thead>\n",
              "    <tr style=\"text-align: right;\">\n",
              "      <th></th>\n",
              "      <th>性別</th>\n",
              "      <th>境外移入</th>\n",
              "      <th>個案總數</th>\n",
              "    </tr>\n",
              "  </thead>\n",
              "  <tbody>\n",
              "    <tr>\n",
              "      <th>0</th>\n",
              "      <td>女</td>\n",
              "      <td>否</td>\n",
              "      <td>5084</td>\n",
              "    </tr>\n",
              "    <tr>\n",
              "      <th>1</th>\n",
              "      <td>女</td>\n",
              "      <td>是</td>\n",
              "      <td>531</td>\n",
              "    </tr>\n",
              "    <tr>\n",
              "      <th>2</th>\n",
              "      <td>男</td>\n",
              "      <td>否</td>\n",
              "      <td>5203</td>\n",
              "    </tr>\n",
              "    <tr>\n",
              "      <th>3</th>\n",
              "      <td>男</td>\n",
              "      <td>是</td>\n",
              "      <td>670</td>\n",
              "    </tr>\n",
              "  </tbody>\n",
              "</table>\n",
              "</div>"
            ],
            "text/plain": [
              "  性別 境外移入  個案總數\n",
              "0  女    否  5084\n",
              "1  女    是   531\n",
              "2  男    否  5203\n",
              "3  男    是   670"
            ]
          },
          "metadata": {
            "tags": []
          },
          "execution_count": 54
        }
      ]
    },
    {
      "cell_type": "markdown",
      "metadata": {
        "id": "JjXtkieRBoEf"
      },
      "source": [
        "將樞紐分析的結果，由大到小進行排序 : "
      ]
    },
    {
      "cell_type": "code",
      "metadata": {
        "colab": {
          "base_uri": "https://localhost:8080/"
        },
        "id": "CnDhBiGx_o_o",
        "outputId": "854973f0-d5b0-4f07-d6a6-5a1e9fd94960"
      },
      "source": [
        "# 由小到大排序 '個案總數' 欄位\n",
        "summary.sort_values( '個案總數', ascending=False, inplace=True )\n",
        "summary"
      ],
      "execution_count": null,
      "outputs": [
        {
          "output_type": "execute_result",
          "data": {
            "text/html": [
              "<div>\n",
              "<style scoped>\n",
              "    .dataframe tbody tr th:only-of-type {\n",
              "        vertical-align: middle;\n",
              "    }\n",
              "\n",
              "    .dataframe tbody tr th {\n",
              "        vertical-align: top;\n",
              "    }\n",
              "\n",
              "    .dataframe thead th {\n",
              "        text-align: right;\n",
              "    }\n",
              "</style>\n",
              "<table border=\"1\" class=\"dataframe\">\n",
              "  <thead>\n",
              "    <tr style=\"text-align: right;\">\n",
              "      <th></th>\n",
              "      <th>性別</th>\n",
              "      <th>境外移入</th>\n",
              "      <th>個案總數</th>\n",
              "    </tr>\n",
              "  </thead>\n",
              "  <tbody>\n",
              "    <tr>\n",
              "      <th>2</th>\n",
              "      <td>男</td>\n",
              "      <td>否</td>\n",
              "      <td>5203</td>\n",
              "    </tr>\n",
              "    <tr>\n",
              "      <th>0</th>\n",
              "      <td>女</td>\n",
              "      <td>否</td>\n",
              "      <td>5084</td>\n",
              "    </tr>\n",
              "    <tr>\n",
              "      <th>3</th>\n",
              "      <td>男</td>\n",
              "      <td>是</td>\n",
              "      <td>670</td>\n",
              "    </tr>\n",
              "    <tr>\n",
              "      <th>1</th>\n",
              "      <td>女</td>\n",
              "      <td>是</td>\n",
              "      <td>531</td>\n",
              "    </tr>\n",
              "  </tbody>\n",
              "</table>\n",
              "</div>"
            ],
            "text/plain": [
              "  性別 境外移入  個案總數\n",
              "2  男    否  5203\n",
              "0  女    否  5084\n",
              "3  男    是   670\n",
              "1  女    是   531"
            ]
          },
          "metadata": {
            "tags": []
          },
          "execution_count": 55
        }
      ]
    },
    {
      "cell_type": "markdown",
      "metadata": {
        "id": "t4XPsbT_BzNq"
      },
      "source": [
        "新增【群組】欄位，用來記錄由【性別】、【境外移入】兩欄位所分類的結果 : "
      ]
    },
    {
      "cell_type": "code",
      "metadata": {
        "colab": {
          "base_uri": "https://localhost:8080/"
        },
        "id": "627oUklB7D2W",
        "outputId": "e68bbeb4-177c-4a8a-c9eb-787ea35073f2"
      },
      "source": [
        "# 新增 '群組' 欄位，記錄依 '性別' 與 '境外移入' 兩欄位分組的類別。\n",
        "summary['族群'] = summary.apply( lambda x: '女性非境外' if (x['性別']=='女')&(x['境外移入']=='否') else \n",
        "                                           '女性境外' if (x['性別']=='女')&(x['境外移入']=='是') else \n",
        "                                           '男性非境外' if (x['性別']=='男')&(x['境外移入']=='否') else '男性境外' , axis=1 )\n",
        "summary "
      ],
      "execution_count": null,
      "outputs": [
        {
          "output_type": "execute_result",
          "data": {
            "text/html": [
              "<div>\n",
              "<style scoped>\n",
              "    .dataframe tbody tr th:only-of-type {\n",
              "        vertical-align: middle;\n",
              "    }\n",
              "\n",
              "    .dataframe tbody tr th {\n",
              "        vertical-align: top;\n",
              "    }\n",
              "\n",
              "    .dataframe thead th {\n",
              "        text-align: right;\n",
              "    }\n",
              "</style>\n",
              "<table border=\"1\" class=\"dataframe\">\n",
              "  <thead>\n",
              "    <tr style=\"text-align: right;\">\n",
              "      <th></th>\n",
              "      <th>性別</th>\n",
              "      <th>境外移入</th>\n",
              "      <th>個案總數</th>\n",
              "      <th>族群</th>\n",
              "    </tr>\n",
              "  </thead>\n",
              "  <tbody>\n",
              "    <tr>\n",
              "      <th>2</th>\n",
              "      <td>男</td>\n",
              "      <td>否</td>\n",
              "      <td>5203</td>\n",
              "      <td>男性非境外</td>\n",
              "    </tr>\n",
              "    <tr>\n",
              "      <th>0</th>\n",
              "      <td>女</td>\n",
              "      <td>否</td>\n",
              "      <td>5084</td>\n",
              "      <td>女性非境外</td>\n",
              "    </tr>\n",
              "    <tr>\n",
              "      <th>3</th>\n",
              "      <td>男</td>\n",
              "      <td>是</td>\n",
              "      <td>670</td>\n",
              "      <td>男性境外</td>\n",
              "    </tr>\n",
              "    <tr>\n",
              "      <th>1</th>\n",
              "      <td>女</td>\n",
              "      <td>是</td>\n",
              "      <td>531</td>\n",
              "      <td>女性境外</td>\n",
              "    </tr>\n",
              "  </tbody>\n",
              "</table>\n",
              "</div>"
            ],
            "text/plain": [
              "  性別 境外移入  個案總數     族群\n",
              "2  男    否  5203  男性非境外\n",
              "0  女    否  5084  女性非境外\n",
              "3  男    是   670   男性境外\n",
              "1  女    是   531   女性境外"
            ]
          },
          "metadata": {
            "tags": []
          },
          "execution_count": 56
        }
      ]
    },
    {
      "cell_type": "markdown",
      "metadata": {
        "id": "s4mhHsla6gDC"
      },
      "source": [
        "### Step 4 : 繪製圓餅圖 "
      ]
    },
    {
      "cell_type": "code",
      "metadata": {
        "colab": {
          "base_uri": "https://localhost:8080/"
        },
        "id": "6ftpeTFK6gDG",
        "outputId": "6c57aa0e-592b-46c6-9daf-538fc63069ec"
      },
      "source": [
        "# 圓餅圖 Pie Chart\n",
        "Colors = ['lightblue','lightgreen','yellow','pink']\n",
        "plt.pie( x=summary['個案總數'], labels=summary['族群'], colors=Colors, autopct='%2.1f%%', counterclock=False )\n",
        "\n",
        "plt.show()"
      ],
      "execution_count": null,
      "outputs": [
        {
          "output_type": "display_data",
          "data": {
            "image/png": "[encoded data removed]",
            "text/plain": [
              "<Figure size 432x288 with 1 Axes>"
            ]
          },
          "metadata": {
            "tags": []
          }
        }
      ]
    },
    {
      "cell_type": "markdown",
      "metadata": {
        "id": "DMolnS8fDnv8"
      },
      "source": [
        "# **直方圖 Histograms**   \n",
        "\n",
        "直方圖( Histograms )可用來描述資料的分佈情況，通常組距之間具大小或順序性，例如 : 年齡、成績的分佈等。透過直方圖，我們可大致估計出資料的[中位數(Median)](https://zh.wikipedia.org/wiki/%E4%B8%AD%E4%BD%8D%E6%95%B8)及[眾數(Mode)](https://zh.wikipedia.org/wiki/%E4%BC%97%E6%95%B0_(%E6%95%B0%E5%AD%A6))，有時也可用來觀察資料是否存在離群值( Outlier )。  \n",
        "</br>\n",
        "\n"
      ]
    },
    {
      "cell_type": "markdown",
      "metadata": {
        "id": "L3eAhrgeCBg3"
      },
      "source": [
        "![SQL JOINS](https://raw.githubusercontent.com/YenLinWu/Machine_Learning_Basic/main/Images/(Histograms)_Salary_distribution.png)  \n",
        "資料來源: [行政院主計總處 薪情平臺](https://earnings.dgbas.gov.tw/)\n",
        "</br>   "
      ]
    },
    {
      "cell_type": "markdown",
      "metadata": {
        "id": "RH-LhunKpcoc"
      },
      "source": [
        "\n",
        "使用 [`matplotlib.pyplot.hist( x, bins, range, histtype, rwidth, orientation, color, label, density )`](https://matplotlib.org/stable/api/_as_gen/matplotlib.pyplot.hist.html) 函數繪製垂直的直方圖，常用的參數說明如下:  \n",
        "  * x : 資料；  \n",
        "  * bins : 直方圖組距的數量，預設為 `bins=10` ；\n",
        "  * range : 直方圖組距所屬的區間範圍，若無設定，則預設為資料的最小值與最大值範圍；    \n",
        "  * histtype : 直方圖的型態，四種型態分別為: 'bar'、 'barstacked'、'step'、'stepfilled'，各型態直方圖的繪圖請參考 [Demo of the histogram function's different histtype settings](https://matplotlib.org/stable/gallery/statistics/histogram_histtypes.html)，預設為 `histtype='bar'` ；   \n",
        "  * rwidth : 直方圖的長條寬度，預設為 `rwidth=None` 自動調整寬度；  \n",
        "  * orientation : 直方圖的方向( 垂直 'vertical' /水平 'horizontal' )，預設為 `orientation='vertical'` ；  \n",
        "  * color : 直方圖的顏色；  \n",
        "  * label : 直方圖的圖例文字； \n",
        "  * density : 是否繪製機率密度函數，預設為 `density=False`。"
      ]
    },
    {
      "cell_type": "code",
      "metadata": {
        "colab": {
          "base_uri": "https://localhost:8080/",
          "height": 265
        },
        "id": "G91jUfe0D2bM",
        "outputId": "3baf923b-4527-4b5a-e7fe-33409c749bb1"
      },
      "source": [
        "# Data \n",
        "x =[15,30,45,60,75,90,88,84,95,92,23,48,52,73,68,66,59,62,47,93,27,54]\n",
        "\n",
        "# 直方圖 Histograms \n",
        "plt.hist( x, bins=8, range=(10,100) )\n",
        "plt.show()"
      ],
      "execution_count": null,
      "outputs": [
        {
          "output_type": "display_data",
          "data": {
            "image/png": "[encoded data removed]",
            "text/plain": [
              "<Figure size 432x288 with 1 Axes>"
            ]
          },
          "metadata": {
            "tags": [],
            "needs_background": "light"
          }
        }
      ]
    },
    {
      "cell_type": "markdown",
      "metadata": {
        "id": "KIF7Cb1CIYeS"
      },
      "source": [
        "## 實作範例   \n",
        "\n",
        "資料來源 : [內政部 不動產成交案件實際資訊 資料供應系統](https://plvr.land.moi.gov.tw/DownloadOpenData)   \n",
        "下載條件 : 臺北市 不動產買賣     \n",
        "檔案名稱 : a_lvr_land_a   \n",
        "下載時間 : 2021/6/7"
      ]
    },
    {
      "cell_type": "markdown",
      "metadata": {
        "id": "Sel9RqXgJPwq"
      },
      "source": [
        "### Step 1 : 匯入資料"
      ]
    },
    {
      "cell_type": "code",
      "metadata": {
        "colab": {
          "base_uri": "https://localhost:8080/"
        },
        "id": "86LFTHz4JPwy",
        "outputId": "97a9cae7-60dd-4a23-c27d-51e46c430e85"
      },
      "source": [
        "# 匯入 xlsx 檔\n",
        "raw_data = pd.read_excel( '/content/a_lvr_land_a.xls', sheet_name='不動產買賣' )\n",
        "raw_data"
      ],
      "execution_count": null,
      "outputs": [
        {
          "output_type": "execute_result",
          "data": {
            "text/html": [
              "<div>\n",
              "<style scoped>\n",
              "    .dataframe tbody tr th:only-of-type {\n",
              "        vertical-align: middle;\n",
              "    }\n",
              "\n",
              "    .dataframe tbody tr th {\n",
              "        vertical-align: top;\n",
              "    }\n",
              "\n",
              "    .dataframe thead th {\n",
              "        text-align: right;\n",
              "    }\n",
              "</style>\n",
              "<table border=\"1\" class=\"dataframe\">\n",
              "  <thead>\n",
              "    <tr style=\"text-align: right;\">\n",
              "      <th></th>\n",
              "      <th>鄉鎮市區</th>\n",
              "      <th>交易標的</th>\n",
              "      <th>土地區段位置建物區段門牌</th>\n",
              "      <th>土地移轉總面積平方公尺</th>\n",
              "      <th>都市土地使用分區</th>\n",
              "      <th>非都市土地使用分區</th>\n",
              "      <th>非都市土地使用編定</th>\n",
              "      <th>交易年月日</th>\n",
              "      <th>交易筆棟數</th>\n",
              "      <th>移轉層次</th>\n",
              "      <th>總樓層數</th>\n",
              "      <th>建物型態</th>\n",
              "      <th>主要用途</th>\n",
              "      <th>主要建材</th>\n",
              "      <th>建築完成年月</th>\n",
              "      <th>建物移轉總面積平方公尺</th>\n",
              "      <th>建物現況格局-房</th>\n",
              "      <th>建物現況格局-廳</th>\n",
              "      <th>建物現況格局-衛</th>\n",
              "      <th>建物現況格局-隔間</th>\n",
              "      <th>有無管理組織</th>\n",
              "      <th>總價元</th>\n",
              "      <th>單價元平方公尺</th>\n",
              "      <th>車位類別</th>\n",
              "      <th>車位移轉總面積(平方公尺)</th>\n",
              "      <th>車位總價元</th>\n",
              "      <th>備註</th>\n",
              "      <th>編號</th>\n",
              "      <th>主建物面積</th>\n",
              "      <th>附屬建物面積</th>\n",
              "      <th>陽台面積</th>\n",
              "      <th>電梯</th>\n",
              "      <th>移轉編號</th>\n",
              "    </tr>\n",
              "  </thead>\n",
              "  <tbody>\n",
              "    <tr>\n",
              "      <th>0</th>\n",
              "      <td>The villages and towns urban district</td>\n",
              "      <td>transaction sign</td>\n",
              "      <td>land sector position building sector house num...</td>\n",
              "      <td>land shifting total area square meter</td>\n",
              "      <td>the use zoning or compiles and checks</td>\n",
              "      <td>the non-metropolis land use district</td>\n",
              "      <td>non-metropolis land use</td>\n",
              "      <td>transaction year month and day</td>\n",
              "      <td>transaction pen number</td>\n",
              "      <td>shifting level</td>\n",
              "      <td>total floor number</td>\n",
              "      <td>building state</td>\n",
              "      <td>main use</td>\n",
              "      <td>main building materials</td>\n",
              "      <td>construction to complete the years</td>\n",
              "      <td>building shifting total area</td>\n",
              "      <td>Building present situation pattern - room</td>\n",
              "      <td>building present situation pattern - hall</td>\n",
              "      <td>building present situation pattern - health</td>\n",
              "      <td>building present situation pattern - compartme...</td>\n",
              "      <td>Whether there is manages the organization</td>\n",
              "      <td>total price NTD</td>\n",
              "      <td>the unit price (NTD / square meter)</td>\n",
              "      <td>the berth category</td>\n",
              "      <td>berth shifting total area square meter</td>\n",
              "      <td>the berth total price NTD</td>\n",
              "      <td>the note</td>\n",
              "      <td>serial number</td>\n",
              "      <td>NaN</td>\n",
              "      <td>NaN</td>\n",
              "      <td>NaN</td>\n",
              "      <td>NaN</td>\n",
              "      <td>NaN</td>\n",
              "    </tr>\n",
              "    <tr>\n",
              "      <th>1</th>\n",
              "      <td>文山區</td>\n",
              "      <td>房地(土地+建物)</td>\n",
              "      <td>興隆路三段221巷4弄1~30號</td>\n",
              "      <td>58.99</td>\n",
              "      <td>都市：其他:第三種住宅區。</td>\n",
              "      <td>NaN</td>\n",
              "      <td>NaN</td>\n",
              "      <td>1100328</td>\n",
              "      <td>土地3建物1車位0</td>\n",
              "      <td>一層</td>\n",
              "      <td>五層</td>\n",
              "      <td>公寓(5樓含以下無電梯)</td>\n",
              "      <td>住家用</td>\n",
              "      <td>鋼筋混凝土造</td>\n",
              "      <td>0690910</td>\n",
              "      <td>98.97</td>\n",
              "      <td>3</td>\n",
              "      <td>2</td>\n",
              "      <td>2</td>\n",
              "      <td>有</td>\n",
              "      <td>有</td>\n",
              "      <td>15000000</td>\n",
              "      <td>151561</td>\n",
              "      <td>NaN</td>\n",
              "      <td>0</td>\n",
              "      <td>0</td>\n",
              "      <td>陽台外推；其他增建；</td>\n",
              "      <td>RPPPMLLJMHGGFAA66DA</td>\n",
              "      <td>83.17</td>\n",
              "      <td>8.83</td>\n",
              "      <td>6.97</td>\n",
              "      <td>無</td>\n",
              "      <td>NaN</td>\n",
              "    </tr>\n",
              "    <tr>\n",
              "      <th>2</th>\n",
              "      <td>文山區</td>\n",
              "      <td>房地(土地+建物)+車位</td>\n",
              "      <td>辛亥路四段209巷1~30號</td>\n",
              "      <td>17.67</td>\n",
              "      <td>都市：其他:第三種住宅區。</td>\n",
              "      <td>NaN</td>\n",
              "      <td>NaN</td>\n",
              "      <td>1100329</td>\n",
              "      <td>土地1建物1車位1</td>\n",
              "      <td>十二層</td>\n",
              "      <td>二十六層</td>\n",
              "      <td>住宅大樓(11層含以上有電梯)</td>\n",
              "      <td>集合住宅</td>\n",
              "      <td>鋼筋混凝土造</td>\n",
              "      <td>1090430</td>\n",
              "      <td>155.59</td>\n",
              "      <td>3</td>\n",
              "      <td>2</td>\n",
              "      <td>2</td>\n",
              "      <td>有</td>\n",
              "      <td>有</td>\n",
              "      <td>28890000</td>\n",
              "      <td>185680</td>\n",
              "      <td>坡道平面</td>\n",
              "      <td>33.07</td>\n",
              "      <td>0</td>\n",
              "      <td>政府機關標讓售；</td>\n",
              "      <td>RPWNMLMKMHGGFAA37DA</td>\n",
              "      <td>69.97</td>\n",
              "      <td>6.69</td>\n",
              "      <td>7.51</td>\n",
              "      <td>有</td>\n",
              "      <td>NaN</td>\n",
              "    </tr>\n",
              "    <tr>\n",
              "      <th>3</th>\n",
              "      <td>文山區</td>\n",
              "      <td>房地(土地+建物)</td>\n",
              "      <td>羅斯福路五段97巷1~30號</td>\n",
              "      <td>44.25</td>\n",
              "      <td>都市：其他:第三種住宅區。</td>\n",
              "      <td>NaN</td>\n",
              "      <td>NaN</td>\n",
              "      <td>1100404</td>\n",
              "      <td>土地1建物1車位0</td>\n",
              "      <td>四層，陽臺</td>\n",
              "      <td>四層</td>\n",
              "      <td>公寓(5樓含以下無電梯)</td>\n",
              "      <td>NaN</td>\n",
              "      <td>鋼筋混凝土造</td>\n",
              "      <td>NaN</td>\n",
              "      <td>101.22</td>\n",
              "      <td>4</td>\n",
              "      <td>2</td>\n",
              "      <td>1</td>\n",
              "      <td>有</td>\n",
              "      <td>無</td>\n",
              "      <td>13010000</td>\n",
              "      <td>128532</td>\n",
              "      <td>NaN</td>\n",
              "      <td>0</td>\n",
              "      <td>0</td>\n",
              "      <td>陽台外推；其他增建；</td>\n",
              "      <td>RPRPMLLLMHGGFAA07DA</td>\n",
              "      <td>101.22</td>\n",
              "      <td>0.00</td>\n",
              "      <td>0.00</td>\n",
              "      <td>無</td>\n",
              "      <td>NaN</td>\n",
              "    </tr>\n",
              "    <tr>\n",
              "      <th>4</th>\n",
              "      <td>文山區</td>\n",
              "      <td>房地(土地+建物)+車位</td>\n",
              "      <td>興德路20巷31~60號</td>\n",
              "      <td>13.72</td>\n",
              "      <td>都市：其他:第參種商業區(依都市計畫說明書圖規定辦理，始得作第參種商業區使用)(原屬第貳種住...</td>\n",
              "      <td>NaN</td>\n",
              "      <td>NaN</td>\n",
              "      <td>1100327</td>\n",
              "      <td>土地2建物1車位1</td>\n",
              "      <td>七層</td>\n",
              "      <td>十二層</td>\n",
              "      <td>住宅大樓(11層含以上有電梯)</td>\n",
              "      <td>住家用</td>\n",
              "      <td>鋼筋混凝土造</td>\n",
              "      <td>1040611</td>\n",
              "      <td>92.31</td>\n",
              "      <td>2</td>\n",
              "      <td>2</td>\n",
              "      <td>1</td>\n",
              "      <td>有</td>\n",
              "      <td>有</td>\n",
              "      <td>13700000</td>\n",
              "      <td>148413</td>\n",
              "      <td>坡道平面</td>\n",
              "      <td>42.9</td>\n",
              "      <td>0</td>\n",
              "      <td>NaN</td>\n",
              "      <td>RPQPMLQJNHGGFAA37DA</td>\n",
              "      <td>27.51</td>\n",
              "      <td>1.23</td>\n",
              "      <td>4.34</td>\n",
              "      <td>有</td>\n",
              "      <td>1.0</td>\n",
              "    </tr>\n",
              "    <tr>\n",
              "      <th>...</th>\n",
              "      <td>...</td>\n",
              "      <td>...</td>\n",
              "      <td>...</td>\n",
              "      <td>...</td>\n",
              "      <td>...</td>\n",
              "      <td>...</td>\n",
              "      <td>...</td>\n",
              "      <td>...</td>\n",
              "      <td>...</td>\n",
              "      <td>...</td>\n",
              "      <td>...</td>\n",
              "      <td>...</td>\n",
              "      <td>...</td>\n",
              "      <td>...</td>\n",
              "      <td>...</td>\n",
              "      <td>...</td>\n",
              "      <td>...</td>\n",
              "      <td>...</td>\n",
              "      <td>...</td>\n",
              "      <td>...</td>\n",
              "      <td>...</td>\n",
              "      <td>...</td>\n",
              "      <td>...</td>\n",
              "      <td>...</td>\n",
              "      <td>...</td>\n",
              "      <td>...</td>\n",
              "      <td>...</td>\n",
              "      <td>...</td>\n",
              "      <td>...</td>\n",
              "      <td>...</td>\n",
              "      <td>...</td>\n",
              "      <td>...</td>\n",
              "      <td>...</td>\n",
              "    </tr>\n",
              "    <tr>\n",
              "      <th>951</th>\n",
              "      <td>文山區</td>\n",
              "      <td>房地(土地+建物)</td>\n",
              "      <td>木新路二段43巷1~30號</td>\n",
              "      <td>24.39</td>\n",
              "      <td>都市：其他:第三種住宅區。</td>\n",
              "      <td>NaN</td>\n",
              "      <td>NaN</td>\n",
              "      <td>1100414</td>\n",
              "      <td>土地1建物1車位0</td>\n",
              "      <td>九層</td>\n",
              "      <td>十層</td>\n",
              "      <td>華廈(10層含以下有電梯)</td>\n",
              "      <td>住家用</td>\n",
              "      <td>鋼筋混凝土造</td>\n",
              "      <td>0840509</td>\n",
              "      <td>91.76</td>\n",
              "      <td>3</td>\n",
              "      <td>2</td>\n",
              "      <td>2</td>\n",
              "      <td>有</td>\n",
              "      <td>有</td>\n",
              "      <td>15580000</td>\n",
              "      <td>169791</td>\n",
              "      <td>NaN</td>\n",
              "      <td>0</td>\n",
              "      <td>0</td>\n",
              "      <td>NaN</td>\n",
              "      <td>RPVNMLRJNHGGFAA77DA</td>\n",
              "      <td>69.83</td>\n",
              "      <td>3.69</td>\n",
              "      <td>7.57</td>\n",
              "      <td>有</td>\n",
              "      <td>NaN</td>\n",
              "    </tr>\n",
              "    <tr>\n",
              "      <th>952</th>\n",
              "      <td>文山區</td>\n",
              "      <td>房地(土地+建物)+車位</td>\n",
              "      <td>政大二街171巷1~30號</td>\n",
              "      <td>108.04</td>\n",
              "      <td>都市：其他:第二種住宅區。</td>\n",
              "      <td>NaN</td>\n",
              "      <td>NaN</td>\n",
              "      <td>1100405</td>\n",
              "      <td>土地1建物1車位1</td>\n",
              "      <td>全</td>\n",
              "      <td>三層</td>\n",
              "      <td>透天厝</td>\n",
              "      <td>住家用</td>\n",
              "      <td>鋼筋混凝土造</td>\n",
              "      <td>0841215</td>\n",
              "      <td>212.43</td>\n",
              "      <td>4</td>\n",
              "      <td>2</td>\n",
              "      <td>3</td>\n",
              "      <td>有</td>\n",
              "      <td>有</td>\n",
              "      <td>24500000</td>\n",
              "      <td>115332</td>\n",
              "      <td>坡道平面</td>\n",
              "      <td>0</td>\n",
              "      <td>0</td>\n",
              "      <td>陽台外推；夾層；其他增建；</td>\n",
              "      <td>RPXOMLTLMHGGFAA38DA</td>\n",
              "      <td>133.61</td>\n",
              "      <td>8.74</td>\n",
              "      <td>9.46</td>\n",
              "      <td>無</td>\n",
              "      <td>NaN</td>\n",
              "    </tr>\n",
              "    <tr>\n",
              "      <th>953</th>\n",
              "      <td>中正區</td>\n",
              "      <td>土地</td>\n",
              "      <td>河堤段三小段511~540地號</td>\n",
              "      <td>5.5</td>\n",
              "      <td>都市：其他:道路用地(公共設施用地)。56/9/9</td>\n",
              "      <td>NaN</td>\n",
              "      <td>NaN</td>\n",
              "      <td>1100507</td>\n",
              "      <td>土地1建物0車位0</td>\n",
              "      <td>NaN</td>\n",
              "      <td>NaN</td>\n",
              "      <td>其他</td>\n",
              "      <td>NaN</td>\n",
              "      <td>NaN</td>\n",
              "      <td>NaN</td>\n",
              "      <td>0</td>\n",
              "      <td>0</td>\n",
              "      <td>0</td>\n",
              "      <td>0</td>\n",
              "      <td>有</td>\n",
              "      <td>無</td>\n",
              "      <td>236775</td>\n",
              "      <td>43050</td>\n",
              "      <td>NaN</td>\n",
              "      <td>0</td>\n",
              "      <td>0</td>\n",
              "      <td>110年度臺北市政府以容積代金基金採購私有公共設施保留地包含公共設施保留地用地；</td>\n",
              "      <td>RPWQMLOJNHGGFAA87DA</td>\n",
              "      <td>0.00</td>\n",
              "      <td>0.00</td>\n",
              "      <td>0.00</td>\n",
              "      <td>無</td>\n",
              "      <td>NaN</td>\n",
              "    </tr>\n",
              "    <tr>\n",
              "      <th>954</th>\n",
              "      <td>中正區</td>\n",
              "      <td>房地(土地+建物)</td>\n",
              "      <td>和平西路一段121~150號</td>\n",
              "      <td>10.22</td>\n",
              "      <td>都市：其他:第三種住宅區。</td>\n",
              "      <td>NaN</td>\n",
              "      <td>NaN</td>\n",
              "      <td>1100505</td>\n",
              "      <td>土地2建物1車位0</td>\n",
              "      <td>九層</td>\n",
              "      <td>十二層</td>\n",
              "      <td>住宅大樓(11層含以上有電梯)</td>\n",
              "      <td>住家用</td>\n",
              "      <td>鋼筋混凝土造</td>\n",
              "      <td>0701117</td>\n",
              "      <td>109.74</td>\n",
              "      <td>3</td>\n",
              "      <td>2</td>\n",
              "      <td>2</td>\n",
              "      <td>有</td>\n",
              "      <td>有</td>\n",
              "      <td>16400000</td>\n",
              "      <td>149444</td>\n",
              "      <td>NaN</td>\n",
              "      <td>0</td>\n",
              "      <td>0</td>\n",
              "      <td>NaN</td>\n",
              "      <td>RPRNMLPJNHGGFAA17DA</td>\n",
              "      <td>87.40</td>\n",
              "      <td>0.00</td>\n",
              "      <td>11.48</td>\n",
              "      <td>有</td>\n",
              "      <td>NaN</td>\n",
              "    </tr>\n",
              "    <tr>\n",
              "      <th>955</th>\n",
              "      <td>文山區</td>\n",
              "      <td>房地(土地+建物)</td>\n",
              "      <td>羅斯福路六段159巷5弄1~30號</td>\n",
              "      <td>31.75</td>\n",
              "      <td>都市：其他:第四種住宅區。</td>\n",
              "      <td>NaN</td>\n",
              "      <td>NaN</td>\n",
              "      <td>1100321</td>\n",
              "      <td>土地1建物1車位0</td>\n",
              "      <td>二層，陽臺</td>\n",
              "      <td>四層</td>\n",
              "      <td>公寓(5樓含以下無電梯)</td>\n",
              "      <td>集合住宅</td>\n",
              "      <td>鋼筋混凝土造</td>\n",
              "      <td>0630903</td>\n",
              "      <td>88.13</td>\n",
              "      <td>3</td>\n",
              "      <td>2</td>\n",
              "      <td>1</td>\n",
              "      <td>有</td>\n",
              "      <td>無</td>\n",
              "      <td>13280000</td>\n",
              "      <td>150686</td>\n",
              "      <td>NaN</td>\n",
              "      <td>0</td>\n",
              "      <td>0</td>\n",
              "      <td>陽台外推；其他增建；</td>\n",
              "      <td>RPTQMLRJMHGGFAA77DA</td>\n",
              "      <td>88.13</td>\n",
              "      <td>0.00</td>\n",
              "      <td>0.00</td>\n",
              "      <td>無</td>\n",
              "      <td>NaN</td>\n",
              "    </tr>\n",
              "  </tbody>\n",
              "</table>\n",
              "<p>956 rows × 33 columns</p>\n",
              "</div>"
            ],
            "text/plain": [
              "                                      鄉鎮市區              交易標的  ...   電梯 移轉編號\n",
              "0    The villages and towns urban district  transaction sign  ...  NaN  NaN\n",
              "1                                      文山區         房地(土地+建物)  ...    無  NaN\n",
              "2                                      文山區      房地(土地+建物)+車位  ...    有  NaN\n",
              "3                                      文山區         房地(土地+建物)  ...    無  NaN\n",
              "4                                      文山區      房地(土地+建物)+車位  ...    有  1.0\n",
              "..                                     ...               ...  ...  ...  ...\n",
              "951                                    文山區         房地(土地+建物)  ...    有  NaN\n",
              "952                                    文山區      房地(土地+建物)+車位  ...    無  NaN\n",
              "953                                    中正區                土地  ...    無  NaN\n",
              "954                                    中正區         房地(土地+建物)  ...    有  NaN\n",
              "955                                    文山區         房地(土地+建物)  ...    無  NaN\n",
              "\n",
              "[956 rows x 33 columns]"
            ]
          },
          "metadata": {
            "tags": []
          },
          "execution_count": 59
        }
      ]
    },
    {
      "cell_type": "markdown",
      "metadata": {
        "id": "nqJ7RQURcElL"
      },
      "source": [
        "刪除資料集中的第一筆資料 :\n",
        "  - Hint : [How to delete the last row of data of a pandas dataframe](https://stackoverflow.com/questions/26921651/how-to-delete-the-last-row-of-data-of-a-pandas-dataframe) "
      ]
    },
    {
      "cell_type": "code",
      "metadata": {
        "colab": {
          "base_uri": "https://localhost:8080/"
        },
        "id": "ywD8WbBIJrgg",
        "outputId": "b8dbe0ae-550c-4065-a364-3770b103fa22"
      },
      "source": [
        "# 刪除 DataFrame 中的第一筆資料\n",
        "raw_data.drop( raw_data.head(1).index, inplace=True )\n",
        "raw_data.head()"
      ],
      "execution_count": null,
      "outputs": [
        {
          "output_type": "execute_result",
          "data": {
            "text/html": [
              "<div>\n",
              "<style scoped>\n",
              "    .dataframe tbody tr th:only-of-type {\n",
              "        vertical-align: middle;\n",
              "    }\n",
              "\n",
              "    .dataframe tbody tr th {\n",
              "        vertical-align: top;\n",
              "    }\n",
              "\n",
              "    .dataframe thead th {\n",
              "        text-align: right;\n",
              "    }\n",
              "</style>\n",
              "<table border=\"1\" class=\"dataframe\">\n",
              "  <thead>\n",
              "    <tr style=\"text-align: right;\">\n",
              "      <th></th>\n",
              "      <th>鄉鎮市區</th>\n",
              "      <th>交易標的</th>\n",
              "      <th>土地區段位置建物區段門牌</th>\n",
              "      <th>土地移轉總面積平方公尺</th>\n",
              "      <th>都市土地使用分區</th>\n",
              "      <th>非都市土地使用分區</th>\n",
              "      <th>非都市土地使用編定</th>\n",
              "      <th>交易年月日</th>\n",
              "      <th>交易筆棟數</th>\n",
              "      <th>移轉層次</th>\n",
              "      <th>總樓層數</th>\n",
              "      <th>建物型態</th>\n",
              "      <th>主要用途</th>\n",
              "      <th>主要建材</th>\n",
              "      <th>建築完成年月</th>\n",
              "      <th>建物移轉總面積平方公尺</th>\n",
              "      <th>建物現況格局-房</th>\n",
              "      <th>建物現況格局-廳</th>\n",
              "      <th>建物現況格局-衛</th>\n",
              "      <th>建物現況格局-隔間</th>\n",
              "      <th>有無管理組織</th>\n",
              "      <th>總價元</th>\n",
              "      <th>單價元平方公尺</th>\n",
              "      <th>車位類別</th>\n",
              "      <th>車位移轉總面積(平方公尺)</th>\n",
              "      <th>車位總價元</th>\n",
              "      <th>備註</th>\n",
              "      <th>編號</th>\n",
              "      <th>主建物面積</th>\n",
              "      <th>附屬建物面積</th>\n",
              "      <th>陽台面積</th>\n",
              "      <th>電梯</th>\n",
              "      <th>移轉編號</th>\n",
              "    </tr>\n",
              "  </thead>\n",
              "  <tbody>\n",
              "    <tr>\n",
              "      <th>1</th>\n",
              "      <td>文山區</td>\n",
              "      <td>房地(土地+建物)</td>\n",
              "      <td>興隆路三段221巷4弄1~30號</td>\n",
              "      <td>58.99</td>\n",
              "      <td>都市：其他:第三種住宅區。</td>\n",
              "      <td>NaN</td>\n",
              "      <td>NaN</td>\n",
              "      <td>1100328</td>\n",
              "      <td>土地3建物1車位0</td>\n",
              "      <td>一層</td>\n",
              "      <td>五層</td>\n",
              "      <td>公寓(5樓含以下無電梯)</td>\n",
              "      <td>住家用</td>\n",
              "      <td>鋼筋混凝土造</td>\n",
              "      <td>0690910</td>\n",
              "      <td>98.97</td>\n",
              "      <td>3</td>\n",
              "      <td>2</td>\n",
              "      <td>2</td>\n",
              "      <td>有</td>\n",
              "      <td>有</td>\n",
              "      <td>15000000</td>\n",
              "      <td>151561</td>\n",
              "      <td>NaN</td>\n",
              "      <td>0</td>\n",
              "      <td>0</td>\n",
              "      <td>陽台外推；其他增建；</td>\n",
              "      <td>RPPPMLLJMHGGFAA66DA</td>\n",
              "      <td>83.17</td>\n",
              "      <td>8.83</td>\n",
              "      <td>6.97</td>\n",
              "      <td>無</td>\n",
              "      <td>NaN</td>\n",
              "    </tr>\n",
              "    <tr>\n",
              "      <th>2</th>\n",
              "      <td>文山區</td>\n",
              "      <td>房地(土地+建物)+車位</td>\n",
              "      <td>辛亥路四段209巷1~30號</td>\n",
              "      <td>17.67</td>\n",
              "      <td>都市：其他:第三種住宅區。</td>\n",
              "      <td>NaN</td>\n",
              "      <td>NaN</td>\n",
              "      <td>1100329</td>\n",
              "      <td>土地1建物1車位1</td>\n",
              "      <td>十二層</td>\n",
              "      <td>二十六層</td>\n",
              "      <td>住宅大樓(11層含以上有電梯)</td>\n",
              "      <td>集合住宅</td>\n",
              "      <td>鋼筋混凝土造</td>\n",
              "      <td>1090430</td>\n",
              "      <td>155.59</td>\n",
              "      <td>3</td>\n",
              "      <td>2</td>\n",
              "      <td>2</td>\n",
              "      <td>有</td>\n",
              "      <td>有</td>\n",
              "      <td>28890000</td>\n",
              "      <td>185680</td>\n",
              "      <td>坡道平面</td>\n",
              "      <td>33.07</td>\n",
              "      <td>0</td>\n",
              "      <td>政府機關標讓售；</td>\n",
              "      <td>RPWNMLMKMHGGFAA37DA</td>\n",
              "      <td>69.97</td>\n",
              "      <td>6.69</td>\n",
              "      <td>7.51</td>\n",
              "      <td>有</td>\n",
              "      <td>NaN</td>\n",
              "    </tr>\n",
              "    <tr>\n",
              "      <th>3</th>\n",
              "      <td>文山區</td>\n",
              "      <td>房地(土地+建物)</td>\n",
              "      <td>羅斯福路五段97巷1~30號</td>\n",
              "      <td>44.25</td>\n",
              "      <td>都市：其他:第三種住宅區。</td>\n",
              "      <td>NaN</td>\n",
              "      <td>NaN</td>\n",
              "      <td>1100404</td>\n",
              "      <td>土地1建物1車位0</td>\n",
              "      <td>四層，陽臺</td>\n",
              "      <td>四層</td>\n",
              "      <td>公寓(5樓含以下無電梯)</td>\n",
              "      <td>NaN</td>\n",
              "      <td>鋼筋混凝土造</td>\n",
              "      <td>NaN</td>\n",
              "      <td>101.22</td>\n",
              "      <td>4</td>\n",
              "      <td>2</td>\n",
              "      <td>1</td>\n",
              "      <td>有</td>\n",
              "      <td>無</td>\n",
              "      <td>13010000</td>\n",
              "      <td>128532</td>\n",
              "      <td>NaN</td>\n",
              "      <td>0</td>\n",
              "      <td>0</td>\n",
              "      <td>陽台外推；其他增建；</td>\n",
              "      <td>RPRPMLLLMHGGFAA07DA</td>\n",
              "      <td>101.22</td>\n",
              "      <td>0.00</td>\n",
              "      <td>0.00</td>\n",
              "      <td>無</td>\n",
              "      <td>NaN</td>\n",
              "    </tr>\n",
              "    <tr>\n",
              "      <th>4</th>\n",
              "      <td>文山區</td>\n",
              "      <td>房地(土地+建物)+車位</td>\n",
              "      <td>興德路20巷31~60號</td>\n",
              "      <td>13.72</td>\n",
              "      <td>都市：其他:第參種商業區(依都市計畫說明書圖規定辦理，始得作第參種商業區使用)(原屬第貳種住...</td>\n",
              "      <td>NaN</td>\n",
              "      <td>NaN</td>\n",
              "      <td>1100327</td>\n",
              "      <td>土地2建物1車位1</td>\n",
              "      <td>七層</td>\n",
              "      <td>十二層</td>\n",
              "      <td>住宅大樓(11層含以上有電梯)</td>\n",
              "      <td>住家用</td>\n",
              "      <td>鋼筋混凝土造</td>\n",
              "      <td>1040611</td>\n",
              "      <td>92.31</td>\n",
              "      <td>2</td>\n",
              "      <td>2</td>\n",
              "      <td>1</td>\n",
              "      <td>有</td>\n",
              "      <td>有</td>\n",
              "      <td>13700000</td>\n",
              "      <td>148413</td>\n",
              "      <td>坡道平面</td>\n",
              "      <td>42.9</td>\n",
              "      <td>0</td>\n",
              "      <td>NaN</td>\n",
              "      <td>RPQPMLQJNHGGFAA37DA</td>\n",
              "      <td>27.51</td>\n",
              "      <td>1.23</td>\n",
              "      <td>4.34</td>\n",
              "      <td>有</td>\n",
              "      <td>1.0</td>\n",
              "    </tr>\n",
              "    <tr>\n",
              "      <th>5</th>\n",
              "      <td>文山區</td>\n",
              "      <td>房地(土地+建物)</td>\n",
              "      <td>興隆路三段207巷12弄1~30號</td>\n",
              "      <td>24.12</td>\n",
              "      <td>都市：其他:第二種住宅區。</td>\n",
              "      <td>NaN</td>\n",
              "      <td>NaN</td>\n",
              "      <td>1100325</td>\n",
              "      <td>土地1建物1車位0</td>\n",
              "      <td>二層</td>\n",
              "      <td>五層</td>\n",
              "      <td>公寓(5樓含以下無電梯)</td>\n",
              "      <td>住家用</td>\n",
              "      <td>鋼筋混凝土造</td>\n",
              "      <td>0730830</td>\n",
              "      <td>92.4</td>\n",
              "      <td>3</td>\n",
              "      <td>2</td>\n",
              "      <td>2</td>\n",
              "      <td>有</td>\n",
              "      <td>有</td>\n",
              "      <td>8300000</td>\n",
              "      <td>89827</td>\n",
              "      <td>NaN</td>\n",
              "      <td>0</td>\n",
              "      <td>0</td>\n",
              "      <td>陽台外推；</td>\n",
              "      <td>RPTNMLRJNHGGFAA57DA</td>\n",
              "      <td>68.53</td>\n",
              "      <td>0.00</td>\n",
              "      <td>14.11</td>\n",
              "      <td>無</td>\n",
              "      <td>2.0</td>\n",
              "    </tr>\n",
              "  </tbody>\n",
              "</table>\n",
              "</div>"
            ],
            "text/plain": [
              "  鄉鎮市區          交易標的       土地區段位置建物區段門牌 土地移轉總面積平方公尺  ... 附屬建物面積   陽台面積 電梯 移轉編號\n",
              "1  文山區     房地(土地+建物)   興隆路三段221巷4弄1~30號       58.99  ...   8.83   6.97  無  NaN\n",
              "2  文山區  房地(土地+建物)+車位     辛亥路四段209巷1~30號       17.67  ...   6.69   7.51  有  NaN\n",
              "3  文山區     房地(土地+建物)     羅斯福路五段97巷1~30號       44.25  ...   0.00   0.00  無  NaN\n",
              "4  文山區  房地(土地+建物)+車位       興德路20巷31~60號       13.72  ...   1.23   4.34  有  1.0\n",
              "5  文山區     房地(土地+建物)  興隆路三段207巷12弄1~30號       24.12  ...   0.00  14.11  無  2.0\n",
              "\n",
              "[5 rows x 33 columns]"
            ]
          },
          "metadata": {
            "tags": []
          },
          "execution_count": 60
        }
      ]
    },
    {
      "cell_type": "code",
      "metadata": {
        "colab": {
          "base_uri": "https://localhost:8080/"
        },
        "id": "HGYLS-ldDHY5",
        "outputId": "373bd70c-0631-44e8-e4df-7dec19c1ea7e"
      },
      "source": [
        "# 檢視各欄位的資料型態與缺失值狀況\n",
        "raw_data.info()"
      ],
      "execution_count": null,
      "outputs": [
        {
          "output_type": "stream",
          "text": [
            "<class 'pandas.core.frame.DataFrame'>\n",
            "Int64Index: 955 entries, 1 to 955\n",
            "Data columns (total 33 columns):\n",
            " #   Column         Non-Null Count  Dtype  \n",
            "---  ------         --------------  -----  \n",
            " 0   鄉鎮市區           955 non-null    object \n",
            " 1   交易標的           955 non-null    object \n",
            " 2   土地區段位置建物區段門牌   955 non-null    object \n",
            " 3   土地移轉總面積平方公尺    955 non-null    object \n",
            " 4   都市土地使用分區       950 non-null    object \n",
            " 5   非都市土地使用分區      0 non-null      object \n",
            " 6   非都市土地使用編定      0 non-null      object \n",
            " 7   交易年月日          955 non-null    object \n",
            " 8   交易筆棟數          955 non-null    object \n",
            " 9   移轉層次           882 non-null    object \n",
            " 10  總樓層數           881 non-null    object \n",
            " 11  建物型態           955 non-null    object \n",
            " 12  主要用途           866 non-null    object \n",
            " 13  主要建材           882 non-null    object \n",
            " 14  建築完成年月         824 non-null    object \n",
            " 15  建物移轉總面積平方公尺    955 non-null    object \n",
            " 16  建物現況格局-房       955 non-null    object \n",
            " 17  建物現況格局-廳       955 non-null    object \n",
            " 18  建物現況格局-衛       955 non-null    object \n",
            " 19  建物現況格局-隔間      955 non-null    object \n",
            " 20  有無管理組織         955 non-null    object \n",
            " 21  總價元            955 non-null    object \n",
            " 22  單價元平方公尺        923 non-null    object \n",
            " 23  車位類別           319 non-null    object \n",
            " 24  車位移轉總面積(平方公尺)  955 non-null    object \n",
            " 25  車位總價元          955 non-null    object \n",
            " 26  備註             593 non-null    object \n",
            " 27  編號             955 non-null    object \n",
            " 28  主建物面積          955 non-null    float64\n",
            " 29  附屬建物面積         955 non-null    float64\n",
            " 30  陽台面積           955 non-null    float64\n",
            " 31  電梯             955 non-null    object \n",
            " 32  移轉編號           337 non-null    float64\n",
            "dtypes: float64(4), object(29)\n",
            "memory usage: 253.7+ KB\n"
          ],
          "name": "stdout"
        }
      ]
    },
    {
      "cell_type": "markdown",
      "metadata": {
        "id": "fT3mVKsfWbTw"
      },
      "source": [
        "### Step 2 : 篩選欄位   \n",
        "\n",
        "從原始資料中篩選出【主要用途】、【建物現況格局-房】、【建物現況格局-廳】、【總價元】、【單價元平方公尺】五個欄位的資料。\n"
      ]
    },
    {
      "cell_type": "code",
      "metadata": {
        "colab": {
          "base_uri": "https://localhost:8080/"
        },
        "id": "KckIO_63WbTz",
        "outputId": "f78cb5fc-a307-4bd7-9508-6a8f257b0135"
      },
      "source": [
        "plot_df = raw_data[ ['主要用途','建物現況格局-房','建物現況格局-廳','總價元','單價元平方公尺'] ]\n",
        "plot_df"
      ],
      "execution_count": null,
      "outputs": [
        {
          "output_type": "execute_result",
          "data": {
            "text/html": [
              "<div>\n",
              "<style scoped>\n",
              "    .dataframe tbody tr th:only-of-type {\n",
              "        vertical-align: middle;\n",
              "    }\n",
              "\n",
              "    .dataframe tbody tr th {\n",
              "        vertical-align: top;\n",
              "    }\n",
              "\n",
              "    .dataframe thead th {\n",
              "        text-align: right;\n",
              "    }\n",
              "</style>\n",
              "<table border=\"1\" class=\"dataframe\">\n",
              "  <thead>\n",
              "    <tr style=\"text-align: right;\">\n",
              "      <th></th>\n",
              "      <th>主要用途</th>\n",
              "      <th>建物現況格局-房</th>\n",
              "      <th>建物現況格局-廳</th>\n",
              "      <th>總價元</th>\n",
              "      <th>單價元平方公尺</th>\n",
              "    </tr>\n",
              "  </thead>\n",
              "  <tbody>\n",
              "    <tr>\n",
              "      <th>1</th>\n",
              "      <td>住家用</td>\n",
              "      <td>3</td>\n",
              "      <td>2</td>\n",
              "      <td>15000000</td>\n",
              "      <td>151561</td>\n",
              "    </tr>\n",
              "    <tr>\n",
              "      <th>2</th>\n",
              "      <td>集合住宅</td>\n",
              "      <td>3</td>\n",
              "      <td>2</td>\n",
              "      <td>28890000</td>\n",
              "      <td>185680</td>\n",
              "    </tr>\n",
              "    <tr>\n",
              "      <th>3</th>\n",
              "      <td>NaN</td>\n",
              "      <td>4</td>\n",
              "      <td>2</td>\n",
              "      <td>13010000</td>\n",
              "      <td>128532</td>\n",
              "    </tr>\n",
              "    <tr>\n",
              "      <th>4</th>\n",
              "      <td>住家用</td>\n",
              "      <td>2</td>\n",
              "      <td>2</td>\n",
              "      <td>13700000</td>\n",
              "      <td>148413</td>\n",
              "    </tr>\n",
              "    <tr>\n",
              "      <th>5</th>\n",
              "      <td>住家用</td>\n",
              "      <td>3</td>\n",
              "      <td>2</td>\n",
              "      <td>8300000</td>\n",
              "      <td>89827</td>\n",
              "    </tr>\n",
              "    <tr>\n",
              "      <th>...</th>\n",
              "      <td>...</td>\n",
              "      <td>...</td>\n",
              "      <td>...</td>\n",
              "      <td>...</td>\n",
              "      <td>...</td>\n",
              "    </tr>\n",
              "    <tr>\n",
              "      <th>951</th>\n",
              "      <td>住家用</td>\n",
              "      <td>3</td>\n",
              "      <td>2</td>\n",
              "      <td>15580000</td>\n",
              "      <td>169791</td>\n",
              "    </tr>\n",
              "    <tr>\n",
              "      <th>952</th>\n",
              "      <td>住家用</td>\n",
              "      <td>4</td>\n",
              "      <td>2</td>\n",
              "      <td>24500000</td>\n",
              "      <td>115332</td>\n",
              "    </tr>\n",
              "    <tr>\n",
              "      <th>953</th>\n",
              "      <td>NaN</td>\n",
              "      <td>0</td>\n",
              "      <td>0</td>\n",
              "      <td>236775</td>\n",
              "      <td>43050</td>\n",
              "    </tr>\n",
              "    <tr>\n",
              "      <th>954</th>\n",
              "      <td>住家用</td>\n",
              "      <td>3</td>\n",
              "      <td>2</td>\n",
              "      <td>16400000</td>\n",
              "      <td>149444</td>\n",
              "    </tr>\n",
              "    <tr>\n",
              "      <th>955</th>\n",
              "      <td>集合住宅</td>\n",
              "      <td>3</td>\n",
              "      <td>2</td>\n",
              "      <td>13280000</td>\n",
              "      <td>150686</td>\n",
              "    </tr>\n",
              "  </tbody>\n",
              "</table>\n",
              "<p>955 rows × 5 columns</p>\n",
              "</div>"
            ],
            "text/plain": [
              "     主要用途 建物現況格局-房 建物現況格局-廳       總價元 單價元平方公尺\n",
              "1     住家用        3        2  15000000  151561\n",
              "2    集合住宅        3        2  28890000  185680\n",
              "3     NaN        4        2  13010000  128532\n",
              "4     住家用        2        2  13700000  148413\n",
              "5     住家用        3        2   8300000   89827\n",
              "..    ...      ...      ...       ...     ...\n",
              "951   住家用        3        2  15580000  169791\n",
              "952   住家用        4        2  24500000  115332\n",
              "953   NaN        0        0    236775   43050\n",
              "954   住家用        3        2  16400000  149444\n",
              "955  集合住宅        3        2  13280000  150686\n",
              "\n",
              "[955 rows x 5 columns]"
            ]
          },
          "metadata": {
            "tags": []
          },
          "execution_count": 62
        }
      ]
    },
    {
      "cell_type": "markdown",
      "metadata": {
        "id": "3zSlbHXnhd0W"
      },
      "source": [
        "### Step 3 : 缺失值( Missing Value )    "
      ]
    },
    {
      "cell_type": "code",
      "metadata": {
        "colab": {
          "base_uri": "https://localhost:8080/"
        },
        "id": "aKreRnfBhd0g",
        "outputId": "8d81469a-dd2e-4686-b593-d98b1f96e3f9"
      },
      "source": [
        "# 檢查欄位是否存有缺失值\n",
        "null_summary = plot_df.isnull().sum()\n",
        "null_summary"
      ],
      "execution_count": null,
      "outputs": [
        {
          "output_type": "execute_result",
          "data": {
            "text/plain": [
              "主要用途        89\n",
              "建物現況格局-房     0\n",
              "建物現況格局-廳     0\n",
              "總價元          0\n",
              "單價元平方公尺     32\n",
              "dtype: int64"
            ]
          },
          "metadata": {
            "tags": []
          },
          "execution_count": 63
        }
      ]
    },
    {
      "cell_type": "code",
      "metadata": {
        "id": "xJOum_oehk2_"
      },
      "source": [
        "# 刪除存有缺失值的整列資料\n",
        "plot_df = plot_df.dropna()"
      ],
      "execution_count": null,
      "outputs": []
    },
    {
      "cell_type": "code",
      "metadata": {
        "colab": {
          "base_uri": "https://localhost:8080/"
        },
        "id": "tsVwumzahqAw",
        "outputId": "c052dc0d-eee9-4cb2-e017-b6a569c78189"
      },
      "source": [
        "# 再次檢查欄位是否存有缺失值\n",
        "null_summary = plot_df.isnull().sum()\n",
        "null_summary"
      ],
      "execution_count": null,
      "outputs": [
        {
          "output_type": "execute_result",
          "data": {
            "text/plain": [
              "主要用途        0\n",
              "建物現況格局-房    0\n",
              "建物現況格局-廳    0\n",
              "總價元         0\n",
              "單價元平方公尺     0\n",
              "dtype: int64"
            ]
          },
          "metadata": {
            "tags": []
          },
          "execution_count": 65
        }
      ]
    },
    {
      "cell_type": "markdown",
      "metadata": {
        "id": "gATZiu3-buH7"
      },
      "source": [
        "### Step 4 : 檢視與轉換欄位型態"
      ]
    },
    {
      "cell_type": "code",
      "metadata": {
        "colab": {
          "base_uri": "https://localhost:8080/"
        },
        "id": "zWhGlbKcbuiL",
        "outputId": "74f514bd-b8b0-4d0a-e74a-c51d204376c5"
      },
      "source": [
        "# 檢視每個欄位的型態及非缺失的資料總數\n",
        "plot_df.info()"
      ],
      "execution_count": null,
      "outputs": [
        {
          "output_type": "stream",
          "text": [
            "<class 'pandas.core.frame.DataFrame'>\n",
            "Int64Index: 839 entries, 1 to 955\n",
            "Data columns (total 5 columns):\n",
            " #   Column    Non-Null Count  Dtype \n",
            "---  ------    --------------  ----- \n",
            " 0   主要用途      839 non-null    object\n",
            " 1   建物現況格局-房  839 non-null    object\n",
            " 2   建物現況格局-廳  839 non-null    object\n",
            " 3   總價元       839 non-null    object\n",
            " 4   單價元平方公尺   839 non-null    object\n",
            "dtypes: object(5)\n",
            "memory usage: 39.3+ KB\n"
          ],
          "name": "stdout"
        }
      ]
    },
    {
      "cell_type": "code",
      "metadata": {
        "colab": {
          "base_uri": "https://localhost:8080/",
          "height": 417
        },
        "id": "NIiLHl7vcUjn",
        "outputId": "07f249ac-e491-4dd8-ac37-070979eeca1c"
      },
      "source": [
        "# 轉換 '建物現況格局-房'、'建物現況格局-廳'、'總價元'、'單價元平方公尺' 四個欄位的型態成整數\n",
        "pd.options.mode.chained_assignment = None \n",
        "\n",
        "for col in ['建物現況格局-房','建物現況格局-廳','總價元','單價元平方公尺']: \n",
        "    plot_df[col] = plot_df[col].astype('int32')\n",
        "\n",
        "plot_df"
      ],
      "execution_count": null,
      "outputs": [
        {
          "output_type": "execute_result",
          "data": {
            "text/html": [
              "<div>\n",
              "<style scoped>\n",
              "    .dataframe tbody tr th:only-of-type {\n",
              "        vertical-align: middle;\n",
              "    }\n",
              "\n",
              "    .dataframe tbody tr th {\n",
              "        vertical-align: top;\n",
              "    }\n",
              "\n",
              "    .dataframe thead th {\n",
              "        text-align: right;\n",
              "    }\n",
              "</style>\n",
              "<table border=\"1\" class=\"dataframe\">\n",
              "  <thead>\n",
              "    <tr style=\"text-align: right;\">\n",
              "      <th></th>\n",
              "      <th>主要用途</th>\n",
              "      <th>建物現況格局-房</th>\n",
              "      <th>建物現況格局-廳</th>\n",
              "      <th>總價元</th>\n",
              "      <th>單價元平方公尺</th>\n",
              "    </tr>\n",
              "  </thead>\n",
              "  <tbody>\n",
              "    <tr>\n",
              "      <th>1</th>\n",
              "      <td>住家用</td>\n",
              "      <td>3</td>\n",
              "      <td>2</td>\n",
              "      <td>15000000</td>\n",
              "      <td>151561</td>\n",
              "    </tr>\n",
              "    <tr>\n",
              "      <th>2</th>\n",
              "      <td>集合住宅</td>\n",
              "      <td>3</td>\n",
              "      <td>2</td>\n",
              "      <td>28890000</td>\n",
              "      <td>185680</td>\n",
              "    </tr>\n",
              "    <tr>\n",
              "      <th>4</th>\n",
              "      <td>住家用</td>\n",
              "      <td>2</td>\n",
              "      <td>2</td>\n",
              "      <td>13700000</td>\n",
              "      <td>148413</td>\n",
              "    </tr>\n",
              "    <tr>\n",
              "      <th>5</th>\n",
              "      <td>住家用</td>\n",
              "      <td>3</td>\n",
              "      <td>2</td>\n",
              "      <td>8300000</td>\n",
              "      <td>89827</td>\n",
              "    </tr>\n",
              "    <tr>\n",
              "      <th>8</th>\n",
              "      <td>住家用</td>\n",
              "      <td>1</td>\n",
              "      <td>2</td>\n",
              "      <td>11700000</td>\n",
              "      <td>273941</td>\n",
              "    </tr>\n",
              "    <tr>\n",
              "      <th>...</th>\n",
              "      <td>...</td>\n",
              "      <td>...</td>\n",
              "      <td>...</td>\n",
              "      <td>...</td>\n",
              "      <td>...</td>\n",
              "    </tr>\n",
              "    <tr>\n",
              "      <th>950</th>\n",
              "      <td>住家用</td>\n",
              "      <td>4</td>\n",
              "      <td>2</td>\n",
              "      <td>39890000</td>\n",
              "      <td>142013</td>\n",
              "    </tr>\n",
              "    <tr>\n",
              "      <th>951</th>\n",
              "      <td>住家用</td>\n",
              "      <td>3</td>\n",
              "      <td>2</td>\n",
              "      <td>15580000</td>\n",
              "      <td>169791</td>\n",
              "    </tr>\n",
              "    <tr>\n",
              "      <th>952</th>\n",
              "      <td>住家用</td>\n",
              "      <td>4</td>\n",
              "      <td>2</td>\n",
              "      <td>24500000</td>\n",
              "      <td>115332</td>\n",
              "    </tr>\n",
              "    <tr>\n",
              "      <th>954</th>\n",
              "      <td>住家用</td>\n",
              "      <td>3</td>\n",
              "      <td>2</td>\n",
              "      <td>16400000</td>\n",
              "      <td>149444</td>\n",
              "    </tr>\n",
              "    <tr>\n",
              "      <th>955</th>\n",
              "      <td>集合住宅</td>\n",
              "      <td>3</td>\n",
              "      <td>2</td>\n",
              "      <td>13280000</td>\n",
              "      <td>150686</td>\n",
              "    </tr>\n",
              "  </tbody>\n",
              "</table>\n",
              "<p>839 rows × 5 columns</p>\n",
              "</div>"
            ],
            "text/plain": [
              "     主要用途  建物現況格局-房  建物現況格局-廳       總價元  單價元平方公尺\n",
              "1     住家用         3         2  15000000   151561\n",
              "2    集合住宅         3         2  28890000   185680\n",
              "4     住家用         2         2  13700000   148413\n",
              "5     住家用         3         2   8300000    89827\n",
              "8     住家用         1         2  11700000   273941\n",
              "..    ...       ...       ...       ...      ...\n",
              "950   住家用         4         2  39890000   142013\n",
              "951   住家用         3         2  15580000   169791\n",
              "952   住家用         4         2  24500000   115332\n",
              "954   住家用         3         2  16400000   149444\n",
              "955  集合住宅         3         2  13280000   150686\n",
              "\n",
              "[839 rows x 5 columns]"
            ]
          },
          "metadata": {
            "tags": []
          },
          "execution_count": 67
        }
      ]
    },
    {
      "cell_type": "markdown",
      "metadata": {
        "id": "yRVysPYcamno"
      },
      "source": [
        "### Step 5 : 篩選資料   \n",
        "\n",
        "篩選出下列條件的資料 : \n",
        "- 【主要用途】為 '住家用'  \n",
        "- 【建物現況格局-房】為 1 到 3 房    \n",
        "- 【建物現況格局-廳】為 1 到 2 廳  \n"
      ]
    },
    {
      "cell_type": "code",
      "metadata": {
        "colab": {
          "base_uri": "https://localhost:8080/"
        },
        "id": "SZh4ceGSDxqz",
        "outputId": "806a51a9-51b5-459e-e65e-b12a34d9e444"
      },
      "source": [
        "plot_df['主要用途'].unique()"
      ],
      "execution_count": null,
      "outputs": [
        {
          "output_type": "execute_result",
          "data": {
            "text/plain": [
              "array(['住家用', '集合住宅', '一般事務所（Ｇ－２）', '獨立住宅', '（Ｈ２）集合住宅', '商業用', '一般事務所',\n",
              "       '見使用執照', '策略性產業（資訊服務業）', '工業用', '策略性產業〈資訊服務業〉', '停車空間', '自由職業事務所',\n",
              "       '多戶住宅', '一般事務所，機房', '策略性產業〈２８組資訊服務業〉', '一般事務所（Ｇ２）', '住商用', '一般零售業',\n",
              "       '住宅、停車空間、水箱', '辦公室', '（Ｈ２）集合住宅，第二組：多戶住宅', '多戶住宅，（Ｈ２）集合住宅',\n",
              "       '多戶住宅、住宅'], dtype=object)"
            ]
          },
          "metadata": {
            "tags": []
          },
          "execution_count": 68
        }
      ]
    },
    {
      "cell_type": "code",
      "metadata": {
        "colab": {
          "base_uri": "https://localhost:8080/"
        },
        "id": "LEizHN3-amnv",
        "outputId": "65920397-a887-40b7-b644-ea749ffa5fd7"
      },
      "source": [
        "plot_df = plot_df[ (plot_df['主要用途']=='住家用')&(plot_df['建物現況格局-房']>=1)&(plot_df['建物現況格局-房']<=3)&(plot_df['建物現況格局-廳']>=1)&(plot_df['建物現況格局-廳']<=2) ]\n",
        "plot_df"
      ],
      "execution_count": null,
      "outputs": [
        {
          "output_type": "execute_result",
          "data": {
            "text/html": [
              "<div>\n",
              "<style scoped>\n",
              "    .dataframe tbody tr th:only-of-type {\n",
              "        vertical-align: middle;\n",
              "    }\n",
              "\n",
              "    .dataframe tbody tr th {\n",
              "        vertical-align: top;\n",
              "    }\n",
              "\n",
              "    .dataframe thead th {\n",
              "        text-align: right;\n",
              "    }\n",
              "</style>\n",
              "<table border=\"1\" class=\"dataframe\">\n",
              "  <thead>\n",
              "    <tr style=\"text-align: right;\">\n",
              "      <th></th>\n",
              "      <th>主要用途</th>\n",
              "      <th>建物現況格局-房</th>\n",
              "      <th>建物現況格局-廳</th>\n",
              "      <th>總價元</th>\n",
              "      <th>單價元平方公尺</th>\n",
              "    </tr>\n",
              "  </thead>\n",
              "  <tbody>\n",
              "    <tr>\n",
              "      <th>1</th>\n",
              "      <td>住家用</td>\n",
              "      <td>3</td>\n",
              "      <td>2</td>\n",
              "      <td>15000000</td>\n",
              "      <td>151561</td>\n",
              "    </tr>\n",
              "    <tr>\n",
              "      <th>4</th>\n",
              "      <td>住家用</td>\n",
              "      <td>2</td>\n",
              "      <td>2</td>\n",
              "      <td>13700000</td>\n",
              "      <td>148413</td>\n",
              "    </tr>\n",
              "    <tr>\n",
              "      <th>5</th>\n",
              "      <td>住家用</td>\n",
              "      <td>3</td>\n",
              "      <td>2</td>\n",
              "      <td>8300000</td>\n",
              "      <td>89827</td>\n",
              "    </tr>\n",
              "    <tr>\n",
              "      <th>8</th>\n",
              "      <td>住家用</td>\n",
              "      <td>1</td>\n",
              "      <td>2</td>\n",
              "      <td>11700000</td>\n",
              "      <td>273941</td>\n",
              "    </tr>\n",
              "    <tr>\n",
              "      <th>9</th>\n",
              "      <td>住家用</td>\n",
              "      <td>2</td>\n",
              "      <td>2</td>\n",
              "      <td>38300000</td>\n",
              "      <td>344208</td>\n",
              "    </tr>\n",
              "    <tr>\n",
              "      <th>...</th>\n",
              "      <td>...</td>\n",
              "      <td>...</td>\n",
              "      <td>...</td>\n",
              "      <td>...</td>\n",
              "      <td>...</td>\n",
              "    </tr>\n",
              "    <tr>\n",
              "      <th>947</th>\n",
              "      <td>住家用</td>\n",
              "      <td>3</td>\n",
              "      <td>2</td>\n",
              "      <td>13000000</td>\n",
              "      <td>130026</td>\n",
              "    </tr>\n",
              "    <tr>\n",
              "      <th>948</th>\n",
              "      <td>住家用</td>\n",
              "      <td>3</td>\n",
              "      <td>2</td>\n",
              "      <td>9850000</td>\n",
              "      <td>106602</td>\n",
              "    </tr>\n",
              "    <tr>\n",
              "      <th>949</th>\n",
              "      <td>住家用</td>\n",
              "      <td>1</td>\n",
              "      <td>1</td>\n",
              "      <td>9500000</td>\n",
              "      <td>165476</td>\n",
              "    </tr>\n",
              "    <tr>\n",
              "      <th>951</th>\n",
              "      <td>住家用</td>\n",
              "      <td>3</td>\n",
              "      <td>2</td>\n",
              "      <td>15580000</td>\n",
              "      <td>169791</td>\n",
              "    </tr>\n",
              "    <tr>\n",
              "      <th>954</th>\n",
              "      <td>住家用</td>\n",
              "      <td>3</td>\n",
              "      <td>2</td>\n",
              "      <td>16400000</td>\n",
              "      <td>149444</td>\n",
              "    </tr>\n",
              "  </tbody>\n",
              "</table>\n",
              "<p>455 rows × 5 columns</p>\n",
              "</div>"
            ],
            "text/plain": [
              "    主要用途  建物現況格局-房  建物現況格局-廳       總價元  單價元平方公尺\n",
              "1    住家用         3         2  15000000   151561\n",
              "4    住家用         2         2  13700000   148413\n",
              "5    住家用         3         2   8300000    89827\n",
              "8    住家用         1         2  11700000   273941\n",
              "9    住家用         2         2  38300000   344208\n",
              "..   ...       ...       ...       ...      ...\n",
              "947  住家用         3         2  13000000   130026\n",
              "948  住家用         3         2   9850000   106602\n",
              "949  住家用         1         1   9500000   165476\n",
              "951  住家用         3         2  15580000   169791\n",
              "954  住家用         3         2  16400000   149444\n",
              "\n",
              "[455 rows x 5 columns]"
            ]
          },
          "metadata": {
            "tags": []
          },
          "execution_count": 69
        }
      ]
    },
    {
      "cell_type": "markdown",
      "metadata": {
        "id": "yUgyQ72MW8Np"
      },
      "source": [
        "### Step 6 : 繪製直方圖 "
      ]
    },
    {
      "cell_type": "markdown",
      "metadata": {
        "id": "1zBuV5ZziR7P"
      },
      "source": [
        "關於總價的直方圖 : "
      ]
    },
    {
      "cell_type": "code",
      "metadata": {
        "colab": {
          "base_uri": "https://localhost:8080/"
        },
        "id": "KdzgmehuW8Ns",
        "outputId": "8a63a55f-cc91-44f3-8da6-988cd94e8ee3"
      },
      "source": [
        "# 直方圖 Histograms \n",
        "plt.hist( plot_df['總價元'], bins=20 )\n",
        "plt.show()"
      ],
      "execution_count": null,
      "outputs": [
        {
          "output_type": "display_data",
          "data": {
            "image/png": "[encoded data removed]",
            "text/plain": [
              "<Figure size 432x288 with 1 Axes>"
            ]
          },
          "metadata": {
            "tags": [],
            "needs_background": "light"
          }
        }
      ]
    },
    {
      "cell_type": "markdown",
      "metadata": {
        "id": "ky9xr6Z5ialH"
      },
      "source": [
        "關於每坪價格的直方圖 :  \n",
        "- 註 : 1平方公尺 = 0.3025坪"
      ]
    },
    {
      "cell_type": "code",
      "metadata": {
        "colab": {
          "base_uri": "https://localhost:8080/"
        },
        "id": "qb0251qTEbdm",
        "outputId": "7cb30f68-7a77-45f9-8832-0a5985410ffe"
      },
      "source": [
        "# 轉換單價的面積單位為坪\n",
        "plot_df['單價元坪'] = plot_df['單價元平方公尺']/0.3025\n",
        "plot_df.head()"
      ],
      "execution_count": null,
      "outputs": [
        {
          "output_type": "execute_result",
          "data": {
            "text/html": [
              "<div>\n",
              "<style scoped>\n",
              "    .dataframe tbody tr th:only-of-type {\n",
              "        vertical-align: middle;\n",
              "    }\n",
              "\n",
              "    .dataframe tbody tr th {\n",
              "        vertical-align: top;\n",
              "    }\n",
              "\n",
              "    .dataframe thead th {\n",
              "        text-align: right;\n",
              "    }\n",
              "</style>\n",
              "<table border=\"1\" class=\"dataframe\">\n",
              "  <thead>\n",
              "    <tr style=\"text-align: right;\">\n",
              "      <th></th>\n",
              "      <th>主要用途</th>\n",
              "      <th>建物現況格局-房</th>\n",
              "      <th>建物現況格局-廳</th>\n",
              "      <th>總價元</th>\n",
              "      <th>單價元平方公尺</th>\n",
              "      <th>單價元坪</th>\n",
              "    </tr>\n",
              "  </thead>\n",
              "  <tbody>\n",
              "    <tr>\n",
              "      <th>1</th>\n",
              "      <td>住家用</td>\n",
              "      <td>3</td>\n",
              "      <td>2</td>\n",
              "      <td>15000000</td>\n",
              "      <td>151561</td>\n",
              "      <td>5.010281e+05</td>\n",
              "    </tr>\n",
              "    <tr>\n",
              "      <th>4</th>\n",
              "      <td>住家用</td>\n",
              "      <td>2</td>\n",
              "      <td>2</td>\n",
              "      <td>13700000</td>\n",
              "      <td>148413</td>\n",
              "      <td>4.906215e+05</td>\n",
              "    </tr>\n",
              "    <tr>\n",
              "      <th>5</th>\n",
              "      <td>住家用</td>\n",
              "      <td>3</td>\n",
              "      <td>2</td>\n",
              "      <td>8300000</td>\n",
              "      <td>89827</td>\n",
              "      <td>2.969488e+05</td>\n",
              "    </tr>\n",
              "    <tr>\n",
              "      <th>8</th>\n",
              "      <td>住家用</td>\n",
              "      <td>1</td>\n",
              "      <td>2</td>\n",
              "      <td>11700000</td>\n",
              "      <td>273941</td>\n",
              "      <td>9.055901e+05</td>\n",
              "    </tr>\n",
              "    <tr>\n",
              "      <th>9</th>\n",
              "      <td>住家用</td>\n",
              "      <td>2</td>\n",
              "      <td>2</td>\n",
              "      <td>38300000</td>\n",
              "      <td>344208</td>\n",
              "      <td>1.137878e+06</td>\n",
              "    </tr>\n",
              "  </tbody>\n",
              "</table>\n",
              "</div>"
            ],
            "text/plain": [
              "  主要用途  建物現況格局-房  建物現況格局-廳       總價元  單價元平方公尺          單價元坪\n",
              "1  住家用         3         2  15000000   151561  5.010281e+05\n",
              "4  住家用         2         2  13700000   148413  4.906215e+05\n",
              "5  住家用         3         2   8300000    89827  2.969488e+05\n",
              "8  住家用         1         2  11700000   273941  9.055901e+05\n",
              "9  住家用         2         2  38300000   344208  1.137878e+06"
            ]
          },
          "metadata": {
            "tags": []
          },
          "execution_count": 71
        }
      ]
    },
    {
      "cell_type": "code",
      "metadata": {
        "colab": {
          "base_uri": "https://localhost:8080/"
        },
        "id": "3iU4ptBaijDU",
        "outputId": "691a6e23-0365-4217-ee9e-41e79d232548"
      },
      "source": [
        "# 直方圖 Histograms \n",
        "plt.hist( plot_df['單價元坪'], bins=20 )\n",
        "plt.show()"
      ],
      "execution_count": null,
      "outputs": [
        {
          "output_type": "display_data",
          "data": {
            "image/png": "[encoded data removed]",
            "text/plain": [
              "<Figure size 432x288 with 1 Axes>"
            ]
          },
          "metadata": {
            "tags": [],
            "needs_background": "light"
          }
        }
      ]
    },
    {
      "cell_type": "markdown",
      "metadata": {
        "id": "xyBIq1s3mmpe"
      },
      "source": [
        "# 其他繪圖相關設定   \n",
        "\n",
        "下列將介紹繪圖基本的設置 : \n",
        "  * 增加圖標題與座標軸的標籤；\n",
        "  * 增加圖中的圖例與說迷文字；\n",
        "  * 調整座標軸的範圍與刻度；\n",
        "  * 改變繪圖的基底風格；\n",
        "  * 儲存繪製完成的圖表。"
      ]
    },
    {
      "cell_type": "markdown",
      "metadata": {
        "id": "lHClgjLUN3ID"
      },
      "source": [
        "## 圖標題與座標軸的標籤  \n",
        "\n",
        "[`matplotlib.pyplot.title()`](https://matplotlib.org/3.1.1/api/_as_gen/matplotlib.pyplot.title.html) 函數可用來設定圖表上方的標題，另外， [`matplotlib.pyplot.xlabel()`](https://matplotlib.org/3.1.1/api/_as_gen/matplotlib.pyplot.xlabel.html) 與 [`matplotlib.pyplot.ylabel()`](https://matplotlib.org/3.1.1/api/_as_gen/matplotlib.pyplot.ylabel.html) 可分別用來添增 x 軸與 y 軸的標籤，各函數的功能與其參數說明如下 :    \n",
        "* `plt.title( label, loc='center', pad )` 設定圖標題 : \n",
        "  * label : 標題內容；  \n",
        "  * loc : 標題位置( 'center' 置中/ 'left' 靠左/ 'right' 靠右 )；\n",
        "  * pad : 標題與圖之間的距離；    \n",
        "* `plt.xlabel( )` 設定 x 座標軸的標籤；     \n",
        "* `plt.ylabel( )` 設定 y 座標軸的標籤。   "
      ]
    },
    {
      "cell_type": "code",
      "metadata": {
        "id": "INKSVmcTaMQn",
        "colab": {
          "base_uri": "https://localhost:8080/"
        },
        "outputId": "dd0e63de-3535-4220-deef-325aabba98f6"
      },
      "source": [
        "# Data \n",
        "x = np.arange(0,5,0.001)\n",
        "y = x**2 \n",
        "\n",
        "# Line chart\n",
        "plt.plot( x, y, linestyle='-' )\n",
        "\n",
        "# Title\n",
        "plt.title( 'y=x^2 \\n Line Chart', loc='right', pad=20 )\n",
        "# x label\n",
        "plt.xlabel( 'x' )\n",
        "# y label\n",
        "plt.ylabel( 'y' )\n",
        "\n",
        "plt.show()"
      ],
      "execution_count": null,
      "outputs": [
        {
          "output_type": "display_data",
          "data": {
            "image/png": "[encoded data removed]",
            "text/plain": [
              "<Figure size 432x288 with 1 Axes>"
            ]
          },
          "metadata": {
            "tags": [],
            "needs_background": "light"
          }
        }
      ]
    },
    {
      "cell_type": "markdown",
      "metadata": {
        "id": "o8MnK317avNt"
      },
      "source": [
        "## 圖中的說明圖例  \n",
        "\n",
        "[`matplotlib.pyplot.legend()`](https://matplotlib.org/stable/api/_as_gen/matplotlib.pyplot.legend.html) 函數搭配各種繪圖函數中的 `label` 參數設定，則可在圖中顯示圖例的內容 :   "
      ]
    },
    {
      "cell_type": "code",
      "metadata": {
        "colab": {
          "base_uri": "https://localhost:8080/"
        },
        "id": "K2hvQp1GQBf5",
        "outputId": "33f86932-d10d-4e48-8575-37ee7c13ffff"
      },
      "source": [
        "# Data \n",
        "x = np.linspace( 0, 2*np.pi, num=80 )\n",
        "y1 = np.cos( x )\n",
        "y2 = np.sin( x )\n",
        "\n",
        "# Scatter Plot \n",
        "plt.scatter( x, y1, c='r', marker='*', edgecolors='none', label='cos(x)' )\n",
        "plt.scatter( x, y2, c='b', marker='o', edgecolors='none', label='sin(x)' )\n",
        "\n",
        "# Legend\n",
        "plt.legend()\n",
        "\n",
        "plt.show()"
      ],
      "execution_count": null,
      "outputs": [
        {
          "output_type": "display_data",
          "data": {
            "image/png": "[encoded data removed]",
            "text/plain": [
              "<Figure size 432x288 with 1 Axes>"
            ]
          },
          "metadata": {
            "tags": [],
            "needs_background": "light"
          }
        }
      ]
    },
    {
      "cell_type": "markdown",
      "metadata": {
        "id": "sZcR0EvHX1mV"
      },
      "source": [
        "## 圖中的說明文字  \n",
        "\n",
        "使用 [`matplotlib.pyplot.text( x, y, s, fontsize )`](https://matplotlib.org/stable/api/_as_gen/matplotlib.pyplot.text.html) 函數可在圖中加入說明文字，參數說明如下 :  \n",
        "  * x, y : 說明文字在圖中的座標位置；  \n",
        "  * s : 說明文字的內容；  \n",
        "  * fontsize : 說明文字的大小。 "
      ]
    },
    {
      "cell_type": "code",
      "metadata": {
        "id": "ftXREkdmUzih",
        "colab": {
          "base_uri": "https://localhost:8080/"
        },
        "outputId": "468878c6-da80-4dc5-a996-3ac266cb783d"
      },
      "source": [
        "# Data \n",
        "x = np.arange(0,5,1)\n",
        "y = x**2 \n",
        "\n",
        "# Line chart\n",
        "plt.plot( x, y, linestyle='-' )\n",
        "\n",
        "# Text \n",
        "plt.text( 1, 8, 'Line Chart', fontsize=20 )\n",
        "\n",
        "plt.show()"
      ],
      "execution_count": null,
      "outputs": [
        {
          "output_type": "display_data",
          "data": {
            "image/png": "[encoded data removed]",
            "text/plain": [
              "<Figure size 432x288 with 1 Axes>"
            ]
          },
          "metadata": {
            "tags": [],
            "needs_background": "light"
          }
        }
      ]
    },
    {
      "cell_type": "markdown",
      "metadata": {
        "id": "wVhF6CYrCNzH"
      },
      "source": [
        "## 座標軸的範圍與刻度   \n",
        "\n",
        "* 設定 x-y 座標軸的範圍 : `plt.axis( [xmin,xmax,ymin,ymax] )` ，其中， `[xmin,xmax,ymin,ymax]` 分別為 x 軸與 y 軸最小值、最大值；      \n",
        "* 僅設定 x 座標軸的範圍 : `plt.xlim( [xmin,xmax] )` ，其中， `[xmin,xmax]` 為 x 軸最小值至最大值的範圍；   \n",
        "* 僅設定 y 座標軸的範圍 : `plt.ylim( [ymin,ymax] )` ，其中， `[ymin,ymax]` 為 y 軸最小值至最大值的範圍；   \n",
        "* 設定 x 座標軸的刻度 : `plt.xticks( locs, labels )` ，其中， `locs` 用以設定 x 軸的刻度單位、`labels` 可用以設定每個刻度的標籤；\n",
        "* 設定 y 座標軸的刻度 : `plt.yticks( locs, labels )` ，其中， `locs` 用以設定 y 軸刻度單位、`labels` 可用以設定每個刻度的標籤；  \n",
        "* 顯示直角坐標平面的格線 : `plt.grid( axis )` ，其中，若 `axis='x'` 表示僅顯示 x 軸的格線， `axis='y'` 表示僅顯示 y 軸的格線， `axis='both'` 表示同時顯示 x 軸與 y 軸的格線。  "
      ]
    },
    {
      "cell_type": "code",
      "metadata": {
        "id": "2uiScNrcONqt",
        "colab": {
          "base_uri": "https://localhost:8080/"
        },
        "outputId": "8cfc369a-af6e-46c8-b0a3-3d29d3d686ca"
      },
      "source": [
        "# Data \n",
        "x = np.linspace( 0, 2*np.pi, num=80 )\n",
        "y1 = np.cos( x )\n",
        "y2 = np.sin( x )\n",
        "\n",
        "# Scatter Plot \n",
        "plt.scatter( x, y1, c='r', marker='*', edgecolors='none', label='cos(x)' )\n",
        "plt.scatter( x, y2, c='b', marker='o', edgecolors='none', label='sin(x)' )\n",
        "plt.legend()\n",
        "\n",
        "# Range of x-axis\n",
        "plt.xlim( [0,2*np.pi] )\n",
        "# Tick locations and labels of the x-axis\n",
        "plt.xticks( np.arange(0,2*np.pi,np.pi/2), labels=('[0,pi/2)','[pi/2,pi)','[pi,3*pi/2)','[3*pi/2,2*pi)') ) \n",
        "# Grid\n",
        "plt.grid( axis='x' )\n",
        "\n",
        "plt.show()"
      ],
      "execution_count": null,
      "outputs": [
        {
          "output_type": "display_data",
          "data": {
            "image/png": "[encoded data removed]",
            "text/plain": [
              "<Figure size 432x288 with 1 Axes>"
            ]
          },
          "metadata": {
            "tags": [],
            "needs_background": "light"
          }
        }
      ]
    },
    {
      "cell_type": "markdown",
      "metadata": {
        "id": "cW5XGwNLgsm8"
      },
      "source": [
        "## 圖表風格  \n",
        "\n",
        "`plt.style.use( )` 可設定作圖的風格，風格的樣式請參考 [Style sheets reference](https://matplotlib.org/stable/gallery/style_sheets/style_sheets_reference.html) :"
      ]
    },
    {
      "cell_type": "code",
      "metadata": {
        "id": "zUBy3ZKAXM3L",
        "colab": {
          "base_uri": "https://localhost:8080/"
        },
        "outputId": "f294d6b4-a54c-407d-9bfb-fb3064a128c7"
      },
      "source": [
        "# seaborn Style\n",
        "plt.style.use( 'seaborn' )\n",
        "\n",
        "# Data \n",
        "Products = ['Apple','Orange','Bananas','Mango','Watermelo']\n",
        "Amount = [23,18,35,15,9] \n",
        "\n",
        "# Pie Chart\n",
        "plt.pie( x=Amount, labels=Products, autopct='%1.1f%%', explode=(0,0,0.1,0,0), shadow=True )\n",
        "plt.show()"
      ],
      "execution_count": null,
      "outputs": [
        {
          "output_type": "display_data",
          "data": {
            "image/png": "[encoded data removed]",
            "text/plain": [
              "<Figure size 576x396 with 1 Axes>"
            ]
          },
          "metadata": {
            "tags": []
          }
        }
      ]
    },
    {
      "cell_type": "code",
      "metadata": {
        "id": "lkcVtdxUdspz",
        "colab": {
          "base_uri": "https://localhost:8080/"
        },
        "outputId": "303b4a83-f426-499d-bcfe-254d9a6092a2"
      },
      "source": [
        "# grayscale Style\n",
        "plt.style.use( 'grayscale' )\n",
        "\n",
        "# Data \n",
        "Products = ['Apple','Orange','Bananas','Mango','Watermelo']\n",
        "Amount = [23,18,35,15,9] \n",
        "\n",
        "# Pie Chart\n",
        "plt.pie( x=Amount, labels=Products, autopct='%1.1f%%', explode=(0,0,0.1,0,0), shadow=True )\n",
        "plt.show()"
      ],
      "execution_count": null,
      "outputs": [
        {
          "output_type": "display_data",
          "data": {
            "image/png": "[encoded data removed]",
            "text/plain": [
              "<Figure size 576x396 with 1 Axes>"
            ]
          },
          "metadata": {
            "tags": []
          }
        }
      ]
    },
    {
      "cell_type": "markdown",
      "metadata": {
        "id": "npDE9TJ5nhkj"
      },
      "source": [
        "## 儲存圖表  \n",
        "\n",
        "[`matplotlib.pyplot.savefig( fname ,format )`](https://matplotlib.org/stable/api/_as_gen/matplotlib.pyplot.savefig.html) 函數可將繪製完成的圖表，儲存成不同格式的圖檔，常用的圖檔格式有 : .png、.jpg、.svg 等，參數說明如下 :    \n",
        "  * fname : 圖檔的檔名(包含副檔名)；  \n",
        "  * format : 圖檔的格式，例如: 'png'、'jpg' 等。"
      ]
    },
    {
      "cell_type": "code",
      "metadata": {
        "id": "uARczR2uodNn",
        "colab": {
          "base_uri": "https://localhost:8080/"
        },
        "outputId": "e713c37e-c4f2-4985-b379-024444b55a4a"
      },
      "source": [
        "plt.style.use( 'default' )\n",
        "\n",
        "# Data \n",
        "x = np.arange(0,8,2)\n",
        "y = x**2 \n",
        "\n",
        "# Line chart\n",
        "plt.plot( x, y, linestyle='-', label='Increase' )\n",
        "plt.legend() \n",
        "plt.title( 'Line Chart' )\n",
        "\n",
        "# Save image\n",
        "plt.savefig( fname='LineChart.jpg', format='jpg' )\n",
        "plt.show()"
      ],
      "execution_count": null,
      "outputs": [
        {
          "output_type": "display_data",
          "data": {
            "image/png": "[encoded data removed]",
            "text/plain": [
              "<Figure size 640x480 with 1 Axes>"
            ]
          },
          "metadata": {
            "tags": []
          }
        }
      ]
    },
    {
      "cell_type": "markdown",
      "metadata": {
        "id": "DkkXDDiZOKLK"
      },
      "source": [
        "## 繪製多張圖表  \n",
        "\n",
        "使用 [`matplotlib.pyplot.subplot( nrows, ncols, index )`](https://matplotlib.org/stable/api/_as_gen/matplotlib.pyplot.subplot.html) 函數可在同一個視窗中繪製多張圖表，參數說明如下 :  \n",
        "* nrows : 子圖表的列數； \n",
        "* ncols : 子圖表的行數；\n",
        "* index : 進行子圖表繪圖的位置。\n",
        "\n"
      ]
    },
    {
      "cell_type": "code",
      "metadata": {
        "id": "G_YyX_IBZEeU",
        "colab": {
          "base_uri": "https://localhost:8080/",
          "height": 430
        },
        "outputId": "9d6fea5e-932e-48f1-c7c6-f05a9cb0f17c"
      },
      "source": [
        "# Data \n",
        "x = np.linspace(0,20,100)\n",
        "\n",
        "# Plot y=x, y=x^2, and y=sin(x)\n",
        "plt.subplot(221)\n",
        "plt.plot( x, x, label='y=x' )\n",
        "plt.legend()\n",
        "\n",
        "plt.subplot(222)\n",
        "plt.plot( x, x**2, label='y=x^2' )\n",
        "plt.legend()\n",
        "\n",
        "plt.subplot(212)\n",
        "plt.plot( x, np.cos(x), label='y=cos(x)' )\n",
        "plt.legend()\n",
        "\n",
        "plt.show()"
      ],
      "execution_count": null,
      "outputs": [
        {
          "output_type": "display_data",
          "data": {
            "image/png": "[encoded data removed]",
            "text/plain": [
              "<Figure size 640x480 with 3 Axes>"
            ]
          },
          "metadata": {
            "tags": []
          }
        }
      ]
    },
    {
      "cell_type": "markdown",
      "metadata": {
        "id": "G9-Ko0A--XP4"
      },
      "source": [
        "# 結語   \n",
        "\n",
        "本文介紹了 <font color=\"#00dd00\">**Matplotlib**</font> 套件中基本的繪圖操作，此時我們已學會如何繪製常見的統計圖表、及繪圖的相關設定方法。\n",
        "在資料分析的過程中，資料視覺化除能具體呈現資料分析的結果，在分析過程中，也能運用來洞悉資料中微妙的關聯，藉由圖與統計表的搭配運用，更有機會能挖掘出潛藏在資料中的秘密。  \n",
        "針對本文的內容，若讀者們有發現任何的錯誤或疑問，非常歡迎您[來信( yenlinwu1112@gmail.com )](mailto:yenlinwu1112@gmail.com )給予建議及討論，讓我們一同來學習成長！"
      ]
    },
    {
      "cell_type": "markdown",
      "metadata": {
        "id": "DMvBSI6P-Xfz"
      },
      "source": [
        "# 返回 [大綱](https://github.com/YenLinWu/Machine_Learning_Basic)"
      ]
    }
  ]
}